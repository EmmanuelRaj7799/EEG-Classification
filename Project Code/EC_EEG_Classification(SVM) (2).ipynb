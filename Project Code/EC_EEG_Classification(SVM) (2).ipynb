{
  "nbformat": 4,
  "nbformat_minor": 0,
  "metadata": {
    "colab": {
      "name": "2022-6-2 EC EEG Classification(SVM).ipynb",
      "provenance": [],
      "collapsed_sections": []
    },
    "kernelspec": {
      "name": "python3",
      "display_name": "Python 3"
    },
    "language_info": {
      "name": "python"
    },
    "accelerator": "GPU",
    "gpuClass": "standard"
  },
  "cells": [
    {
      "cell_type": "markdown",
      "source": [
        "#Installing MNE"
      ],
      "metadata": {
        "id": "N9ZxTZ4a6LBu"
      }
    },
    {
      "cell_type": "code",
      "execution_count": null,
      "metadata": {
        "colab": {
          "base_uri": "https://localhost:8080/"
        },
        "id": "NSU7_7u3AvN6",
        "outputId": "00fbcd31-6e4a-4520-f1a8-4b847f2dec57"
      },
      "outputs": [
        {
          "output_type": "stream",
          "name": "stdout",
          "text": [
            "Looking in indexes: https://pypi.org/simple, https://us-python.pkg.dev/colab-wheels/public/simple/\n",
            "Collecting mne\n",
            "  Downloading mne-1.0.3-py3-none-any.whl (7.5 MB)\n",
            "\u001b[K     |████████████████████████████████| 7.5 MB 26.1 MB/s \n",
            "\u001b[?25hRequirement already satisfied: scipy>=1.1.0 in /usr/local/lib/python3.7/dist-packages (from mne) (1.4.1)\n",
            "Requirement already satisfied: matplotlib in /usr/local/lib/python3.7/dist-packages (from mne) (3.2.2)\n",
            "Requirement already satisfied: decorator in /usr/local/lib/python3.7/dist-packages (from mne) (4.4.2)\n",
            "Requirement already satisfied: numpy>=1.15.4 in /usr/local/lib/python3.7/dist-packages (from mne) (1.21.6)\n",
            "Requirement already satisfied: packaging in /usr/local/lib/python3.7/dist-packages (from mne) (21.3)\n",
            "Requirement already satisfied: tqdm in /usr/local/lib/python3.7/dist-packages (from mne) (4.64.0)\n",
            "Requirement already satisfied: jinja2 in /usr/local/lib/python3.7/dist-packages (from mne) (2.11.3)\n",
            "Requirement already satisfied: pooch>=1.5 in /usr/local/lib/python3.7/dist-packages (from mne) (1.6.0)\n",
            "Requirement already satisfied: requests>=2.19.0 in /usr/local/lib/python3.7/dist-packages (from pooch>=1.5->mne) (2.23.0)\n",
            "Requirement already satisfied: appdirs>=1.3.0 in /usr/local/lib/python3.7/dist-packages (from pooch>=1.5->mne) (1.4.4)\n",
            "Requirement already satisfied: pyparsing!=3.0.5,>=2.0.2 in /usr/local/lib/python3.7/dist-packages (from packaging->mne) (3.0.9)\n",
            "Requirement already satisfied: urllib3!=1.25.0,!=1.25.1,<1.26,>=1.21.1 in /usr/local/lib/python3.7/dist-packages (from requests>=2.19.0->pooch>=1.5->mne) (1.24.3)\n",
            "Requirement already satisfied: idna<3,>=2.5 in /usr/local/lib/python3.7/dist-packages (from requests>=2.19.0->pooch>=1.5->mne) (2.10)\n",
            "Requirement already satisfied: chardet<4,>=3.0.2 in /usr/local/lib/python3.7/dist-packages (from requests>=2.19.0->pooch>=1.5->mne) (3.0.4)\n",
            "Requirement already satisfied: certifi>=2017.4.17 in /usr/local/lib/python3.7/dist-packages (from requests>=2.19.0->pooch>=1.5->mne) (2022.6.15)\n",
            "Requirement already satisfied: MarkupSafe>=0.23 in /usr/local/lib/python3.7/dist-packages (from jinja2->mne) (2.0.1)\n",
            "Requirement already satisfied: kiwisolver>=1.0.1 in /usr/local/lib/python3.7/dist-packages (from matplotlib->mne) (1.4.3)\n",
            "Requirement already satisfied: cycler>=0.10 in /usr/local/lib/python3.7/dist-packages (from matplotlib->mne) (0.11.0)\n",
            "Requirement already satisfied: python-dateutil>=2.1 in /usr/local/lib/python3.7/dist-packages (from matplotlib->mne) (2.8.2)\n",
            "Requirement already satisfied: typing-extensions in /usr/local/lib/python3.7/dist-packages (from kiwisolver>=1.0.1->matplotlib->mne) (4.1.1)\n",
            "Requirement already satisfied: six>=1.5 in /usr/local/lib/python3.7/dist-packages (from python-dateutil>=2.1->matplotlib->mne) (1.15.0)\n",
            "Installing collected packages: mne\n",
            "Successfully installed mne-1.0.3\n"
          ]
        }
      ],
      "source": [
        "! pip install mne"
      ]
    },
    {
      "cell_type": "markdown",
      "source": [
        "# Starting of the Time"
      ],
      "metadata": {
        "id": "bS0PEip06Rie"
      }
    },
    {
      "cell_type": "code",
      "source": [
        "import time\n",
        "start = time.time()"
      ],
      "metadata": {
        "id": "JCisukOAA0fv"
      },
      "execution_count": null,
      "outputs": []
    },
    {
      "cell_type": "markdown",
      "source": [
        "# Connecting Colab to Drive"
      ],
      "metadata": {
        "id": "qrBmwFBK6Uc1"
      }
    },
    {
      "cell_type": "code",
      "source": [
        "from google.colab import drive\n",
        "drive.mount('/content/drive')"
      ],
      "metadata": {
        "colab": {
          "base_uri": "https://localhost:8080/"
        },
        "id": "RFQQOEofA56w",
        "outputId": "c76f4779-759b-4c7f-99f5-36cdfcb233e1"
      },
      "execution_count": null,
      "outputs": [
        {
          "output_type": "stream",
          "name": "stdout",
          "text": [
            "Mounted at /content/drive\n"
          ]
        }
      ]
    },
    {
      "cell_type": "markdown",
      "source": [
        "# Importing Necessary Libraries"
      ],
      "metadata": {
        "id": "Dxl8aTgp6YvF"
      }
    },
    {
      "cell_type": "code",
      "source": [
        "from glob import glob # it Is help us to read all files in the Folder \n",
        "import os\n",
        "import mne # It is a Package which is Used to Analysis the EEG Dataset\n",
        "from numpy import array\n",
        "import numpy as np\n",
        "import pandas as pd\n",
        "import matplotlib.pyplot as plt"
      ],
      "metadata": {
        "id": "EkBnF15HA-s-"
      },
      "execution_count": null,
      "outputs": []
    },
    {
      "cell_type": "markdown",
      "source": [
        "#Importing Dataset"
      ],
      "metadata": {
        "id": "eC2v5A8O6cL4"
      }
    },
    {
      "cell_type": "code",
      "source": [
        "all_file_path = glob('/content/drive/MyDrive/EC_Healthy_and_MDD_fif/*.fif')\n",
        "print(len(all_file_path))"
      ],
      "metadata": {
        "colab": {
          "base_uri": "https://localhost:8080/"
        },
        "id": "FlBi-SBsBJyO",
        "outputId": "7a181327-fe04-4070-9a8d-596996b1853b"
      },
      "execution_count": null,
      "outputs": [
        {
          "output_type": "stream",
          "name": "stdout",
          "text": [
            "58\n"
          ]
        }
      ]
    },
    {
      "cell_type": "markdown",
      "source": [
        "# Separating the Healthy Subjects and MDD Patients"
      ],
      "metadata": {
        "id": "0T-txkWf6fsF"
      }
    },
    {
      "cell_type": "code",
      "source": [
        "healthy_file_path = [i for i in all_file_path if 'h' in i.split('/')[5]]\n",
        "patient_file_path = [i for i in all_file_path if 'm' in i.split('/')[5]]\n",
        "print(len(healthy_file_path), len(patient_file_path))"
      ],
      "metadata": {
        "colab": {
          "base_uri": "https://localhost:8080/"
        },
        "id": "Dl130dCDBNw7",
        "outputId": "4d4390f4-c859-4db6-ba1a-de6a56b7f5b0"
      },
      "execution_count": null,
      "outputs": [
        {
          "output_type": "stream",
          "name": "stdout",
          "text": [
            "28 30\n"
          ]
        }
      ]
    },
    {
      "cell_type": "markdown",
      "source": [
        "#Reading the File Path and Getting the Data from One File"
      ],
      "metadata": {
        "id": "sjeU1ejr6pr8"
      }
    },
    {
      "cell_type": "code",
      "source": [
        "def read_data(file_path):\n",
        "    data = mne.io.read_raw_fif(file_path, preload = True)\n",
        "    data.set_eeg_reference()\n",
        "    data.filter(l_freq = 0.5, h_freq = 45)\n",
        "    epochs = mne.make_fixed_length_epochs(data, duration = 5, overlap = 2)\n",
        "    array = epochs.get_data()\n",
        "    return array"
      ],
      "metadata": {
        "id": "JbArpVUEBSVY"
      },
      "execution_count": null,
      "outputs": []
    },
    {
      "cell_type": "code",
      "source": [
        "sample_data = read_data(healthy_file_path[0])"
      ],
      "metadata": {
        "colab": {
          "base_uri": "https://localhost:8080/"
        },
        "id": "HM_AXrB4BVzn",
        "outputId": "50e1b6bb-4cee-489a-8a82-f85107607ab0"
      },
      "execution_count": null,
      "outputs": [
        {
          "output_type": "stream",
          "name": "stdout",
          "text": [
            "Opening raw data file /content/drive/MyDrive/EC_Healthy_and_MDD_fif/h10_ec_cropped_raw.fif...\n",
            "Isotrak not found\n",
            "    Range : 0 ... 96255 =      0.000 ...   375.996 secs\n",
            "Ready.\n",
            "Reading 0 ... 96255  =      0.000 ...   375.996 secs...\n",
            "EEG channel type selected for re-referencing\n",
            "Applying average reference.\n",
            "Applying a custom ('EEG',) reference.\n",
            "Filtering raw data in 1 contiguous segment\n",
            "Setting up band-pass filter from 0.5 - 60 Hz\n",
            "\n",
            "FIR filter parameters\n",
            "---------------------\n",
            "Designing a one-pass, zero-phase, non-causal bandpass filter:\n",
            "- Windowed time-domain design (firwin) method\n",
            "- Hamming window with 0.0194 passband ripple and 53 dB stopband attenuation\n",
            "- Lower passband edge: 0.50\n",
            "- Lower transition bandwidth: 0.50 Hz (-6 dB cutoff frequency: 0.25 Hz)\n",
            "- Upper passband edge: 60.00 Hz\n",
            "- Upper transition bandwidth: 15.00 Hz (-6 dB cutoff frequency: 67.50 Hz)\n",
            "- Filter length: 1691 samples (6.605 sec)\n",
            "\n",
            "Not setting metadata\n",
            "124 matching events found\n",
            "No baseline correction applied\n",
            "0 projection items activated\n",
            "Using data from preloaded Raw for 124 events and 1280 original time points ...\n",
            "0 bad epochs dropped\n"
          ]
        }
      ]
    },
    {
      "cell_type": "code",
      "source": [
        "sample_data.shape # no. of epochs, channels, length of signals "
      ],
      "metadata": {
        "colab": {
          "base_uri": "https://localhost:8080/"
        },
        "id": "6XCOrUV3BYoy",
        "outputId": "e79d64b4-8219-48a5-d7f3-efff05dcae20"
      },
      "execution_count": null,
      "outputs": [
        {
          "output_type": "execute_result",
          "data": {
            "text/plain": [
              "(124, 20, 1280)"
            ]
          },
          "metadata": {},
          "execution_count": 11
        }
      ]
    },
    {
      "cell_type": "markdown",
      "source": [
        "#Reading the File Path and Getting the Data from All File"
      ],
      "metadata": {
        "id": "sK_Dswtz6u3f"
      }
    },
    {
      "cell_type": "code",
      "source": [
        "%%capture\n",
        "control_epochs_array = [read_data(i) for i in healthy_file_path]\n",
        "patient_epochs_array = [read_data(i) for i in patient_file_path]"
      ],
      "metadata": {
        "id": "YmLY4M7zBc75"
      },
      "execution_count": null,
      "outputs": []
    },
    {
      "cell_type": "code",
      "source": [
        "control_epochs_array[0].shape, control_epochs_array[1].shape, control_epochs_array[2].shape, control_epochs_array[3].shape, control_epochs_array[4].shape"
      ],
      "metadata": {
        "colab": {
          "base_uri": "https://localhost:8080/"
        },
        "id": "6thEH9SaBgRU",
        "outputId": "5849555c-e4ab-412e-ec77-3bacb3e6ef28"
      },
      "execution_count": null,
      "outputs": [
        {
          "output_type": "execute_result",
          "data": {
            "text/plain": [
              "((124, 20, 1280),\n",
              " (99, 20, 1280),\n",
              " (99, 20, 1280),\n",
              " (99, 20, 1280),\n",
              " (100, 20, 1280))"
            ]
          },
          "metadata": {},
          "execution_count": 11
        }
      ]
    },
    {
      "cell_type": "code",
      "source": [
        "patient_epochs_array[0].shape, patient_epochs_array[1].shape, patient_epochs_array[2].shape, patient_epochs_array[3].shape"
      ],
      "metadata": {
        "colab": {
          "base_uri": "https://localhost:8080/"
        },
        "id": "AXIURVrWB3ff",
        "outputId": "4f77d400-fa41-42a2-df7d-3657f325d536"
      },
      "execution_count": null,
      "outputs": [
        {
          "output_type": "execute_result",
          "data": {
            "text/plain": [
              "((100, 20, 1280), (99, 20, 1280), (99, 20, 1280), (99, 20, 1280))"
            ]
          },
          "metadata": {},
          "execution_count": 13
        }
      ]
    },
    {
      "cell_type": "markdown",
      "source": [
        "#Creating the Labels"
      ],
      "metadata": {
        "id": "3mEvtDgx6zP6"
      }
    },
    {
      "cell_type": "code",
      "source": [
        "control_epochs_labels = [len(i)*[0] for i in control_epochs_array]\n",
        "patient_epochs_labels = [len(i)*[1] for i in patient_epochs_array]\n",
        "len(control_epochs_labels), len(patient_epochs_labels)"
      ],
      "metadata": {
        "colab": {
          "base_uri": "https://localhost:8080/"
        },
        "id": "L45_0WYpB9eC",
        "outputId": "e5d0487f-90c5-47ad-ebd0-320ace3db425"
      },
      "execution_count": null,
      "outputs": [
        {
          "output_type": "execute_result",
          "data": {
            "text/plain": [
              "(28, 30)"
            ]
          },
          "metadata": {},
          "execution_count": 14
        }
      ]
    },
    {
      "cell_type": "markdown",
      "source": [
        "#Combining Both the Healthy and MDD Files"
      ],
      "metadata": {
        "id": "loajOiLv67So"
      }
    },
    {
      "cell_type": "code",
      "source": [
        "data_list = control_epochs_array + patient_epochs_array\n",
        "label_list = control_epochs_labels + patient_epochs_labels"
      ],
      "metadata": {
        "id": "B4sEP8ybCBO9"
      },
      "execution_count": null,
      "outputs": []
    },
    {
      "cell_type": "markdown",
      "source": [
        "#Spletting the Dataset in the Basis of Subjects\n"
      ],
      "metadata": {
        "id": "_2PURgKq687i"
      }
    },
    {
      "cell_type": "code",
      "source": [
        "epochs_array=control_epochs_array+patient_epochs_array\n",
        "epochs_labels=control_epochs_labels+patient_epochs_labels\n",
        "print(len(epochs_array),len(epochs_labels))"
      ],
      "metadata": {
        "colab": {
          "base_uri": "https://localhost:8080/"
        },
        "id": "hj0bwybOCEQq",
        "outputId": "90384504-34dd-476d-ef79-08a99881bbfb"
      },
      "execution_count": null,
      "outputs": [
        {
          "output_type": "stream",
          "name": "stdout",
          "text": [
            "58 58\n"
          ]
        }
      ]
    },
    {
      "cell_type": "markdown",
      "source": [
        "# Creating Groups"
      ],
      "metadata": {
        "id": "U2R5ZYyw7AH8"
      }
    },
    {
      "cell_type": "code",
      "source": [
        "groups = [[i]*len(j) for i,j in enumerate(data_list)]\n",
        "len(groups)"
      ],
      "metadata": {
        "colab": {
          "base_uri": "https://localhost:8080/"
        },
        "id": "IXArjsl0CHC_",
        "outputId": "3258401d-262b-4278-d064-f42d7770ba5d"
      },
      "execution_count": null,
      "outputs": [
        {
          "output_type": "execute_result",
          "data": {
            "text/plain": [
              "58"
            ]
          },
          "metadata": {},
          "execution_count": 17
        }
      ]
    },
    {
      "cell_type": "markdown",
      "source": [
        "# Converting the Data from List to array\n"
      ],
      "metadata": {
        "id": "dcPUifSR7CsP"
      }
    },
    {
      "cell_type": "code",
      "source": [
        "data_array = np.vstack(data_list)\n",
        "label_array = np.hstack(label_list)\n",
        "groups_array = np.hstack(groups)\n",
        "print(data_array.shape, label_array.shape, groups_array.shape)"
      ],
      "metadata": {
        "colab": {
          "base_uri": "https://localhost:8080/"
        },
        "id": "Zsqz0ktPCKI5",
        "outputId": "5dcc6fe8-d697-4d8b-96b3-536393d6aa41"
      },
      "execution_count": null,
      "outputs": [
        {
          "output_type": "stream",
          "name": "stdout",
          "text": [
            "(5735, 20, 1280) (5735,) (5735,)\n"
          ]
        }
      ]
    },
    {
      "cell_type": "markdown",
      "source": [
        "# Feature Extraction"
      ],
      "metadata": {
        "id": "0XN5RrAV7Hhp"
      }
    },
    {
      "cell_type": "code",
      "source": [
        "from scipy import stats\n",
        "\n",
        "def mean(x):\n",
        "    return np.mean(x,axis=-1)\n",
        "def std(x):  \n",
        "    return np.std(x,axis=-1)\n",
        "def ptp(x):\n",
        "    return np.ptp(x,axis=-1)\n",
        "def var(x):\n",
        "    return np.var(x,axis=-1)\n",
        "def minim(x):\n",
        "    return np.min(x,axis=-1)\n",
        "def maxim(x):\n",
        "    return np.max(x,axis=-1)\n",
        "def argminim(x):\n",
        "    return np.argmin(x,axis=-1) \n",
        "def argmaxim(x):\n",
        "    return np.argmax(x,axis=-1)   \n",
        "                   \n",
        "def abs_diff_signals(x):\n",
        "    return np.sum(np.abs(np.diff(x,axis=-1)),axis=-1)\n",
        "def skewness(x):\n",
        "    return stats.skew(x,axis=-1)\n",
        "def kurtosis(x):\n",
        "    return stats.kurtosis(x,axis=-1)\n",
        "#def rms(x):\n",
        "#    return np.sqrt(np.mean(x**2,axis=-1)\n",
        "def concatenate_features(x):\n",
        "    return np.concatenate((mean(x),std(x),ptp(x),var(x),minim(x),maxim(x),argminim(x),argmaxim(x),abs_diff_signals(x),\\\n",
        "                           skewness(x),kurtosis(x)),axis=-1) "
      ],
      "metadata": {
        "id": "w6f272O5CNEb"
      },
      "execution_count": null,
      "outputs": []
    },
    {
      "cell_type": "markdown",
      "source": [
        "# Loop to Extract the Features"
      ],
      "metadata": {
        "id": "7p5g_XCP7L2c"
      }
    },
    {
      "cell_type": "code",
      "source": [
        "features=[]\n",
        "for d in data_array:\n",
        "    features.append(concatenate_features(d))"
      ],
      "metadata": {
        "id": "NrXVWIJzCSim"
      },
      "execution_count": null,
      "outputs": []
    },
    {
      "cell_type": "markdown",
      "source": [
        "# Converting the Features list into Features Arrays"
      ],
      "metadata": {
        "id": "Tz5F_2Id7SUz"
      }
    },
    {
      "cell_type": "code",
      "source": [
        "features_array=np.array(features)\n",
        "features_array.shape"
      ],
      "metadata": {
        "colab": {
          "base_uri": "https://localhost:8080/"
        },
        "id": "hc2w4OhaCWPN",
        "outputId": "666ff86d-0ba2-4260-a734-70556603907b"
      },
      "execution_count": null,
      "outputs": [
        {
          "output_type": "execute_result",
          "data": {
            "text/plain": [
              "(5735, 220)"
            ]
          },
          "metadata": {},
          "execution_count": 21
        }
      ]
    },
    {
      "cell_type": "code",
      "source": [
        "from sklearn import svm\n",
        "from sklearn.pipeline import Pipeline\n",
        "from sklearn.model_selection import train_test_split\n",
        "from sklearn.metrics import accuracy_score\n",
        "from sklearn.metrics import confusion_matrix\n",
        "from sklearn import metrics\n",
        "from sklearn.preprocessing import StandardScaler"
      ],
      "metadata": {
        "id": "ukq7aEKzT3hy"
      },
      "execution_count": null,
      "outputs": []
    },
    {
      "cell_type": "code",
      "source": [
        "xtrain, xtest, ytrain, ytest = train_test_split(features_array,label_array,test_size=0.20, shuffle=True)\n",
        "\n"
      ],
      "metadata": {
        "id": "XHdWlHomSfqf"
      },
      "execution_count": null,
      "outputs": []
    },
    {
      "cell_type": "code",
      "source": [
        "# applying the scaler\n",
        "sc_x = StandardScaler()\n",
        "#fiting the train data for the transformation for model \n",
        "xtrain = sc_x.fit_transform(xtrain) \n",
        "#fiting the test data for the transformation for model \n",
        "xtest = sc_x.transform(xtest)\n",
        "\n"
      ],
      "metadata": {
        "id": "NbL1kFUiSjUL"
      },
      "execution_count": null,
      "outputs": []
    },
    {
      "cell_type": "code",
      "source": [
        " \n",
        "# applying the classifier\n",
        "classifier = svm.SVC() \n",
        "# allpying the model\n",
        "classifier.fit(xtrain, ytrain)\n",
        "# applying the data for the prediction\n",
        "y_pred = classifier.predict(xtest)\n",
        "# cheking the confusion Matrix\n"
      ],
      "metadata": {
        "id": "0yOYZAp7Sjdb"
      },
      "execution_count": null,
      "outputs": []
    },
    {
      "cell_type": "code",
      "source": [
        "cm = confusion_matrix(ytest, y_pred)"
      ],
      "metadata": {
        "id": "ht_fzCDFSjmH"
      },
      "execution_count": null,
      "outputs": []
    },
    {
      "cell_type": "code",
      "source": [
        "print (\"Confusion Matrix : \\n\", cm)\n",
        "cm[1][1]\n",
        "# cheking the accuracy of model\n",
        "print (\"Accuracy : \", accuracy_score(ytest, y_pred))"
      ],
      "metadata": {
        "colab": {
          "base_uri": "https://localhost:8080/"
        },
        "id": "35JEhwCzSjqU",
        "outputId": "84dcfc2d-6ece-46a7-9af6-ba78bfba2507"
      },
      "execution_count": null,
      "outputs": [
        {
          "output_type": "stream",
          "name": "stdout",
          "text": [
            "Confusion Matrix : \n",
            " [[445 127]\n",
            " [ 26 549]]\n",
            "Accuracy :  0.8666085440278989\n"
          ]
        }
      ]
    },
    {
      "cell_type": "code",
      "source": [
        "TP = cm[1,1] # true positive \n",
        "TN = cm[0,0] # true negatives\n",
        "FP = cm[0,1] # false positives\n",
        "FN = cm[1,0] # false negatives\n"
      ],
      "metadata": {
        "id": "VMh68uV0SjuZ"
      },
      "execution_count": null,
      "outputs": []
    },
    {
      "cell_type": "code",
      "source": [
        "# sensitivity \n",
        "sense = TP / (TP+FN)\n",
        "print(\"The sensitivity of model is:\",sense)\n",
        "\n",
        "\n",
        "# specificity  \n",
        "speci = TN / (TN+FP)\n",
        "print(\"The specificity of model is:\",speci)\n"
      ],
      "metadata": {
        "colab": {
          "base_uri": "https://localhost:8080/"
        },
        "id": "WNedmAkoSjxd",
        "outputId": "16d270d0-2755-480d-e71e-6e4994aea458"
      },
      "execution_count": null,
      "outputs": [
        {
          "output_type": "stream",
          "name": "stdout",
          "text": [
            "The sensitivity of model is: 0.9547826086956521\n",
            "The specificity of model is: 0.777972027972028\n"
          ]
        }
      ]
    },
    {
      "cell_type": "code",
      "source": [
        "\n",
        "#ROC\n",
        "\n",
        "# Defining the function to plot the ROC curve\n",
        "def draw_roc( actual, probs ):\n",
        "    fpr, tpr, thresholds = metrics.roc_curve( actual, probs,\n",
        "                                              drop_intermediate = False )\n",
        "    auc_score = metrics.roc_auc_score( actual, probs )\n",
        "    plt.figure(figsize=(5, 5))\n",
        "    plt.plot( fpr, tpr, label='ROC curve (area = %0.2f)' % auc_score )\n",
        "    plt.plot([0, 1], [0, 1], 'k--')\n",
        "    plt.xlim([0.0, 1.0])\n",
        "    plt.ylim([0.0, 1.05])\n",
        "    plt.xlabel('False Positive Rate or [1 - True Negative Rate]')\n",
        "    plt.ylabel('True Positive Rate')\n",
        "    plt.title('Receiver operating characteristic example')\n",
        "    plt.legend(loc=\"lower right\")\n",
        "    plt.show()\n",
        "    return None"
      ],
      "metadata": {
        "id": "fh0bVQURSj0p"
      },
      "execution_count": null,
      "outputs": []
    },
    {
      "cell_type": "code",
      "source": [
        "\n",
        "# Calling the function\n",
        "draw_roc(ytest, y_pred)\n",
        "\n",
        "from sklearn.metrics import cohen_kappa_score\n",
        "k = cohen_kappa_score(ytest, y_pred)\n"
      ],
      "metadata": {
        "colab": {
          "base_uri": "https://localhost:8080/",
          "height": 350
        },
        "id": "e8CcPRrRUNJB",
        "outputId": "e2cbc0eb-8d5c-4d3e-c031-04607f8f45be"
      },
      "execution_count": null,
      "outputs": [
        {
          "output_type": "display_data",
          "data": {
            "text/plain": [
              "<Figure size 360x360 with 1 Axes>"
            ],
            "image/png": "[encoded data removed]"
          },
          "metadata": {
            "needs_background": "light"
          }
        }
      ]
    },
    {
      "cell_type": "code",
      "source": [
        "\n",
        "print(\"The kappa score is:\",k)\n",
        "end = time.time()\n",
        "print(\"Total time in sec:\",end - start)\n",
        "\n"
      ],
      "metadata": {
        "colab": {
          "base_uri": "https://localhost:8080/"
        },
        "id": "g_6NSj99UNMN",
        "outputId": "3e80c4f7-6fde-47fc-93ef-bb25345d1566"
      },
      "execution_count": null,
      "outputs": [
        {
          "output_type": "stream",
          "name": "stdout",
          "text": [
            "The kappa score is: 0.7330923182919467\n",
            "Total time in sec: 734.3530869483948\n"
          ]
        }
      ]
    },
    {
      "cell_type": "code",
      "source": [
        ""
      ],
      "metadata": {
        "id": "-yNQAI7HSj5s"
      },
      "execution_count": null,
      "outputs": []
    },
    {
      "cell_type": "code",
      "source": [
        ""
      ],
      "metadata": {
        "id": "tEVHxfIoSj-9"
      },
      "execution_count": null,
      "outputs": []
    },
    {
      "cell_type": "markdown",
      "source": [
        "# SVM for Classification"
      ],
      "metadata": {
        "id": "mZ7-rrri7YYc"
      }
    },
    {
      "cell_type": "code",
      "source": [
        "from sklearn.svm import SVC\n",
        "from sklearn.pipeline import Pipeline\n",
        "from sklearn.preprocessing import StandardScaler\n",
        "from sklearn.model_selection import GroupKFold,GridSearchCV"
      ],
      "metadata": {
        "id": "9roJzmM0CZsH"
      },
      "execution_count": null,
      "outputs": []
    },
    {
      "cell_type": "code",
      "source": [
        "clf=SVC()\n",
        "gkf=GroupKFold(5)\n",
        "pipe=Pipeline([('scalar',StandardScaler()),('clf',clf)])\n",
        "param_grid={'clf__C':[0.1,0.3,0.5,0.7,1,3,5,7]}\n",
        "gscv=GridSearchCV(pipe,param_grid,cv=gkf,n_jobs=12)\n",
        "gscv.fit(features_array,label_array,groups=groups_array)"
      ],
      "metadata": {
        "colab": {
          "base_uri": "https://localhost:8080/"
        },
        "id": "HUMB3SvMCgrX",
        "outputId": "99aa3037-354a-40fd-e00f-3fcbf6ea09f8"
      },
      "execution_count": null,
      "outputs": [
        {
          "output_type": "execute_result",
          "data": {
            "text/plain": [
              "GridSearchCV(cv=GroupKFold(n_splits=5),\n",
              "             estimator=Pipeline(steps=[('scalar', StandardScaler()),\n",
              "                                       ('clf', SVC())]),\n",
              "             n_jobs=12,\n",
              "             param_grid={'clf__C': [0.1, 0.3, 0.5, 0.7, 1, 3, 5, 7]})"
            ]
          },
          "metadata": {},
          "execution_count": 22
        }
      ]
    },
    {
      "cell_type": "markdown",
      "source": [
        "# Accuracy"
      ],
      "metadata": {
        "id": "d6GImKnz7kKj"
      }
    },
    {
      "cell_type": "code",
      "source": [
        "gscv.best_score_"
      ],
      "metadata": {
        "colab": {
          "base_uri": "https://localhost:8080/"
        },
        "id": "FE_eZTqICj5K",
        "outputId": "8fb59946-5903-469c-d1bd-3039f946ffc6"
      },
      "execution_count": null,
      "outputs": [
        {
          "output_type": "execute_result",
          "data": {
            "text/plain": [
              "0.7190646906758194"
            ]
          },
          "metadata": {},
          "execution_count": 23
        }
      ]
    },
    {
      "cell_type": "markdown",
      "source": [
        "# End of the Time"
      ],
      "metadata": {
        "id": "OQPkI85Y7mvI"
      }
    },
    {
      "cell_type": "code",
      "source": [
        "end = time.time()\n",
        "print(\"Total time in sec:\",end - start)"
      ],
      "metadata": {
        "colab": {
          "base_uri": "https://localhost:8080/"
        },
        "id": "PNgInHPnC1k9",
        "outputId": "9be58b4c-ea41-4943-f7ed-8b29221a1101"
      },
      "execution_count": null,
      "outputs": [
        {
          "output_type": "stream",
          "name": "stdout",
          "text": [
            "Total time in sec: 253.57270431518555\n"
          ]
        }
      ]
    }
  ]
}