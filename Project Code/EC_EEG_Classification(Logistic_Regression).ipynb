{
  "cells": [
    {
      "cell_type": "markdown",
      "source": [
        "#**Installing MNE** "
      ],
      "metadata": {
        "id": "JJr0my8jwyWn"
      }
    },
    {
      "cell_type": "code",
      "source": [
        "! pip install mne"
      ],
      "metadata": {
        "colab": {
          "base_uri": "https://localhost:8080/"
        },
        "id": "RAKsGu2o36V4",
        "outputId": "a722b0f3-1f93-4fdd-841f-0cc16a2931d4"
      },
      "execution_count": null,
      "outputs": [
        {
          "output_type": "stream",
          "name": "stdout",
          "text": [
            "Looking in indexes: https://pypi.org/simple, https://us-python.pkg.dev/colab-wheels/public/simple/\n",
            "Collecting mne\n",
            "  Downloading mne-1.0.3-py3-none-any.whl (7.5 MB)\n",
            "\u001b[K     |████████████████████████████████| 7.5 MB 5.0 MB/s \n",
            "\u001b[?25hRequirement already satisfied: scipy>=1.1.0 in /usr/local/lib/python3.7/dist-packages (from mne) (1.4.1)\n",
            "Requirement already satisfied: jinja2 in /usr/local/lib/python3.7/dist-packages (from mne) (2.11.3)\n",
            "Requirement already satisfied: matplotlib in /usr/local/lib/python3.7/dist-packages (from mne) (3.2.2)\n",
            "Requirement already satisfied: pooch>=1.5 in /usr/local/lib/python3.7/dist-packages (from mne) (1.6.0)\n",
            "Requirement already satisfied: tqdm in /usr/local/lib/python3.7/dist-packages (from mne) (4.64.0)\n",
            "Requirement already satisfied: packaging in /usr/local/lib/python3.7/dist-packages (from mne) (21.3)\n",
            "Requirement already satisfied: decorator in /usr/local/lib/python3.7/dist-packages (from mne) (4.4.2)\n",
            "Requirement already satisfied: numpy>=1.15.4 in /usr/local/lib/python3.7/dist-packages (from mne) (1.21.6)\n",
            "Requirement already satisfied: appdirs>=1.3.0 in /usr/local/lib/python3.7/dist-packages (from pooch>=1.5->mne) (1.4.4)\n",
            "Requirement already satisfied: requests>=2.19.0 in /usr/local/lib/python3.7/dist-packages (from pooch>=1.5->mne) (2.23.0)\n",
            "Requirement already satisfied: pyparsing!=3.0.5,>=2.0.2 in /usr/local/lib/python3.7/dist-packages (from packaging->mne) (3.0.9)\n",
            "Requirement already satisfied: certifi>=2017.4.17 in /usr/local/lib/python3.7/dist-packages (from requests>=2.19.0->pooch>=1.5->mne) (2022.6.15)\n",
            "Requirement already satisfied: chardet<4,>=3.0.2 in /usr/local/lib/python3.7/dist-packages (from requests>=2.19.0->pooch>=1.5->mne) (3.0.4)\n",
            "Requirement already satisfied: urllib3!=1.25.0,!=1.25.1,<1.26,>=1.21.1 in /usr/local/lib/python3.7/dist-packages (from requests>=2.19.0->pooch>=1.5->mne) (1.24.3)\n",
            "Requirement already satisfied: idna<3,>=2.5 in /usr/local/lib/python3.7/dist-packages (from requests>=2.19.0->pooch>=1.5->mne) (2.10)\n",
            "Requirement already satisfied: MarkupSafe>=0.23 in /usr/local/lib/python3.7/dist-packages (from jinja2->mne) (2.0.1)\n",
            "Requirement already satisfied: python-dateutil>=2.1 in /usr/local/lib/python3.7/dist-packages (from matplotlib->mne) (2.8.2)\n",
            "Requirement already satisfied: cycler>=0.10 in /usr/local/lib/python3.7/dist-packages (from matplotlib->mne) (0.11.0)\n",
            "Requirement already satisfied: kiwisolver>=1.0.1 in /usr/local/lib/python3.7/dist-packages (from matplotlib->mne) (1.4.3)\n",
            "Requirement already satisfied: typing-extensions in /usr/local/lib/python3.7/dist-packages (from kiwisolver>=1.0.1->matplotlib->mne) (4.1.1)\n",
            "Requirement already satisfied: six>=1.5 in /usr/local/lib/python3.7/dist-packages (from python-dateutil>=2.1->matplotlib->mne) (1.15.0)\n",
            "Installing collected packages: mne\n",
            "Successfully installed mne-1.0.3\n"
          ]
        }
      ]
    },
    {
      "cell_type": "markdown",
      "source": [
        "# **Starting Time**\n"
      ],
      "metadata": {
        "id": "N93dDaX3w-ZC"
      }
    },
    {
      "cell_type": "code",
      "source": [
        "import time\n",
        "start = time.time()"
      ],
      "metadata": {
        "id": "E2A4jTRSvw2t"
      },
      "execution_count": null,
      "outputs": []
    },
    {
      "cell_type": "markdown",
      "source": [
        "# **Connecting Colab To Drive**"
      ],
      "metadata": {
        "id": "cXK6OUlFxfET"
      }
    },
    {
      "cell_type": "code",
      "source": [
        "from google.colab import drive\n",
        "drive.mount('/content/drive')"
      ],
      "metadata": {
        "colab": {
          "base_uri": "https://localhost:8080/"
        },
        "id": "lGmf9vmyTRWi",
        "outputId": "d2956f56-6c67-4454-92b6-dfc113e3cd0c"
      },
      "execution_count": null,
      "outputs": [
        {
          "output_type": "stream",
          "name": "stdout",
          "text": [
            "Mounted at /content/drive\n"
          ]
        }
      ]
    },
    {
      "cell_type": "markdown",
      "source": [
        "# **Importing the Necessary Libraries**"
      ],
      "metadata": {
        "id": "a2BIYucUxmKz"
      }
    },
    {
      "cell_type": "code",
      "source": [
        "from glob import glob # it help us to read all files in the Folder \n",
        "import os\n",
        "import mne # It is a Package which is Used to Analysis the EEG Dataset\n",
        "from numpy import array\n",
        "import numpy as np\n",
        "import pandas as pd\n",
        "import matplotlib.pyplot as plt"
      ],
      "metadata": {
        "id": "vnci5qXPTr8O"
      },
      "execution_count": null,
      "outputs": []
    },
    {
      "cell_type": "markdown",
      "source": [
        "# **Importing the Dataset**"
      ],
      "metadata": {
        "id": "4lJXHallxutC"
      }
    },
    {
      "cell_type": "code",
      "source": [
        "all_file_path = glob('/content/drive/MyDrive/2022-04-26_project_emmanuel/EC_Healthy_and_MDD_fif/*.fif')\n",
        "print(len(all_file_path))"
      ],
      "metadata": {
        "colab": {
          "base_uri": "https://localhost:8080/"
        },
        "id": "PzaA5JqdT1Ux",
        "outputId": "bff60a44-acd5-470a-b2c7-0e130b7588d1"
      },
      "execution_count": null,
      "outputs": [
        {
          "output_type": "stream",
          "name": "stdout",
          "text": [
            "58\n"
          ]
        }
      ]
    },
    {
      "cell_type": "code",
      "source": [
        "all_file_path"
      ],
      "metadata": {
        "colab": {
          "base_uri": "https://localhost:8080/"
        },
        "id": "5jplMMDOUEX1",
        "outputId": "590bc5a7-7b5f-4916-a886-cbf077f3834d"
      },
      "execution_count": null,
      "outputs": [
        {
          "output_type": "execute_result",
          "data": {
            "text/plain": [
              "['/content/drive/MyDrive/2022-04-26_project_emmanuel/EC_Healthy_and_MDD_fif/mdd1_ec_cropped_raw.fif',\n",
              " '/content/drive/MyDrive/2022-04-26_project_emmanuel/EC_Healthy_and_MDD_fif/mdd10_ec_cropped_raw.fif',\n",
              " '/content/drive/MyDrive/2022-04-26_project_emmanuel/EC_Healthy_and_MDD_fif/mdd11_ec_cropped_raw.fif',\n",
              " '/content/drive/MyDrive/2022-04-26_project_emmanuel/EC_Healthy_and_MDD_fif/mdd13_ec_cropped_raw.fif',\n",
              " '/content/drive/MyDrive/2022-04-26_project_emmanuel/EC_Healthy_and_MDD_fif/mdd14_ec_cropped_raw.fif',\n",
              " '/content/drive/MyDrive/2022-04-26_project_emmanuel/EC_Healthy_and_MDD_fif/mdd15_ec_cropped_raw.fif',\n",
              " '/content/drive/MyDrive/2022-04-26_project_emmanuel/EC_Healthy_and_MDD_fif/mdd17_ec_cropped_raw.fif',\n",
              " '/content/drive/MyDrive/2022-04-26_project_emmanuel/EC_Healthy_and_MDD_fif/mdd18_ec_cropped_raw.fif',\n",
              " '/content/drive/MyDrive/2022-04-26_project_emmanuel/EC_Healthy_and_MDD_fif/mdd19_ec_cropped_raw.fif',\n",
              " '/content/drive/MyDrive/2022-04-26_project_emmanuel/EC_Healthy_and_MDD_fif/mdd20_ec_cropped_raw.fif',\n",
              " '/content/drive/MyDrive/2022-04-26_project_emmanuel/EC_Healthy_and_MDD_fif/mdd21_ec_cropped_raw.fif',\n",
              " '/content/drive/MyDrive/2022-04-26_project_emmanuel/EC_Healthy_and_MDD_fif/mdd22_ec_cropped_raw.fif',\n",
              " '/content/drive/MyDrive/2022-04-26_project_emmanuel/EC_Healthy_and_MDD_fif/mdd23_ec_cropped_raw.fif',\n",
              " '/content/drive/MyDrive/2022-04-26_project_emmanuel/EC_Healthy_and_MDD_fif/mdd25_ec_cropped_raw.fif',\n",
              " '/content/drive/MyDrive/2022-04-26_project_emmanuel/EC_Healthy_and_MDD_fif/mdd24_ec_cropped_raw.fif',\n",
              " '/content/drive/MyDrive/2022-04-26_project_emmanuel/EC_Healthy_and_MDD_fif/mdd2_ec_cropped_raw.fif',\n",
              " '/content/drive/MyDrive/2022-04-26_project_emmanuel/EC_Healthy_and_MDD_fif/mdd26_ec_cropped_raw.fif',\n",
              " '/content/drive/MyDrive/2022-04-26_project_emmanuel/EC_Healthy_and_MDD_fif/mdd27_ec_cropped_raw.fif',\n",
              " '/content/drive/MyDrive/2022-04-26_project_emmanuel/EC_Healthy_and_MDD_fif/mdd28_ec_cropped_raw.fif',\n",
              " '/content/drive/MyDrive/2022-04-26_project_emmanuel/EC_Healthy_and_MDD_fif/mdd29_ec_cropped_raw.fif',\n",
              " '/content/drive/MyDrive/2022-04-26_project_emmanuel/EC_Healthy_and_MDD_fif/mdd3_ec_cropped_raw.fif',\n",
              " '/content/drive/MyDrive/2022-04-26_project_emmanuel/EC_Healthy_and_MDD_fif/mdd30_ec_cropped_raw.fif',\n",
              " '/content/drive/MyDrive/2022-04-26_project_emmanuel/EC_Healthy_and_MDD_fif/mdd31_ec_cropped_raw.fif',\n",
              " '/content/drive/MyDrive/2022-04-26_project_emmanuel/EC_Healthy_and_MDD_fif/mdd32_ec_cropped_raw.fif',\n",
              " '/content/drive/MyDrive/2022-04-26_project_emmanuel/EC_Healthy_and_MDD_fif/mdd33_ec_cropped_raw.fif',\n",
              " '/content/drive/MyDrive/2022-04-26_project_emmanuel/EC_Healthy_and_MDD_fif/mdd34_ec_cropped_raw.fif',\n",
              " '/content/drive/MyDrive/2022-04-26_project_emmanuel/EC_Healthy_and_MDD_fif/mdd5_ec_cropped_raw.fif',\n",
              " '/content/drive/MyDrive/2022-04-26_project_emmanuel/EC_Healthy_and_MDD_fif/mdd6_ec_cropped_raw.fif',\n",
              " '/content/drive/MyDrive/2022-04-26_project_emmanuel/EC_Healthy_and_MDD_fif/mdd7_ec_cropped_raw.fif',\n",
              " '/content/drive/MyDrive/2022-04-26_project_emmanuel/EC_Healthy_and_MDD_fif/mdd9_ec_cropped_raw.fif',\n",
              " '/content/drive/MyDrive/2022-04-26_project_emmanuel/EC_Healthy_and_MDD_fif/h10_ec_cropped_raw.fif',\n",
              " '/content/drive/MyDrive/2022-04-26_project_emmanuel/EC_Healthy_and_MDD_fif/h11_ec_cropped_raw.fif',\n",
              " '/content/drive/MyDrive/2022-04-26_project_emmanuel/EC_Healthy_and_MDD_fif/h1_ec_cropped_raw.fif',\n",
              " '/content/drive/MyDrive/2022-04-26_project_emmanuel/EC_Healthy_and_MDD_fif/h13_ec_cropped_raw.fif',\n",
              " '/content/drive/MyDrive/2022-04-26_project_emmanuel/EC_Healthy_and_MDD_fif/h14_ec_cropped_raw.fif',\n",
              " '/content/drive/MyDrive/2022-04-26_project_emmanuel/EC_Healthy_and_MDD_fif/h15_ec_cropped_raw.fif',\n",
              " '/content/drive/MyDrive/2022-04-26_project_emmanuel/EC_Healthy_and_MDD_fif/h16_ec_cropped_raw.fif',\n",
              " '/content/drive/MyDrive/2022-04-26_project_emmanuel/EC_Healthy_and_MDD_fif/h17_ec_cropped_raw.fif',\n",
              " '/content/drive/MyDrive/2022-04-26_project_emmanuel/EC_Healthy_and_MDD_fif/h19_ec_cropped_raw.fif',\n",
              " '/content/drive/MyDrive/2022-04-26_project_emmanuel/EC_Healthy_and_MDD_fif/h2_ec_cropped_raw.fif',\n",
              " '/content/drive/MyDrive/2022-04-26_project_emmanuel/EC_Healthy_and_MDD_fif/h20_ec_cropped_raw.fif',\n",
              " '/content/drive/MyDrive/2022-04-26_project_emmanuel/EC_Healthy_and_MDD_fif/h21_ec_cropped_raw.fif',\n",
              " '/content/drive/MyDrive/2022-04-26_project_emmanuel/EC_Healthy_and_MDD_fif/h22_ec_cropped_raw.fif',\n",
              " '/content/drive/MyDrive/2022-04-26_project_emmanuel/EC_Healthy_and_MDD_fif/h23_ec_cropped_raw.fif',\n",
              " '/content/drive/MyDrive/2022-04-26_project_emmanuel/EC_Healthy_and_MDD_fif/h24_ec_cropped_raw.fif',\n",
              " '/content/drive/MyDrive/2022-04-26_project_emmanuel/EC_Healthy_and_MDD_fif/h25_ec_cropped_raw.fif',\n",
              " '/content/drive/MyDrive/2022-04-26_project_emmanuel/EC_Healthy_and_MDD_fif/h26_ec_cropped_raw.fif',\n",
              " '/content/drive/MyDrive/2022-04-26_project_emmanuel/EC_Healthy_and_MDD_fif/h27_ec_cropped_raw.fif',\n",
              " '/content/drive/MyDrive/2022-04-26_project_emmanuel/EC_Healthy_and_MDD_fif/h28_ec_cropped_raw.fif',\n",
              " '/content/drive/MyDrive/2022-04-26_project_emmanuel/EC_Healthy_and_MDD_fif/h29_ec_cropped_raw.fif',\n",
              " '/content/drive/MyDrive/2022-04-26_project_emmanuel/EC_Healthy_and_MDD_fif/h3_ec_cropped_raw.fif',\n",
              " '/content/drive/MyDrive/2022-04-26_project_emmanuel/EC_Healthy_and_MDD_fif/h30_ec_cropped_raw.fif',\n",
              " '/content/drive/MyDrive/2022-04-26_project_emmanuel/EC_Healthy_and_MDD_fif/h4_ec_cropped_raw.fif',\n",
              " '/content/drive/MyDrive/2022-04-26_project_emmanuel/EC_Healthy_and_MDD_fif/h5_ec_cropped_raw.fif',\n",
              " '/content/drive/MyDrive/2022-04-26_project_emmanuel/EC_Healthy_and_MDD_fif/h6_ec_cropped_raw.fif',\n",
              " '/content/drive/MyDrive/2022-04-26_project_emmanuel/EC_Healthy_and_MDD_fif/h7_ec_cropped_raw.fif',\n",
              " '/content/drive/MyDrive/2022-04-26_project_emmanuel/EC_Healthy_and_MDD_fif/h8_ec_cropped_raw.fif',\n",
              " '/content/drive/MyDrive/2022-04-26_project_emmanuel/EC_Healthy_and_MDD_fif/h9_ec_cropped_raw.fif']"
            ]
          },
          "metadata": {},
          "execution_count": 6
        }
      ]
    },
    {
      "cell_type": "markdown",
      "source": [
        "# **Separating the Healthy Subjects and MDD Patients**"
      ],
      "metadata": {
        "id": "MQXnBV0qx8El"
      }
    },
    {
      "cell_type": "code",
      "source": [
        "healthy_file_path = [i for i in all_file_path if 'h' in i.split('/')[6]]\n",
        "patient_file_path = [i for i in all_file_path if 'm' in i.split('/')[6]]\n",
        "print(len(healthy_file_path), len(patient_file_path))"
      ],
      "metadata": {
        "colab": {
          "base_uri": "https://localhost:8080/"
        },
        "id": "jQqcgEwaUJf9",
        "outputId": "1a7f9859-0c86-44b8-fc95-85302bf37c5f"
      },
      "execution_count": null,
      "outputs": [
        {
          "output_type": "stream",
          "name": "stdout",
          "text": [
            "28 30\n"
          ]
        }
      ]
    },
    {
      "cell_type": "markdown",
      "source": [
        "# **Reading the File Path and Getting the Data from One File**"
      ],
      "metadata": {
        "id": "29z-pHXux_2g"
      }
    },
    {
      "cell_type": "code",
      "source": [
        "def read_data(file_path):\n",
        "    data = mne.io.read_raw_fif(file_path, preload = True)\n",
        "    data.set_eeg_reference()\n",
        "    data.filter(l_freq = 0.5, h_freq = 60)\n",
        "    epochs = mne.make_fixed_length_epochs(data, duration = 5, overlap = 2) # it splits the data into Segments\n",
        "    array = epochs.get_data()\n",
        "    return array"
      ],
      "metadata": {
        "id": "z5FuUzgjURYn"
      },
      "execution_count": null,
      "outputs": []
    },
    {
      "cell_type": "code",
      "source": [
        "sample_data = read_data(healthy_file_path[0])"
      ],
      "metadata": {
        "colab": {
          "base_uri": "https://localhost:8080/"
        },
        "id": "oAygQl-6UyVA",
        "outputId": "ad1ac7f9-d855-4e23-8629-7c2953e1c256"
      },
      "execution_count": null,
      "outputs": [
        {
          "output_type": "stream",
          "name": "stdout",
          "text": [
            "Opening raw data file /content/drive/MyDrive/2022-04-26_project_emmanuel/EC_Healthy_and_MDD_fif/h10_ec_cropped_raw.fif...\n",
            "Isotrak not found\n",
            "    Range : 0 ... 96255 =      0.000 ...   375.996 secs\n",
            "Ready.\n",
            "Reading 0 ... 96255  =      0.000 ...   375.996 secs...\n",
            "EEG channel type selected for re-referencing\n",
            "Applying average reference.\n",
            "Applying a custom ('EEG',) reference.\n",
            "Filtering raw data in 1 contiguous segment\n",
            "Setting up band-pass filter from 0.5 - 60 Hz\n",
            "\n",
            "FIR filter parameters\n",
            "---------------------\n",
            "Designing a one-pass, zero-phase, non-causal bandpass filter:\n",
            "- Windowed time-domain design (firwin) method\n",
            "- Hamming window with 0.0194 passband ripple and 53 dB stopband attenuation\n",
            "- Lower passband edge: 0.50\n",
            "- Lower transition bandwidth: 0.50 Hz (-6 dB cutoff frequency: 0.25 Hz)\n",
            "- Upper passband edge: 60.00 Hz\n",
            "- Upper transition bandwidth: 15.00 Hz (-6 dB cutoff frequency: 67.50 Hz)\n",
            "- Filter length: 1691 samples (6.605 sec)\n",
            "\n",
            "Not setting metadata\n",
            "124 matching events found\n",
            "No baseline correction applied\n",
            "0 projection items activated\n",
            "Using data from preloaded Raw for 124 events and 1280 original time points ...\n",
            "0 bad epochs dropped\n"
          ]
        }
      ]
    },
    {
      "cell_type": "code",
      "source": [
        "sample_data.shape # no. of epochs, channels, length of signals "
      ],
      "metadata": {
        "colab": {
          "base_uri": "https://localhost:8080/"
        },
        "id": "LETNmhOzU6oZ",
        "outputId": "711ea428-20eb-42ec-ba5c-2623c7cdccab"
      },
      "execution_count": null,
      "outputs": [
        {
          "output_type": "execute_result",
          "data": {
            "text/plain": [
              "(124, 20, 1280)"
            ]
          },
          "metadata": {},
          "execution_count": 10
        }
      ]
    },
    {
      "cell_type": "markdown",
      "source": [
        "# **Reading the File Path and Getting the Data from All File**"
      ],
      "metadata": {
        "id": "ag_2n4tCyKu7"
      }
    },
    {
      "cell_type": "code",
      "source": [
        "%%capture\n",
        "control_epochs_array = [read_data(i) for i in healthy_file_path]\n",
        "patient_epochs_array = [read_data(i) for i in patient_file_path]"
      ],
      "metadata": {
        "id": "ETpdug2TU_j_"
      },
      "execution_count": null,
      "outputs": []
    },
    {
      "cell_type": "code",
      "source": [
        "control_epochs_array[0].shape, control_epochs_array[1].shape, control_epochs_array[2].shape, control_epochs_array[3].shape, control_epochs_array[4].shape#, control_epochs_array[5].shape, control_epochs_array[6].shape, control_epochs_array[7].shape, control_epochs_array[8].shape, control_epochs_array[9].shape, control_epochs_array[10].shape, control_epochs_array[11].shape, control_epochs_array[12].shape, control_epochs_array[38].shape, control_epochs_array[14].shape"
      ],
      "metadata": {
        "colab": {
          "base_uri": "https://localhost:8080/"
        },
        "id": "YoSdotYhVDy8",
        "outputId": "5047630f-48be-4003-f003-b9506c40cce2"
      },
      "execution_count": null,
      "outputs": [
        {
          "output_type": "execute_result",
          "data": {
            "text/plain": [
              "((124, 20, 1280),\n",
              " (99, 20, 1280),\n",
              " (99, 20, 1280),\n",
              " (99, 20, 1280),\n",
              " (100, 20, 1280))"
            ]
          },
          "metadata": {},
          "execution_count": 12
        }
      ]
    },
    {
      "cell_type": "code",
      "source": [
        "control_epochs_array[0].shape"
      ],
      "metadata": {
        "colab": {
          "base_uri": "https://localhost:8080/"
        },
        "id": "Xr-zDsKnXD4E",
        "outputId": "4de9f5ea-2344-4787-8572-9120f788984d"
      },
      "execution_count": null,
      "outputs": [
        {
          "output_type": "execute_result",
          "data": {
            "text/plain": [
              "(124, 20, 1280)"
            ]
          },
          "metadata": {},
          "execution_count": 13
        }
      ]
    },
    {
      "cell_type": "code",
      "source": [
        "patient_epochs_array[0].shape, patient_epochs_array[1].shape, patient_epochs_array[2].shape, patient_epochs_array[3].shape#, control_epochs_array[4].shape#, control_epochs_array[5].shape#, control_epochs_array[6].shape#, control_epochs_array[7].shape,  "
      ],
      "metadata": {
        "colab": {
          "base_uri": "https://localhost:8080/"
        },
        "id": "y5FBOwgtVOxE",
        "outputId": "c98c747a-8d36-41b8-c399-55e6f70f2c64"
      },
      "execution_count": null,
      "outputs": [
        {
          "output_type": "execute_result",
          "data": {
            "text/plain": [
              "((100, 20, 1280), (99, 20, 1280), (99, 20, 1280), (99, 20, 1280))"
            ]
          },
          "metadata": {},
          "execution_count": 14
        }
      ]
    },
    {
      "cell_type": "markdown",
      "source": [
        "# **Creating the Labels**"
      ],
      "metadata": {
        "id": "0UM1SYIIySI2"
      }
    },
    {
      "cell_type": "code",
      "source": [
        "control_epochs_labels = [len(i)*[0] for i in control_epochs_array]\n",
        "patient_epochs_labels = [len(i)*[1] for i in patient_epochs_array]\n",
        "len(control_epochs_labels), len(patient_epochs_labels)"
      ],
      "metadata": {
        "colab": {
          "base_uri": "https://localhost:8080/"
        },
        "id": "DQOinvScVV4-",
        "outputId": "8e3154fe-400a-4072-d8a0-624b686462e2"
      },
      "execution_count": null,
      "outputs": [
        {
          "output_type": "execute_result",
          "data": {
            "text/plain": [
              "(28, 30)"
            ]
          },
          "metadata": {},
          "execution_count": 15
        }
      ]
    },
    {
      "cell_type": "markdown",
      "source": [
        "# **Combining Both the Healthy and MDD Files**"
      ],
      "metadata": {
        "id": "LDK_7v8uyYcD"
      }
    },
    {
      "cell_type": "code",
      "source": [
        "data_list = control_epochs_array + patient_epochs_array\n",
        "label_list = control_epochs_labels + patient_epochs_labels"
      ],
      "metadata": {
        "id": "cj3_OnaCVaEz"
      },
      "execution_count": null,
      "outputs": []
    },
    {
      "cell_type": "markdown",
      "source": [
        "# **Spletting the Dataset in the Basis of Epochs**"
      ],
      "metadata": {
        "id": "on0ojTECyg4J"
      }
    },
    {
      "cell_type": "code",
      "source": [
        "epochs_array=control_epochs_array+patient_epochs_array\n",
        "epochs_labels=control_epochs_labels+patient_epochs_labels\n",
        "print(len(epochs_array),len(epochs_labels))"
      ],
      "metadata": {
        "colab": {
          "base_uri": "https://localhost:8080/"
        },
        "id": "RNWrq7idVde1",
        "outputId": "b6222eb2-c2fc-4b6f-9b09-aa497428ccec"
      },
      "execution_count": null,
      "outputs": [
        {
          "output_type": "stream",
          "name": "stdout",
          "text": [
            "58 58\n"
          ]
        }
      ]
    },
    {
      "cell_type": "markdown",
      "source": [
        "# **Creating the Groups**"
      ],
      "metadata": {
        "id": "h3HdRQKmym9Z"
      }
    },
    {
      "cell_type": "code",
      "source": [
        "groups = [[i]*len(j) for i,j in enumerate(data_list)]\n",
        "len(groups)"
      ],
      "metadata": {
        "colab": {
          "base_uri": "https://localhost:8080/"
        },
        "id": "BeyYu8rxVgbV",
        "outputId": "bc19ef49-e8ab-4326-e953-990557adb7c1"
      },
      "execution_count": null,
      "outputs": [
        {
          "output_type": "execute_result",
          "data": {
            "text/plain": [
              "58"
            ]
          },
          "metadata": {},
          "execution_count": 18
        }
      ]
    },
    {
      "cell_type": "markdown",
      "source": [
        "# **Converting the Data from List to array**"
      ],
      "metadata": {
        "id": "QiucwN8tyw-N"
      }
    },
    {
      "cell_type": "code",
      "source": [
        "data_array = np.vstack(data_list)\n",
        "label_array = np.hstack(label_list)\n",
        "groups_array = np.hstack(groups)\n",
        "print(data_array.shape, label_array.shape, groups_array.shape)"
      ],
      "metadata": {
        "colab": {
          "base_uri": "https://localhost:8080/"
        },
        "id": "AI1kM-3HVj-u",
        "outputId": "b68354c5-87d8-4bd6-dd63-873e100f0de8"
      },
      "execution_count": null,
      "outputs": [
        {
          "output_type": "stream",
          "name": "stdout",
          "text": [
            "(5735, 20, 1280) (5735,) (5735,)\n"
          ]
        }
      ]
    },
    {
      "cell_type": "markdown",
      "source": [
        "# **Feature Extraction**"
      ],
      "metadata": {
        "id": "8UdWmk8ny0mB"
      }
    },
    {
      "cell_type": "code",
      "source": [
        "from scipy import stats\n",
        "\n",
        "def mean(x):\n",
        "    return np.mean(x,axis=-1)\n",
        "def std(x):  \n",
        "    return np.std(x,axis=-1)\n",
        "def ptp(x):\n",
        "    return np.ptp(x,axis=-1)\n",
        "def var(x):\n",
        "    return np.var(x,axis=-1)\n",
        "def minim(x):\n",
        "    return np.min(x,axis=-1)\n",
        "def maxim(x):\n",
        "    return np.max(x,axis=-1)\n",
        "def argminim(x):\n",
        "    return np.argmin(x,axis=-1) \n",
        "def argmaxim(x):\n",
        "    return np.argmax(x,axis=-1)   \n",
        "                   \n",
        "def abs_diff_signals(x):\n",
        "    return np.sum(np.abs(np.diff(x,axis=-1)),axis=-1)\n",
        "def skewness(x):\n",
        "    return stats.skew(x,axis=-1)\n",
        "def kurtosis(x):\n",
        "    return stats.kurtosis(x,axis=-1)\n",
        "#def rms(x):\n",
        "#    return np.sqrt(np.mean(x**2,axis=-1)\n",
        "def concatenate_features(x):\n",
        "    return np.concatenate((mean(x),std(x),ptp(x),var(x),minim(x),maxim(x),argminim(x),argmaxim(x),abs_diff_signals(x),\\\n",
        "                           skewness(x),kurtosis(x)),axis=-1)  "
      ],
      "metadata": {
        "id": "1OBsRVOlVnnV"
      },
      "execution_count": null,
      "outputs": []
    },
    {
      "cell_type": "markdown",
      "source": [
        "# **Loop to Extract the Features**"
      ],
      "metadata": {
        "id": "n7IQKF1xy9_o"
      }
    },
    {
      "cell_type": "code",
      "source": [
        "features=[]\n",
        "for d in data_array:\n",
        "    features.append(concatenate_features(d))"
      ],
      "metadata": {
        "id": "-t0wimkRhZBj"
      },
      "execution_count": null,
      "outputs": []
    },
    {
      "cell_type": "markdown",
      "source": [
        "# **Converting the Features list into Features Arrays**"
      ],
      "metadata": {
        "id": "K5CTB_FQzGdj"
      }
    },
    {
      "cell_type": "code",
      "source": [
        "features_array=np.array(features)\n",
        "features_array.shape"
      ],
      "metadata": {
        "colab": {
          "base_uri": "https://localhost:8080/"
        },
        "id": "0tulbqpwhdPu",
        "outputId": "ad7f47e1-abed-4f3e-b7da-50c32268f0ac"
      },
      "execution_count": null,
      "outputs": [
        {
          "output_type": "execute_result",
          "data": {
            "text/plain": [
              "(5735, 220)"
            ]
          },
          "metadata": {},
          "execution_count": 22
        }
      ]
    },
    {
      "cell_type": "markdown",
      "source": [
        "# **Logistic Regression for Classification**"
      ],
      "metadata": {
        "id": "Wyn7q6iMzLhG"
      }
    },
    {
      "cell_type": "code",
      "source": [
        "from sklearn.linear_model import LogisticRegression\n",
        "from sklearn.pipeline import Pipeline # it use a PipeLine for Scaling with classification purpose\n",
        "from sklearn.preprocessing import StandardScaler # It use for Scaling\n",
        "from sklearn.model_selection import GroupKFold,GridSearchCV # 'GroupKFold' for Splitting the Dataset, based on the Groups not on the bases of trails.\n",
        "      # 'GridSearchCV' for Hyper Perameter Tuning"
      ],
      "metadata": {
        "id": "6RmB3VEphnzm"
      },
      "execution_count": null,
      "outputs": []
    },
    {
      "cell_type": "code",
      "source": [
        "clf=LogisticRegression() # Defining Classifier\n",
        "gkf=GroupKFold(5) # 5 groups\n",
        "pipe=Pipeline([('scalar',StandardScaler()),('clf',clf)])\n",
        "param_grid={'clf__C':[0.1,0.3,0.5,0.7,1,3,5,7]} # Random Parameters\n",
        "gscv=GridSearchCV(pipe,param_grid,cv=gkf,n_jobs=12)\n",
        "gscv.fit(features_array,label_array,groups=groups_array)"
      ],
      "metadata": {
        "colab": {
          "base_uri": "https://localhost:8080/"
        },
        "id": "m2PoKoiQhsv1",
        "outputId": "ba7bda71-ae75-47b5-ed37-f38da51258fa"
      },
      "execution_count": null,
      "outputs": [
        {
          "output_type": "stream",
          "name": "stderr",
          "text": [
            "/usr/local/lib/python3.7/dist-packages/sklearn/linear_model/_logistic.py:818: ConvergenceWarning: lbfgs failed to converge (status=1):\n",
            "STOP: TOTAL NO. of ITERATIONS REACHED LIMIT.\n",
            "\n",
            "Increase the number of iterations (max_iter) or scale the data as shown in:\n",
            "    https://scikit-learn.org/stable/modules/preprocessing.html\n",
            "Please also refer to the documentation for alternative solver options:\n",
            "    https://scikit-learn.org/stable/modules/linear_model.html#logistic-regression\n",
            "  extra_warning_msg=_LOGISTIC_SOLVER_CONVERGENCE_MSG,\n"
          ]
        },
        {
          "output_type": "execute_result",
          "data": {
            "text/plain": [
              "GridSearchCV(cv=GroupKFold(n_splits=5),\n",
              "             estimator=Pipeline(steps=[('scalar', StandardScaler()),\n",
              "                                       ('clf', LogisticRegression())]),\n",
              "             n_jobs=12,\n",
              "             param_grid={'clf__C': [0.1, 0.3, 0.5, 0.7, 1, 3, 5, 7]})"
            ]
          },
          "metadata": {},
          "execution_count": 24
        }
      ]
    },
    {
      "cell_type": "markdown",
      "source": [
        "# **Accuracy**"
      ],
      "metadata": {
        "id": "CyQEuN7230BR"
      }
    },
    {
      "cell_type": "code",
      "source": [
        "gscv.best_score_"
      ],
      "metadata": {
        "colab": {
          "base_uri": "https://localhost:8080/"
        },
        "id": "_9FPOsxbhwEx",
        "outputId": "0ccdbe9b-2088-4f0b-e13a-b5988077824b"
      },
      "execution_count": null,
      "outputs": [
        {
          "output_type": "execute_result",
          "data": {
            "text/plain": [
              "0.7365733527631197"
            ]
          },
          "metadata": {},
          "execution_count": 25
        }
      ]
    },
    {
      "cell_type": "markdown",
      "source": [
        "# **End of the Time**"
      ],
      "metadata": {
        "id": "4-aF4hQ135tM"
      }
    },
    {
      "cell_type": "code",
      "source": [
        "end = time.time()\n",
        "print(\"Total time in sec:\",end - start)"
      ],
      "metadata": {
        "colab": {
          "base_uri": "https://localhost:8080/"
        },
        "id": "BJkkBA8Lh9KL",
        "outputId": "9054c153-c85c-4d55-8dbc-3064c6176d4d"
      },
      "execution_count": null,
      "outputs": [
        {
          "output_type": "stream",
          "name": "stdout",
          "text": [
            "Total time in sec: 101.24415326118469\n"
          ]
        }
      ]
    },
    {
      "cell_type": "code",
      "source": [
        ""
      ],
      "metadata": {
        "id": "jkjHWQh5e9ib"
      },
      "execution_count": null,
      "outputs": []
    }
  ],
  "metadata": {
    "kernelspec": {
      "display_name": "Python 3 (ipykernel)",
      "language": "python",
      "name": "python3"
    },
    "language_info": {
      "codemirror_mode": {
        "name": "ipython",
        "version": 3
      },
      "file_extension": ".py",
      "mimetype": "text/x-python",
      "name": "python",
      "nbconvert_exporter": "python",
      "pygments_lexer": "ipython3",
      "version": "3.9.7"
    },
    "colab": {
      "name": "2022-May-28 EC EEG Classification(Logistic Regression).ipynb",
      "provenance": []
    },
    "accelerator": "GPU"
  },
  "nbformat": 4,
  "nbformat_minor": 0
}