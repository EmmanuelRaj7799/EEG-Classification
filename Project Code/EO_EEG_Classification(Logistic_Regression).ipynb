{
  "cells": [
    {
      "cell_type": "markdown",
      "source": [
        "# **Installing MNE** "
      ],
      "metadata": {
        "id": "gPDM5cHt5TzL"
      }
    },
    {
      "cell_type": "code",
      "source": [
        "! pip install mne"
      ],
      "metadata": {
        "colab": {
          "base_uri": "https://localhost:8080/"
        },
        "id": "RAKsGu2o36V4",
        "outputId": "171b7f68-80d6-4ddb-ce00-41916782a39d"
      },
      "execution_count": null,
      "outputs": [
        {
          "output_type": "stream",
          "name": "stdout",
          "text": [
            "Looking in indexes: https://pypi.org/simple, https://us-python.pkg.dev/colab-wheels/public/simple/\n",
            "Collecting mne\n",
            "  Downloading mne-1.0.3-py3-none-any.whl (7.5 MB)\n",
            "\u001b[K     |████████████████████████████████| 7.5 MB 18.7 MB/s \n",
            "\u001b[?25hRequirement already satisfied: pooch>=1.5 in /usr/local/lib/python3.7/dist-packages (from mne) (1.6.0)\n",
            "Requirement already satisfied: matplotlib in /usr/local/lib/python3.7/dist-packages (from mne) (3.2.2)\n",
            "Requirement already satisfied: decorator in /usr/local/lib/python3.7/dist-packages (from mne) (4.4.2)\n",
            "Requirement already satisfied: tqdm in /usr/local/lib/python3.7/dist-packages (from mne) (4.64.0)\n",
            "Requirement already satisfied: scipy>=1.1.0 in /usr/local/lib/python3.7/dist-packages (from mne) (1.4.1)\n",
            "Requirement already satisfied: jinja2 in /usr/local/lib/python3.7/dist-packages (from mne) (2.11.3)\n",
            "Requirement already satisfied: packaging in /usr/local/lib/python3.7/dist-packages (from mne) (21.3)\n",
            "Requirement already satisfied: numpy>=1.15.4 in /usr/local/lib/python3.7/dist-packages (from mne) (1.21.6)\n",
            "Requirement already satisfied: requests>=2.19.0 in /usr/local/lib/python3.7/dist-packages (from pooch>=1.5->mne) (2.23.0)\n",
            "Requirement already satisfied: appdirs>=1.3.0 in /usr/local/lib/python3.7/dist-packages (from pooch>=1.5->mne) (1.4.4)\n",
            "Requirement already satisfied: pyparsing!=3.0.5,>=2.0.2 in /usr/local/lib/python3.7/dist-packages (from packaging->mne) (3.0.9)\n",
            "Requirement already satisfied: chardet<4,>=3.0.2 in /usr/local/lib/python3.7/dist-packages (from requests>=2.19.0->pooch>=1.5->mne) (3.0.4)\n",
            "Requirement already satisfied: idna<3,>=2.5 in /usr/local/lib/python3.7/dist-packages (from requests>=2.19.0->pooch>=1.5->mne) (2.10)\n",
            "Requirement already satisfied: urllib3!=1.25.0,!=1.25.1,<1.26,>=1.21.1 in /usr/local/lib/python3.7/dist-packages (from requests>=2.19.0->pooch>=1.5->mne) (1.24.3)\n",
            "Requirement already satisfied: certifi>=2017.4.17 in /usr/local/lib/python3.7/dist-packages (from requests>=2.19.0->pooch>=1.5->mne) (2022.6.15)\n",
            "Requirement already satisfied: MarkupSafe>=0.23 in /usr/local/lib/python3.7/dist-packages (from jinja2->mne) (2.0.1)\n",
            "Requirement already satisfied: python-dateutil>=2.1 in /usr/local/lib/python3.7/dist-packages (from matplotlib->mne) (2.8.2)\n",
            "Requirement already satisfied: kiwisolver>=1.0.1 in /usr/local/lib/python3.7/dist-packages (from matplotlib->mne) (1.4.3)\n",
            "Requirement already satisfied: cycler>=0.10 in /usr/local/lib/python3.7/dist-packages (from matplotlib->mne) (0.11.0)\n",
            "Requirement already satisfied: typing-extensions in /usr/local/lib/python3.7/dist-packages (from kiwisolver>=1.0.1->matplotlib->mne) (4.1.1)\n",
            "Requirement already satisfied: six>=1.5 in /usr/local/lib/python3.7/dist-packages (from python-dateutil>=2.1->matplotlib->mne) (1.15.0)\n",
            "Installing collected packages: mne\n",
            "Successfully installed mne-1.0.3\n"
          ]
        }
      ]
    },
    {
      "cell_type": "markdown",
      "source": [
        "# **Starting of the Time**"
      ],
      "metadata": {
        "id": "zhSRedgf5n7e"
      }
    },
    {
      "cell_type": "code",
      "source": [
        "import time\n",
        "start = time.time()"
      ],
      "metadata": {
        "id": "E2A4jTRSvw2t"
      },
      "execution_count": null,
      "outputs": []
    },
    {
      "cell_type": "markdown",
      "source": [
        "# **Connecting Colab to Drive** "
      ],
      "metadata": {
        "id": "VNFjf5X-5h3a"
      }
    },
    {
      "cell_type": "code",
      "source": [
        "from google.colab import drive\n",
        "drive.mount('/content/drive')"
      ],
      "metadata": {
        "colab": {
          "base_uri": "https://localhost:8080/"
        },
        "id": "lGmf9vmyTRWi",
        "outputId": "7a7a5025-d21d-4d70-b6f7-e690cd17af42"
      },
      "execution_count": null,
      "outputs": [
        {
          "output_type": "stream",
          "name": "stdout",
          "text": [
            "Mounted at /content/drive\n"
          ]
        }
      ]
    },
    {
      "cell_type": "markdown",
      "source": [
        "# **Importing the Necessary Libraries**"
      ],
      "metadata": {
        "id": "8xoKi8yU5fCM"
      }
    },
    {
      "cell_type": "code",
      "source": [
        "from glob import glob # it Is help us to read all files in the Folder \n",
        "import os\n",
        "import mne # It is a Package which is Used to Analysis the EEG Dataset\n",
        "from numpy import array\n",
        "import numpy as np\n",
        "import pandas as pd\n",
        "import matplotlib.pyplot as plt"
      ],
      "metadata": {
        "id": "vnci5qXPTr8O"
      },
      "execution_count": null,
      "outputs": []
    },
    {
      "cell_type": "markdown",
      "source": [
        "# **Importing the Dataset**"
      ],
      "metadata": {
        "id": "Rcsl2E0p5uyE"
      }
    },
    {
      "cell_type": "code",
      "source": [
        "all_file_path = glob('/content/drive/MyDrive/2022-04-26_project_emmanuel/EO_Healthy_and_MDD_fif/*.fif')\n",
        "print(len(all_file_path))"
      ],
      "metadata": {
        "colab": {
          "base_uri": "https://localhost:8080/"
        },
        "id": "PzaA5JqdT1Ux",
        "outputId": "c4313e9d-788a-4f6a-d4d2-c14e802eeec5"
      },
      "execution_count": null,
      "outputs": [
        {
          "output_type": "stream",
          "name": "stdout",
          "text": [
            "61\n"
          ]
        }
      ]
    },
    {
      "cell_type": "code",
      "source": [
        "all_file_path"
      ],
      "metadata": {
        "colab": {
          "base_uri": "https://localhost:8080/"
        },
        "id": "5jplMMDOUEX1",
        "outputId": "1cb0d3a2-fa0e-4848-cb71-e75aab45141b"
      },
      "execution_count": null,
      "outputs": [
        {
          "output_type": "execute_result",
          "data": {
            "text/plain": [
              "['/content/drive/MyDrive/2022-04-26_project_emmanuel/EO_Healthy_and_MDD_fif/h15a_eo_cropped_raw.fif',\n",
              " '/content/drive/MyDrive/2022-04-26_project_emmanuel/EO_Healthy_and_MDD_fif/h15b_eo_cropped_raw.fif',\n",
              " '/content/drive/MyDrive/2022-04-26_project_emmanuel/EO_Healthy_and_MDD_fif/h1_eo_cropped_raw.fif',\n",
              " '/content/drive/MyDrive/2022-04-26_project_emmanuel/EO_Healthy_and_MDD_fif/h10_eo_cropped_raw.fif',\n",
              " '/content/drive/MyDrive/2022-04-26_project_emmanuel/EO_Healthy_and_MDD_fif/h11_eo_cropped_raw.fif',\n",
              " '/content/drive/MyDrive/2022-04-26_project_emmanuel/EO_Healthy_and_MDD_fif/h12_eo_cropped_raw.fif',\n",
              " '/content/drive/MyDrive/2022-04-26_project_emmanuel/EO_Healthy_and_MDD_fif/h13_eo_cropped_raw.fif',\n",
              " '/content/drive/MyDrive/2022-04-26_project_emmanuel/EO_Healthy_and_MDD_fif/h14_eo_cropped_raw.fif',\n",
              " '/content/drive/MyDrive/2022-04-26_project_emmanuel/EO_Healthy_and_MDD_fif/h16_eo_cropped_raw.fif',\n",
              " '/content/drive/MyDrive/2022-04-26_project_emmanuel/EO_Healthy_and_MDD_fif/h17_eo_cropped_raw.fif',\n",
              " '/content/drive/MyDrive/2022-04-26_project_emmanuel/EO_Healthy_and_MDD_fif/h18_eo_cropped_raw.fif',\n",
              " '/content/drive/MyDrive/2022-04-26_project_emmanuel/EO_Healthy_and_MDD_fif/h19_eo_cropped_raw.fif',\n",
              " '/content/drive/MyDrive/2022-04-26_project_emmanuel/EO_Healthy_and_MDD_fif/h2_eo_cropped_raw.fif',\n",
              " '/content/drive/MyDrive/2022-04-26_project_emmanuel/EO_Healthy_and_MDD_fif/h20_eo_cropped_raw.fif',\n",
              " '/content/drive/MyDrive/2022-04-26_project_emmanuel/EO_Healthy_and_MDD_fif/h21_eo_cropped_raw.fif',\n",
              " '/content/drive/MyDrive/2022-04-26_project_emmanuel/EO_Healthy_and_MDD_fif/h22_eo_cropped_raw.fif',\n",
              " '/content/drive/MyDrive/2022-04-26_project_emmanuel/EO_Healthy_and_MDD_fif/h26_eo_cropped_raw.fif',\n",
              " '/content/drive/MyDrive/2022-04-26_project_emmanuel/EO_Healthy_and_MDD_fif/h27_eo_cropped_raw.fif',\n",
              " '/content/drive/MyDrive/2022-04-26_project_emmanuel/EO_Healthy_and_MDD_fif/h28_eo_cropped_raw.fif',\n",
              " '/content/drive/MyDrive/2022-04-26_project_emmanuel/EO_Healthy_and_MDD_fif/h29_eo_cropped_raw.fif',\n",
              " '/content/drive/MyDrive/2022-04-26_project_emmanuel/EO_Healthy_and_MDD_fif/h230_eo_cropped_raw.fif',\n",
              " '/content/drive/MyDrive/2022-04-26_project_emmanuel/EO_Healthy_and_MDD_fif/h24_eo_cropped_raw.fif',\n",
              " '/content/drive/MyDrive/2022-04-26_project_emmanuel/EO_Healthy_and_MDD_fif/h4_eo_cropped_raw.fif',\n",
              " '/content/drive/MyDrive/2022-04-26_project_emmanuel/EO_Healthy_and_MDD_fif/h5_eo_cropped_raw.fif',\n",
              " '/content/drive/MyDrive/2022-04-26_project_emmanuel/EO_Healthy_and_MDD_fif/h6_eo_cropped_raw.fif',\n",
              " '/content/drive/MyDrive/2022-04-26_project_emmanuel/EO_Healthy_and_MDD_fif/h7_eo_cropped_raw.fif',\n",
              " '/content/drive/MyDrive/2022-04-26_project_emmanuel/EO_Healthy_and_MDD_fif/h8_eo_cropped_raw.fif',\n",
              " '/content/drive/MyDrive/2022-04-26_project_emmanuel/EO_Healthy_and_MDD_fif/h9_eo_cropped_raw.fif',\n",
              " '/content/drive/MyDrive/2022-04-26_project_emmanuel/EO_Healthy_and_MDD_fif/h3_eo_cropped_raw.fif',\n",
              " '/content/drive/MyDrive/2022-04-26_project_emmanuel/EO_Healthy_and_MDD_fif/mdd1_eo_cropped_raw.fif',\n",
              " '/content/drive/MyDrive/2022-04-26_project_emmanuel/EO_Healthy_and_MDD_fif/mdd10_eo_cropped_raw.fif',\n",
              " '/content/drive/MyDrive/2022-04-26_project_emmanuel/EO_Healthy_and_MDD_fif/mdd11_eo_cropped_raw.fif',\n",
              " '/content/drive/MyDrive/2022-04-26_project_emmanuel/EO_Healthy_and_MDD_fif/mdd12_eo_cropped_raw.fif',\n",
              " '/content/drive/MyDrive/2022-04-26_project_emmanuel/EO_Healthy_and_MDD_fif/mdd13_eo_cropped_raw.fif',\n",
              " '/content/drive/MyDrive/2022-04-26_project_emmanuel/EO_Healthy_and_MDD_fif/mdd14_eo_cropped_raw.fif',\n",
              " '/content/drive/MyDrive/2022-04-26_project_emmanuel/EO_Healthy_and_MDD_fif/mdd15_eo_cropped_raw.fif',\n",
              " '/content/drive/MyDrive/2022-04-26_project_emmanuel/EO_Healthy_and_MDD_fif/mdd16_eo_cropped_raw.fif',\n",
              " '/content/drive/MyDrive/2022-04-26_project_emmanuel/EO_Healthy_and_MDD_fif/mdd17_eo_cropped_raw.fif',\n",
              " '/content/drive/MyDrive/2022-04-26_project_emmanuel/EO_Healthy_and_MDD_fif/mdd18_eo_cropped_raw.fif',\n",
              " '/content/drive/MyDrive/2022-04-26_project_emmanuel/EO_Healthy_and_MDD_fif/mdd19_eo_cropped_raw.fif',\n",
              " '/content/drive/MyDrive/2022-04-26_project_emmanuel/EO_Healthy_and_MDD_fif/mdd2_eo_cropped_raw.fif',\n",
              " '/content/drive/MyDrive/2022-04-26_project_emmanuel/EO_Healthy_and_MDD_fif/mdd20_eo_cropped_raw.fif',\n",
              " '/content/drive/MyDrive/2022-04-26_project_emmanuel/EO_Healthy_and_MDD_fif/mdd21_eo_cropped_raw.fif',\n",
              " '/content/drive/MyDrive/2022-04-26_project_emmanuel/EO_Healthy_and_MDD_fif/mdd22_eo_cropped_raw.fif',\n",
              " '/content/drive/MyDrive/2022-04-26_project_emmanuel/EO_Healthy_and_MDD_fif/mdd23_eo_cropped_raw.fif',\n",
              " '/content/drive/MyDrive/2022-04-26_project_emmanuel/EO_Healthy_and_MDD_fif/mdd24_eo_cropped_raw.fif',\n",
              " '/content/drive/MyDrive/2022-04-26_project_emmanuel/EO_Healthy_and_MDD_fif/mdd25_eo_cropped_raw.fif',\n",
              " '/content/drive/MyDrive/2022-04-26_project_emmanuel/EO_Healthy_and_MDD_fif/mdd26_eo_cropped_raw.fif',\n",
              " '/content/drive/MyDrive/2022-04-26_project_emmanuel/EO_Healthy_and_MDD_fif/mdd27_eo_cropped_raw.fif',\n",
              " '/content/drive/MyDrive/2022-04-26_project_emmanuel/EO_Healthy_and_MDD_fif/mdd28_eo_cropped_raw.fif',\n",
              " '/content/drive/MyDrive/2022-04-26_project_emmanuel/EO_Healthy_and_MDD_fif/mdd29_eo_cropped_raw.fif',\n",
              " '/content/drive/MyDrive/2022-04-26_project_emmanuel/EO_Healthy_and_MDD_fif/mdd3_eo_cropped_raw.fif',\n",
              " '/content/drive/MyDrive/2022-04-26_project_emmanuel/EO_Healthy_and_MDD_fif/mdd30_eo_cropped_raw.fif',\n",
              " '/content/drive/MyDrive/2022-04-26_project_emmanuel/EO_Healthy_and_MDD_fif/mdd31_eo_cropped_raw.fif',\n",
              " '/content/drive/MyDrive/2022-04-26_project_emmanuel/EO_Healthy_and_MDD_fif/mdd32_eo_cropped_raw.fif',\n",
              " '/content/drive/MyDrive/2022-04-26_project_emmanuel/EO_Healthy_and_MDD_fif/mdd33_eo_cropped_raw.fif',\n",
              " '/content/drive/MyDrive/2022-04-26_project_emmanuel/EO_Healthy_and_MDD_fif/mdd34_eo_cropped_raw.fif',\n",
              " '/content/drive/MyDrive/2022-04-26_project_emmanuel/EO_Healthy_and_MDD_fif/mdd4_eo_cropped_raw.fif',\n",
              " '/content/drive/MyDrive/2022-04-26_project_emmanuel/EO_Healthy_and_MDD_fif/mdd5_eo_cropped_raw.fif',\n",
              " '/content/drive/MyDrive/2022-04-26_project_emmanuel/EO_Healthy_and_MDD_fif/mdd6_eo_cropped_raw.fif',\n",
              " '/content/drive/MyDrive/2022-04-26_project_emmanuel/EO_Healthy_and_MDD_fif/mdd9_eo_cropped_raw.fif']"
            ]
          },
          "metadata": {},
          "execution_count": 6
        }
      ]
    },
    {
      "cell_type": "markdown",
      "source": [
        "# **Separating the Healthy Subjects and MDD Patients**"
      ],
      "metadata": {
        "id": "A01Ws1_P55o_"
      }
    },
    {
      "cell_type": "code",
      "source": [
        "healthy_file_path = [i for i in all_file_path if 'h' in i.split('/')[6]]\n",
        "patient_file_path = [i for i in all_file_path if 'm' in i.split('/')[6]]\n",
        "print(len(healthy_file_path), len(patient_file_path))"
      ],
      "metadata": {
        "colab": {
          "base_uri": "https://localhost:8080/"
        },
        "id": "jQqcgEwaUJf9",
        "outputId": "c3dc2980-967d-4b08-80ff-597b120bc85e"
      },
      "execution_count": null,
      "outputs": [
        {
          "output_type": "stream",
          "name": "stdout",
          "text": [
            "29 32\n"
          ]
        }
      ]
    },
    {
      "cell_type": "markdown",
      "source": [
        "# **Reading the File Path and Getting the Data from One File**"
      ],
      "metadata": {
        "id": "9Qis3L1558kU"
      }
    },
    {
      "cell_type": "code",
      "source": [
        "def read_data(file_path):\n",
        "    data = mne.io.read_raw_fif(file_path, preload = True)\n",
        "    data.set_eeg_reference()\n",
        "    data.filter(l_freq = 0.5, h_freq = 60)\n",
        "    epochs = mne.make_fixed_length_epochs(data, duration = 5, overlap = 2)\n",
        "    array = epochs.get_data()\n",
        "    return array"
      ],
      "metadata": {
        "id": "z5FuUzgjURYn"
      },
      "execution_count": null,
      "outputs": []
    },
    {
      "cell_type": "code",
      "source": [
        "sample_data = read_data(healthy_file_path[0])"
      ],
      "metadata": {
        "colab": {
          "base_uri": "https://localhost:8080/"
        },
        "id": "oAygQl-6UyVA",
        "outputId": "befbc179-1dd7-4547-f700-a7ad91b306b8"
      },
      "execution_count": null,
      "outputs": [
        {
          "output_type": "stream",
          "name": "stdout",
          "text": [
            "Opening raw data file /content/drive/MyDrive/2022-04-26_project_emmanuel/EO_Healthy_and_MDD_fif/h15a_eo_cropped_raw.fif...\n",
            "Isotrak not found\n",
            "    Range : 0 ... 77311 =      0.000 ...   301.996 secs\n",
            "Ready.\n",
            "Reading 0 ... 77311  =      0.000 ...   301.996 secs...\n",
            "EEG channel type selected for re-referencing\n",
            "Applying average reference.\n",
            "Applying a custom ('EEG',) reference.\n",
            "Filtering raw data in 1 contiguous segment\n",
            "Setting up band-pass filter from 0.5 - 60 Hz\n",
            "\n",
            "FIR filter parameters\n",
            "---------------------\n",
            "Designing a one-pass, zero-phase, non-causal bandpass filter:\n",
            "- Windowed time-domain design (firwin) method\n",
            "- Hamming window with 0.0194 passband ripple and 53 dB stopband attenuation\n",
            "- Lower passband edge: 0.50\n",
            "- Lower transition bandwidth: 0.50 Hz (-6 dB cutoff frequency: 0.25 Hz)\n",
            "- Upper passband edge: 60.00 Hz\n",
            "- Upper transition bandwidth: 15.00 Hz (-6 dB cutoff frequency: 67.50 Hz)\n",
            "- Filter length: 1691 samples (6.605 sec)\n",
            "\n",
            "Not setting metadata\n",
            "100 matching events found\n",
            "No baseline correction applied\n",
            "0 projection items activated\n",
            "Using data from preloaded Raw for 100 events and 1280 original time points ...\n",
            "0 bad epochs dropped\n"
          ]
        }
      ]
    },
    {
      "cell_type": "code",
      "source": [
        "sample_data.shape # no. of epochs, channels, length of signals "
      ],
      "metadata": {
        "colab": {
          "base_uri": "https://localhost:8080/"
        },
        "id": "LETNmhOzU6oZ",
        "outputId": "d111cbaa-a87e-45ca-c110-8f6d58298399"
      },
      "execution_count": null,
      "outputs": [
        {
          "output_type": "execute_result",
          "data": {
            "text/plain": [
              "(100, 20, 1280)"
            ]
          },
          "metadata": {},
          "execution_count": 29
        }
      ]
    },
    {
      "cell_type": "markdown",
      "source": [
        "# **Reading the File Path and Getting the Data from All File**"
      ],
      "metadata": {
        "id": "XmnNnFE06Itc"
      }
    },
    {
      "cell_type": "code",
      "source": [
        "%%capture\n",
        "control_epochs_array = [read_data(i) for i in healthy_file_path]\n",
        "patient_epochs_array = [read_data(i) for i in patient_file_path]"
      ],
      "metadata": {
        "id": "ETpdug2TU_j_"
      },
      "execution_count": null,
      "outputs": []
    },
    {
      "cell_type": "code",
      "source": [
        "control_epochs_array[0].shape, control_epochs_array[1].shape, control_epochs_array[2].shape, control_epochs_array[3].shape, control_epochs_array[4].shape#, control_epochs_array[5].shape, control_epochs_array[6].shape, control_epochs_array[7].shape, control_epochs_array[8].shape, control_epochs_array[9].shape, control_epochs_array[10].shape, control_epochs_array[11].shape, control_epochs_array[12].shape, control_epochs_array[38].shape, control_epochs_array[14].shape"
      ],
      "metadata": {
        "colab": {
          "base_uri": "https://localhost:8080/"
        },
        "id": "YoSdotYhVDy8",
        "outputId": "976cc338-f644-40f1-e638-261915a79983"
      },
      "execution_count": null,
      "outputs": [
        {
          "output_type": "execute_result",
          "data": {
            "text/plain": [
              "((100, 20, 1280),\n",
              " (100, 20, 1280),\n",
              " (116, 20, 1280),\n",
              " (99, 20, 1280),\n",
              " (100, 20, 1280))"
            ]
          },
          "metadata": {},
          "execution_count": 31
        }
      ]
    },
    {
      "cell_type": "code",
      "source": [
        "control_epochs_array[0].shape"
      ],
      "metadata": {
        "colab": {
          "base_uri": "https://localhost:8080/"
        },
        "id": "Xr-zDsKnXD4E",
        "outputId": "813b4ad9-2756-4235-b802-b5472c19c170"
      },
      "execution_count": null,
      "outputs": [
        {
          "output_type": "execute_result",
          "data": {
            "text/plain": [
              "(100, 20, 1280)"
            ]
          },
          "metadata": {},
          "execution_count": 32
        }
      ]
    },
    {
      "cell_type": "code",
      "source": [
        "patient_epochs_array[0].shape, patient_epochs_array[1].shape, patient_epochs_array[2].shape, patient_epochs_array[3].shape#, control_epochs_array[4].shape#, control_epochs_array[5].shape#, control_epochs_array[6].shape#, control_epochs_array[7].shape,  "
      ],
      "metadata": {
        "colab": {
          "base_uri": "https://localhost:8080/"
        },
        "id": "y5FBOwgtVOxE",
        "outputId": "f5cd13df-b85e-49cc-871d-1b735f2452f3"
      },
      "execution_count": null,
      "outputs": [
        {
          "output_type": "execute_result",
          "data": {
            "text/plain": [
              "((99, 20, 1280), (99, 20, 1280), (99, 20, 1280), (62, 20, 1280))"
            ]
          },
          "metadata": {},
          "execution_count": 33
        }
      ]
    },
    {
      "cell_type": "markdown",
      "source": [
        "# **Creating the Labels**"
      ],
      "metadata": {
        "id": "-LFc4Yg66PQG"
      }
    },
    {
      "cell_type": "code",
      "source": [
        "control_epochs_labels = [len(i)*[0] for i in control_epochs_array]\n",
        "patient_epochs_labels = [len(i)*[1] for i in patient_epochs_array]\n",
        "len(control_epochs_labels), len(patient_epochs_labels)"
      ],
      "metadata": {
        "colab": {
          "base_uri": "https://localhost:8080/"
        },
        "id": "DQOinvScVV4-",
        "outputId": "244ed388-475b-4f13-a92d-5d34fc0c04c7"
      },
      "execution_count": null,
      "outputs": [
        {
          "output_type": "execute_result",
          "data": {
            "text/plain": [
              "(29, 32)"
            ]
          },
          "metadata": {},
          "execution_count": 34
        }
      ]
    },
    {
      "cell_type": "markdown",
      "source": [
        "# **Combining Both the Healthy and MDD Files**"
      ],
      "metadata": {
        "id": "6MPBKujx6V5A"
      }
    },
    {
      "cell_type": "code",
      "source": [
        "data_list = control_epochs_array + patient_epochs_array\n",
        "label_list = control_epochs_labels + patient_epochs_labels"
      ],
      "metadata": {
        "id": "cj3_OnaCVaEz"
      },
      "execution_count": null,
      "outputs": []
    },
    {
      "cell_type": "markdown",
      "source": [
        "# **Spletting the Dataset in the Basis of Epochs**"
      ],
      "metadata": {
        "id": "DT892zov6djb"
      }
    },
    {
      "cell_type": "code",
      "source": [
        "epochs_array=control_epochs_array+patient_epochs_array\n",
        "epochs_labels=control_epochs_labels+patient_epochs_labels\n",
        "print(len(epochs_array),len(epochs_labels))"
      ],
      "metadata": {
        "colab": {
          "base_uri": "https://localhost:8080/"
        },
        "id": "RNWrq7idVde1",
        "outputId": "a2a8da60-e161-4ed9-df93-3920c07aab0c"
      },
      "execution_count": null,
      "outputs": [
        {
          "output_type": "stream",
          "name": "stdout",
          "text": [
            "61 61\n"
          ]
        }
      ]
    },
    {
      "cell_type": "markdown",
      "source": [
        "# **Creating the Groups**"
      ],
      "metadata": {
        "id": "Wdmozs0w6tcR"
      }
    },
    {
      "cell_type": "code",
      "source": [
        "groups = [[i]*len(j) for i,j in enumerate(data_list)]\n",
        "len(groups)"
      ],
      "metadata": {
        "colab": {
          "base_uri": "https://localhost:8080/"
        },
        "id": "BeyYu8rxVgbV",
        "outputId": "1105e584-9392-4289-d968-7779b92930af"
      },
      "execution_count": null,
      "outputs": [
        {
          "output_type": "execute_result",
          "data": {
            "text/plain": [
              "61"
            ]
          },
          "metadata": {},
          "execution_count": 37
        }
      ]
    },
    {
      "cell_type": "markdown",
      "source": [
        "# **Converting the Data from List to array**"
      ],
      "metadata": {
        "id": "Ekbo5sW66zt4"
      }
    },
    {
      "cell_type": "code",
      "source": [
        "data_array = np.vstack(data_list)\n",
        "label_array = np.hstack(label_list)\n",
        "groups_array = np.hstack(groups)\n",
        "print(data_array.shape, label_array.shape, groups_array.shape)"
      ],
      "metadata": {
        "colab": {
          "base_uri": "https://localhost:8080/"
        },
        "id": "AI1kM-3HVj-u",
        "outputId": "ea16cc1a-360c-4401-f839-94414b724eb9"
      },
      "execution_count": null,
      "outputs": [
        {
          "output_type": "stream",
          "name": "stdout",
          "text": [
            "(6011, 20, 1280) (6011,) (6011,)\n"
          ]
        }
      ]
    },
    {
      "cell_type": "markdown",
      "source": [
        "# **Feature Extraction**"
      ],
      "metadata": {
        "id": "bS2zSxSi62xF"
      }
    },
    {
      "cell_type": "code",
      "source": [
        "from scipy import stats\n",
        "\n",
        "def mean(x):\n",
        "    return np.mean(x,axis=-1)\n",
        "def std(x):  \n",
        "    return np.std(x,axis=-1)\n",
        "def ptp(x):\n",
        "    return np.ptp(x,axis=-1)\n",
        "def var(x):\n",
        "    return np.var(x,axis=-1)\n",
        "def minim(x):\n",
        "    return np.min(x,axis=-1)\n",
        "def maxim(x):\n",
        "    return np.max(x,axis=-1)\n",
        "def argminim(x):\n",
        "    return np.argmin(x,axis=-1) \n",
        "def argmaxim(x):\n",
        "    return np.argmax(x,axis=-1)   \n",
        "                   \n",
        "def abs_diff_signals(x):\n",
        "    return np.sum(np.abs(np.diff(x,axis=-1)),axis=-1)\n",
        "def skewness(x):\n",
        "    return stats.skew(x,axis=-1)\n",
        "def kurtosis(x):\n",
        "    return stats.kurtosis(x,axis=-1)\n",
        "#def rms(x):\n",
        "#    return np.sqrt(np.mean(x**2,axis=-1)\n",
        "def concatenate_features(x):\n",
        "    return np.concatenate((mean(x),std(x),ptp(x),var(x),minim(x),maxim(x),argminim(x),argmaxim(x),abs_diff_signals(x),\\\n",
        "                           skewness(x),kurtosis(x)),axis=-1)  "
      ],
      "metadata": {
        "id": "1OBsRVOlVnnV"
      },
      "execution_count": null,
      "outputs": []
    },
    {
      "cell_type": "markdown",
      "source": [
        "# **Loop to Extract the Features**"
      ],
      "metadata": {
        "id": "0-2UdPMo7Bfj"
      }
    },
    {
      "cell_type": "code",
      "source": [
        "features=[]\n",
        "for d in data_array:\n",
        "    features.append(concatenate_features(d))"
      ],
      "metadata": {
        "id": "-t0wimkRhZBj"
      },
      "execution_count": null,
      "outputs": []
    },
    {
      "cell_type": "markdown",
      "source": [
        "# **Converting the Features list into Features Arrays**"
      ],
      "metadata": {
        "id": "_gnNL8dK7Kxq"
      }
    },
    {
      "cell_type": "code",
      "source": [
        "features_array=np.array(features)\n",
        "features_array.shape"
      ],
      "metadata": {
        "colab": {
          "base_uri": "https://localhost:8080/"
        },
        "id": "0tulbqpwhdPu",
        "outputId": "034933f5-4483-43ad-c81d-a204f1f6446b"
      },
      "execution_count": null,
      "outputs": [
        {
          "output_type": "execute_result",
          "data": {
            "text/plain": [
              "(6011, 220)"
            ]
          },
          "metadata": {},
          "execution_count": 41
        }
      ]
    },
    {
      "cell_type": "markdown",
      "source": [
        "# **Logistic Regression for Classification**"
      ],
      "metadata": {
        "id": "EVIp4CZs4qKm"
      }
    },
    {
      "cell_type": "code",
      "source": [
        "from sklearn.linear_model import LogisticRegression\n",
        "from sklearn.pipeline import Pipeline\n",
        "from sklearn.preprocessing import StandardScaler\n",
        "from sklearn.model_selection import GroupKFold,GridSearchCV"
      ],
      "metadata": {
        "id": "6RmB3VEphnzm"
      },
      "execution_count": null,
      "outputs": []
    },
    {
      "cell_type": "code",
      "source": [
        "clf=LogisticRegression() # Defining Classifier\n",
        "gkf=GroupKFold(5) # 5 Groups\n",
        "pipe=Pipeline([('scalar',StandardScaler()),('clf',clf)])\n",
        "param_grid={'clf__C':[0.1,0.3,0.5,0.7,1,3,5,7]} # Random Parameters\n",
        "gscv=GridSearchCV(pipe,param_grid,cv=gkf,n_jobs=12)\n",
        "gscv.fit(features_array,label_array,groups=groups_array)"
      ],
      "metadata": {
        "colab": {
          "base_uri": "https://localhost:8080/"
        },
        "id": "m2PoKoiQhsv1",
        "outputId": "0b8dbf9a-845f-464c-c3ab-7f7383fa6542"
      },
      "execution_count": null,
      "outputs": [
        {
          "output_type": "stream",
          "name": "stderr",
          "text": [
            "/usr/local/lib/python3.7/dist-packages/sklearn/linear_model/_logistic.py:818: ConvergenceWarning: lbfgs failed to converge (status=1):\n",
            "STOP: TOTAL NO. of ITERATIONS REACHED LIMIT.\n",
            "\n",
            "Increase the number of iterations (max_iter) or scale the data as shown in:\n",
            "    https://scikit-learn.org/stable/modules/preprocessing.html\n",
            "Please also refer to the documentation for alternative solver options:\n",
            "    https://scikit-learn.org/stable/modules/linear_model.html#logistic-regression\n",
            "  extra_warning_msg=_LOGISTIC_SOLVER_CONVERGENCE_MSG,\n"
          ]
        },
        {
          "output_type": "execute_result",
          "data": {
            "text/plain": [
              "GridSearchCV(cv=GroupKFold(n_splits=5),\n",
              "             estimator=Pipeline(steps=[('scalar', StandardScaler()),\n",
              "                                       ('clf', LogisticRegression())]),\n",
              "             n_jobs=12,\n",
              "             param_grid={'clf__C': [0.1, 0.3, 0.5, 0.7, 1, 3, 5, 7]})"
            ]
          },
          "metadata": {},
          "execution_count": 43
        }
      ]
    },
    {
      "cell_type": "markdown",
      "source": [
        "# **Accuracy**"
      ],
      "metadata": {
        "id": "RwJcYdql4V0v"
      }
    },
    {
      "cell_type": "code",
      "source": [
        "gscv.best_score_"
      ],
      "metadata": {
        "colab": {
          "base_uri": "https://localhost:8080/"
        },
        "id": "_9FPOsxbhwEx",
        "outputId": "42d6f2bc-9f0d-437c-ef06-3dd119392ba6"
      },
      "execution_count": null,
      "outputs": [
        {
          "output_type": "execute_result",
          "data": {
            "text/plain": [
              "0.8052019301642155"
            ]
          },
          "metadata": {},
          "execution_count": 44
        }
      ]
    },
    {
      "cell_type": "markdown",
      "source": [
        "# **End of the Time**"
      ],
      "metadata": {
        "id": "8KrU1bFB4Qnh"
      }
    },
    {
      "cell_type": "code",
      "source": [
        "end = time.time()\n",
        "print(\"Total time in sec:\",end - start)"
      ],
      "metadata": {
        "colab": {
          "base_uri": "https://localhost:8080/"
        },
        "id": "BJkkBA8Lh9KL",
        "outputId": "e1bab72f-20e3-4409-d49c-10616e6b4023"
      },
      "execution_count": null,
      "outputs": [
        {
          "output_type": "stream",
          "name": "stdout",
          "text": [
            "Total time in sec: 192.9328384399414\n"
          ]
        }
      ]
    },
    {
      "cell_type": "code",
      "source": [
        ""
      ],
      "metadata": {
        "id": "jkjHWQh5e9ib"
      },
      "execution_count": null,
      "outputs": []
    }
  ],
  "metadata": {
    "kernelspec": {
      "display_name": "Python 3 (ipykernel)",
      "language": "python",
      "name": "python3"
    },
    "language_info": {
      "codemirror_mode": {
        "name": "ipython",
        "version": 3
      },
      "file_extension": ".py",
      "mimetype": "text/x-python",
      "name": "python",
      "nbconvert_exporter": "python",
      "pygments_lexer": "ipython3",
      "version": "3.9.7"
    },
    "colab": {
      "name": "2022-May-28 EO EEG Classification(Logistic Regression).ipynb",
      "provenance": []
    },
    "accelerator": "GPU"
  },
  "nbformat": 4,
  "nbformat_minor": 0
}