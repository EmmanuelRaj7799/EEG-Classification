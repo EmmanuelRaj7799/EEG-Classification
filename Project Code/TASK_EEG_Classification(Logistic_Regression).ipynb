{
  "cells": [
    {
      "cell_type": "markdown",
      "source": [
        "# **Installing MNE**"
      ],
      "metadata": {
        "id": "j_jdDHs77YWS"
      }
    },
    {
      "cell_type": "code",
      "source": [
        "! pip install mne"
      ],
      "metadata": {
        "colab": {
          "base_uri": "https://localhost:8080/"
        },
        "id": "RAKsGu2o36V4",
        "outputId": "327a991c-37f7-455d-de8f-d926cd5404a2"
      },
      "execution_count": null,
      "outputs": [
        {
          "output_type": "stream",
          "name": "stdout",
          "text": [
            "Looking in indexes: https://pypi.org/simple, https://us-python.pkg.dev/colab-wheels/public/simple/\n",
            "Collecting mne\n",
            "  Downloading mne-1.0.3-py3-none-any.whl (7.5 MB)\n",
            "\u001b[K     |████████████████████████████████| 7.5 MB 26.8 MB/s \n",
            "\u001b[?25hRequirement already satisfied: numpy>=1.15.4 in /usr/local/lib/python3.7/dist-packages (from mne) (1.21.6)\n",
            "Requirement already satisfied: packaging in /usr/local/lib/python3.7/dist-packages (from mne) (21.3)\n",
            "Requirement already satisfied: pooch>=1.5 in /usr/local/lib/python3.7/dist-packages (from mne) (1.6.0)\n",
            "Requirement already satisfied: decorator in /usr/local/lib/python3.7/dist-packages (from mne) (4.4.2)\n",
            "Requirement already satisfied: jinja2 in /usr/local/lib/python3.7/dist-packages (from mne) (2.11.3)\n",
            "Requirement already satisfied: scipy>=1.1.0 in /usr/local/lib/python3.7/dist-packages (from mne) (1.4.1)\n",
            "Requirement already satisfied: tqdm in /usr/local/lib/python3.7/dist-packages (from mne) (4.64.0)\n",
            "Requirement already satisfied: matplotlib in /usr/local/lib/python3.7/dist-packages (from mne) (3.2.2)\n",
            "Requirement already satisfied: appdirs>=1.3.0 in /usr/local/lib/python3.7/dist-packages (from pooch>=1.5->mne) (1.4.4)\n",
            "Requirement already satisfied: requests>=2.19.0 in /usr/local/lib/python3.7/dist-packages (from pooch>=1.5->mne) (2.23.0)\n",
            "Requirement already satisfied: pyparsing!=3.0.5,>=2.0.2 in /usr/local/lib/python3.7/dist-packages (from packaging->mne) (3.0.9)\n",
            "Requirement already satisfied: chardet<4,>=3.0.2 in /usr/local/lib/python3.7/dist-packages (from requests>=2.19.0->pooch>=1.5->mne) (3.0.4)\n",
            "Requirement already satisfied: urllib3!=1.25.0,!=1.25.1,<1.26,>=1.21.1 in /usr/local/lib/python3.7/dist-packages (from requests>=2.19.0->pooch>=1.5->mne) (1.24.3)\n",
            "Requirement already satisfied: certifi>=2017.4.17 in /usr/local/lib/python3.7/dist-packages (from requests>=2.19.0->pooch>=1.5->mne) (2022.6.15)\n",
            "Requirement already satisfied: idna<3,>=2.5 in /usr/local/lib/python3.7/dist-packages (from requests>=2.19.0->pooch>=1.5->mne) (2.10)\n",
            "Requirement already satisfied: MarkupSafe>=0.23 in /usr/local/lib/python3.7/dist-packages (from jinja2->mne) (2.0.1)\n",
            "Requirement already satisfied: python-dateutil>=2.1 in /usr/local/lib/python3.7/dist-packages (from matplotlib->mne) (2.8.2)\n",
            "Requirement already satisfied: cycler>=0.10 in /usr/local/lib/python3.7/dist-packages (from matplotlib->mne) (0.11.0)\n",
            "Requirement already satisfied: kiwisolver>=1.0.1 in /usr/local/lib/python3.7/dist-packages (from matplotlib->mne) (1.4.3)\n",
            "Requirement already satisfied: typing-extensions in /usr/local/lib/python3.7/dist-packages (from kiwisolver>=1.0.1->matplotlib->mne) (4.1.1)\n",
            "Requirement already satisfied: six>=1.5 in /usr/local/lib/python3.7/dist-packages (from python-dateutil>=2.1->matplotlib->mne) (1.15.0)\n",
            "Installing collected packages: mne\n",
            "Successfully installed mne-1.0.3\n"
          ]
        }
      ]
    },
    {
      "cell_type": "markdown",
      "source": [
        "# **Starting of the Time**"
      ],
      "metadata": {
        "id": "hf0oIM-V7eQf"
      }
    },
    {
      "cell_type": "code",
      "source": [
        "import time\n",
        "start = time.time()"
      ],
      "metadata": {
        "id": "E2A4jTRSvw2t"
      },
      "execution_count": null,
      "outputs": []
    },
    {
      "cell_type": "markdown",
      "source": [
        "# **Connecting Colab to Drive**"
      ],
      "metadata": {
        "id": "qcW0mlg57lX0"
      }
    },
    {
      "cell_type": "code",
      "source": [
        "from google.colab import drive\n",
        "drive.mount('/content/drive')"
      ],
      "metadata": {
        "colab": {
          "base_uri": "https://localhost:8080/"
        },
        "id": "lGmf9vmyTRWi",
        "outputId": "4b24353c-aa86-42fe-b169-81816b359eae"
      },
      "execution_count": null,
      "outputs": [
        {
          "output_type": "stream",
          "name": "stdout",
          "text": [
            "Mounted at /content/drive\n"
          ]
        }
      ]
    },
    {
      "cell_type": "markdown",
      "source": [
        "# **Importing The Necessary Libraries**"
      ],
      "metadata": {
        "id": "-58bofN07r51"
      }
    },
    {
      "cell_type": "code",
      "source": [
        "from glob import glob # it Is help us to read all files in the Folder \n",
        "import os\n",
        "import mne # It is a Package which is Used to Analysis the EEG Dataset\n",
        "from numpy import array\n",
        "import numpy as np\n",
        "import pandas as pd\n",
        "import matplotlib.pyplot as plt"
      ],
      "metadata": {
        "id": "vnci5qXPTr8O"
      },
      "execution_count": null,
      "outputs": []
    },
    {
      "cell_type": "markdown",
      "source": [
        "# **Importing the Dataset**"
      ],
      "metadata": {
        "id": "OVKl_WRz7ysG"
      }
    },
    {
      "cell_type": "code",
      "source": [
        "all_file_path = glob('/content/drive/MyDrive/2022-04-26_project_emmanuel/TASK_Healthy_and_MDD_fif/*.fif')\n",
        "print(len(all_file_path))"
      ],
      "metadata": {
        "colab": {
          "base_uri": "https://localhost:8080/"
        },
        "id": "PzaA5JqdT1Ux",
        "outputId": "a48e10d4-f63f-4de8-f0c5-88a86c8b7705"
      },
      "execution_count": null,
      "outputs": [
        {
          "output_type": "stream",
          "name": "stdout",
          "text": [
            "61\n"
          ]
        }
      ]
    },
    {
      "cell_type": "code",
      "source": [
        "all_file_path"
      ],
      "metadata": {
        "colab": {
          "base_uri": "https://localhost:8080/"
        },
        "id": "5jplMMDOUEX1",
        "outputId": "5160ab36-5012-49cf-852e-99469e0cc06a"
      },
      "execution_count": null,
      "outputs": [
        {
          "output_type": "execute_result",
          "data": {
            "text/plain": [
              "['/content/drive/MyDrive/2022-04-26_project_emmanuel/TASK_Healthy_and_MDD_fif/h1_task_cropped_raw.fif',\n",
              " '/content/drive/MyDrive/2022-04-26_project_emmanuel/TASK_Healthy_and_MDD_fif/h10_task_cropped_raw.fif',\n",
              " '/content/drive/MyDrive/2022-04-26_project_emmanuel/TASK_Healthy_and_MDD_fif/h11_task_cropped_raw.fif',\n",
              " '/content/drive/MyDrive/2022-04-26_project_emmanuel/TASK_Healthy_and_MDD_fif/h12_task_cropped_raw.fif',\n",
              " '/content/drive/MyDrive/2022-04-26_project_emmanuel/TASK_Healthy_and_MDD_fif/h13_task_cropped_raw.fif',\n",
              " '/content/drive/MyDrive/2022-04-26_project_emmanuel/TASK_Healthy_and_MDD_fif/h14_task_cropped_raw.fif',\n",
              " '/content/drive/MyDrive/2022-04-26_project_emmanuel/TASK_Healthy_and_MDD_fif/h15_task_cropped_raw.fif',\n",
              " '/content/drive/MyDrive/2022-04-26_project_emmanuel/TASK_Healthy_and_MDD_fif/h16_task_cropped_raw.fif',\n",
              " '/content/drive/MyDrive/2022-04-26_project_emmanuel/TASK_Healthy_and_MDD_fif/h17_task_cropped_raw.fif',\n",
              " '/content/drive/MyDrive/2022-04-26_project_emmanuel/TASK_Healthy_and_MDD_fif/h18_task_cropped_raw.fif',\n",
              " '/content/drive/MyDrive/2022-04-26_project_emmanuel/TASK_Healthy_and_MDD_fif/h19_task_cropped_raw.fif',\n",
              " '/content/drive/MyDrive/2022-04-26_project_emmanuel/TASK_Healthy_and_MDD_fif/h22_task_cropped_raw.fif',\n",
              " '/content/drive/MyDrive/2022-04-26_project_emmanuel/TASK_Healthy_and_MDD_fif/h23_task_cropped_raw.fif',\n",
              " '/content/drive/MyDrive/2022-04-26_project_emmanuel/TASK_Healthy_and_MDD_fif/h24_task_cropped_raw.fif',\n",
              " '/content/drive/MyDrive/2022-04-26_project_emmanuel/TASK_Healthy_and_MDD_fif/h25_task_cropped_raw.fif',\n",
              " '/content/drive/MyDrive/2022-04-26_project_emmanuel/TASK_Healthy_and_MDD_fif/h26_task_cropped_raw.fif',\n",
              " '/content/drive/MyDrive/2022-04-26_project_emmanuel/TASK_Healthy_and_MDD_fif/h27_task_cropped_raw.fif',\n",
              " '/content/drive/MyDrive/2022-04-26_project_emmanuel/TASK_Healthy_and_MDD_fif/h28_task_cropped_raw.fif',\n",
              " '/content/drive/MyDrive/2022-04-26_project_emmanuel/TASK_Healthy_and_MDD_fif/h29_task_cropped_raw.fif',\n",
              " '/content/drive/MyDrive/2022-04-26_project_emmanuel/TASK_Healthy_and_MDD_fif/h2_task_cropped_raw.fif',\n",
              " '/content/drive/MyDrive/2022-04-26_project_emmanuel/TASK_Healthy_and_MDD_fif/h3_task_cropped_raw.fif',\n",
              " '/content/drive/MyDrive/2022-04-26_project_emmanuel/TASK_Healthy_and_MDD_fif/h30_task_cropped_raw.fif',\n",
              " '/content/drive/MyDrive/2022-04-26_project_emmanuel/TASK_Healthy_and_MDD_fif/h4_task_cropped_raw.fif',\n",
              " '/content/drive/MyDrive/2022-04-26_project_emmanuel/TASK_Healthy_and_MDD_fif/h5_task_cropped_raw.fif',\n",
              " '/content/drive/MyDrive/2022-04-26_project_emmanuel/TASK_Healthy_and_MDD_fif/h6_task_cropped_raw.fif',\n",
              " '/content/drive/MyDrive/2022-04-26_project_emmanuel/TASK_Healthy_and_MDD_fif/h7_task_cropped_raw.fif',\n",
              " '/content/drive/MyDrive/2022-04-26_project_emmanuel/TASK_Healthy_and_MDD_fif/h8_task_cropped_raw.fif',\n",
              " '/content/drive/MyDrive/2022-04-26_project_emmanuel/TASK_Healthy_and_MDD_fif/h9_task_cropped_raw.fif',\n",
              " '/content/drive/MyDrive/2022-04-26_project_emmanuel/TASK_Healthy_and_MDD_fif/mdd1_task_cropped_raw.fif',\n",
              " '/content/drive/MyDrive/2022-04-26_project_emmanuel/TASK_Healthy_and_MDD_fif/mdd10_task_cropped_raw.fif',\n",
              " '/content/drive/MyDrive/2022-04-26_project_emmanuel/TASK_Healthy_and_MDD_fif/mdd11_task_cropped_raw.fif',\n",
              " '/content/drive/MyDrive/2022-04-26_project_emmanuel/TASK_Healthy_and_MDD_fif/mdd12_task_cropped_raw.fif',\n",
              " '/content/drive/MyDrive/2022-04-26_project_emmanuel/TASK_Healthy_and_MDD_fif/mdd13_task_cropped_raw.fif',\n",
              " '/content/drive/MyDrive/2022-04-26_project_emmanuel/TASK_Healthy_and_MDD_fif/mdd14_task_cropped_raw.fif',\n",
              " '/content/drive/MyDrive/2022-04-26_project_emmanuel/TASK_Healthy_and_MDD_fif/mdd15_task_cropped_raw.fif',\n",
              " '/content/drive/MyDrive/2022-04-26_project_emmanuel/TASK_Healthy_and_MDD_fif/mdd16_task_cropped_raw.fif',\n",
              " '/content/drive/MyDrive/2022-04-26_project_emmanuel/TASK_Healthy_and_MDD_fif/mdd17_task_cropped_raw.fif',\n",
              " '/content/drive/MyDrive/2022-04-26_project_emmanuel/TASK_Healthy_and_MDD_fif/mdd18_task_cropped_raw.fif',\n",
              " '/content/drive/MyDrive/2022-04-26_project_emmanuel/TASK_Healthy_and_MDD_fif/mdd19_task_cropped_raw.fif',\n",
              " '/content/drive/MyDrive/2022-04-26_project_emmanuel/TASK_Healthy_and_MDD_fif/mdd2_task_cropped_raw.fif',\n",
              " '/content/drive/MyDrive/2022-04-26_project_emmanuel/TASK_Healthy_and_MDD_fif/mdd20_task_cropped_raw.fif',\n",
              " '/content/drive/MyDrive/2022-04-26_project_emmanuel/TASK_Healthy_and_MDD_fif/mdd21_task_cropped_raw.fif',\n",
              " '/content/drive/MyDrive/2022-04-26_project_emmanuel/TASK_Healthy_and_MDD_fif/mdd22_task_cropped_raw.fif',\n",
              " '/content/drive/MyDrive/2022-04-26_project_emmanuel/TASK_Healthy_and_MDD_fif/mdd23_task_cropped_raw.fif',\n",
              " '/content/drive/MyDrive/2022-04-26_project_emmanuel/TASK_Healthy_and_MDD_fif/mdd24_task_cropped_raw.fif',\n",
              " '/content/drive/MyDrive/2022-04-26_project_emmanuel/TASK_Healthy_and_MDD_fif/mdd25_task_cropped_raw.fif',\n",
              " '/content/drive/MyDrive/2022-04-26_project_emmanuel/TASK_Healthy_and_MDD_fif/mdd26_task_cropped_raw.fif',\n",
              " '/content/drive/MyDrive/2022-04-26_project_emmanuel/TASK_Healthy_and_MDD_fif/mdd27_task_cropped_raw.fif',\n",
              " '/content/drive/MyDrive/2022-04-26_project_emmanuel/TASK_Healthy_and_MDD_fif/mdd28_task_cropped_raw.fif',\n",
              " '/content/drive/MyDrive/2022-04-26_project_emmanuel/TASK_Healthy_and_MDD_fif/mdd29_task_cropped_raw.fif',\n",
              " '/content/drive/MyDrive/2022-04-26_project_emmanuel/TASK_Healthy_and_MDD_fif/mdd3_task_cropped_raw.fif',\n",
              " '/content/drive/MyDrive/2022-04-26_project_emmanuel/TASK_Healthy_and_MDD_fif/mdd30_task_cropped_raw.fif',\n",
              " '/content/drive/MyDrive/2022-04-26_project_emmanuel/TASK_Healthy_and_MDD_fif/mdd31_task_cropped_raw.fif',\n",
              " '/content/drive/MyDrive/2022-04-26_project_emmanuel/TASK_Healthy_and_MDD_fif/mdd32_task_cropped_raw.fif',\n",
              " '/content/drive/MyDrive/2022-04-26_project_emmanuel/TASK_Healthy_and_MDD_fif/mdd33_task_cropped_raw.fif',\n",
              " '/content/drive/MyDrive/2022-04-26_project_emmanuel/TASK_Healthy_and_MDD_fif/mdd34_task_cropped_raw.fif',\n",
              " '/content/drive/MyDrive/2022-04-26_project_emmanuel/TASK_Healthy_and_MDD_fif/mdd4_task_cropped_raw.fif',\n",
              " '/content/drive/MyDrive/2022-04-26_project_emmanuel/TASK_Healthy_and_MDD_fif/mdd5_task_cropped_raw.fif',\n",
              " '/content/drive/MyDrive/2022-04-26_project_emmanuel/TASK_Healthy_and_MDD_fif/mdd6_task_cropped_raw.fif',\n",
              " '/content/drive/MyDrive/2022-04-26_project_emmanuel/TASK_Healthy_and_MDD_fif/mdd7_task_cropped_raw.fif',\n",
              " '/content/drive/MyDrive/2022-04-26_project_emmanuel/TASK_Healthy_and_MDD_fif/mdd8_task_cropped_raw.fif']"
            ]
          },
          "metadata": {},
          "execution_count": 6
        }
      ]
    },
    {
      "cell_type": "markdown",
      "source": [
        "# **Separating the Healthy Subjects and MDD Patients**"
      ],
      "metadata": {
        "id": "nX1knXMn8BOZ"
      }
    },
    {
      "cell_type": "code",
      "source": [
        "healthy_file_path = [i for i in all_file_path if 'h' in i.split('/')[6]]\n",
        "patient_file_path = [i for i in all_file_path if 'm' in i.split('/')[6]]\n",
        "print(len(healthy_file_path), len(patient_file_path))"
      ],
      "metadata": {
        "colab": {
          "base_uri": "https://localhost:8080/"
        },
        "id": "jQqcgEwaUJf9",
        "outputId": "f11d638d-540a-4691-cebb-7c618501fecb"
      },
      "execution_count": null,
      "outputs": [
        {
          "output_type": "stream",
          "name": "stdout",
          "text": [
            "28 33\n"
          ]
        }
      ]
    },
    {
      "cell_type": "markdown",
      "source": [
        "# **Reading the File Path and Getting the Data from One File**"
      ],
      "metadata": {
        "id": "Xoj1ZwUx8Guc"
      }
    },
    {
      "cell_type": "code",
      "source": [
        "def read_data(file_path):\n",
        "    data = mne.io.read_raw_fif(file_path, preload = True)\n",
        "    data.set_eeg_reference()\n",
        "    data.filter(l_freq = 0.5, h_freq = 60)\n",
        "    epochs = mne.make_fixed_length_epochs(data, duration = 5, overlap = 2)\n",
        "    array = epochs.get_data()\n",
        "    return array"
      ],
      "metadata": {
        "id": "z5FuUzgjURYn"
      },
      "execution_count": null,
      "outputs": []
    },
    {
      "cell_type": "code",
      "source": [
        "sample_data = read_data(healthy_file_path[0])"
      ],
      "metadata": {
        "colab": {
          "base_uri": "https://localhost:8080/"
        },
        "id": "oAygQl-6UyVA",
        "outputId": "99eb805e-7f18-4acc-a625-1e6b65621905"
      },
      "execution_count": null,
      "outputs": [
        {
          "output_type": "stream",
          "name": "stdout",
          "text": [
            "Opening raw data file /content/drive/MyDrive/2022-04-26_project_emmanuel/TASK_Healthy_and_MDD_fif/h1_task_cropped_raw.fif...\n",
            "Isotrak not found\n",
            "    Range : 0 ... 154879 =      0.000 ...   604.996 secs\n",
            "Ready.\n",
            "Reading 0 ... 154879  =      0.000 ...   604.996 secs...\n",
            "EEG channel type selected for re-referencing\n",
            "Applying average reference.\n",
            "Applying a custom ('EEG',) reference.\n",
            "Filtering raw data in 1 contiguous segment\n",
            "Setting up band-pass filter from 0.5 - 60 Hz\n",
            "\n",
            "FIR filter parameters\n",
            "---------------------\n",
            "Designing a one-pass, zero-phase, non-causal bandpass filter:\n",
            "- Windowed time-domain design (firwin) method\n",
            "- Hamming window with 0.0194 passband ripple and 53 dB stopband attenuation\n",
            "- Lower passband edge: 0.50\n",
            "- Lower transition bandwidth: 0.50 Hz (-6 dB cutoff frequency: 0.25 Hz)\n",
            "- Upper passband edge: 60.00 Hz\n",
            "- Upper transition bandwidth: 15.00 Hz (-6 dB cutoff frequency: 67.50 Hz)\n",
            "- Filter length: 1691 samples (6.605 sec)\n",
            "\n",
            "Not setting metadata\n",
            "201 matching events found\n",
            "No baseline correction applied\n",
            "0 projection items activated\n",
            "Using data from preloaded Raw for 201 events and 1280 original time points ...\n",
            "0 bad epochs dropped\n"
          ]
        }
      ]
    },
    {
      "cell_type": "code",
      "source": [
        "sample_data.shape # no. of epochs, channels, length of signals "
      ],
      "metadata": {
        "colab": {
          "base_uri": "https://localhost:8080/"
        },
        "id": "LETNmhOzU6oZ",
        "outputId": "0a21e408-a859-48f0-ca71-3cf41e67f4e9"
      },
      "execution_count": null,
      "outputs": [
        {
          "output_type": "execute_result",
          "data": {
            "text/plain": [
              "(201, 20, 1280)"
            ]
          },
          "metadata": {},
          "execution_count": 10
        }
      ]
    },
    {
      "cell_type": "markdown",
      "source": [
        "# **Reading the File Path and Getting the Data from All File**"
      ],
      "metadata": {
        "id": "Y3dlqN1i8Y7v"
      }
    },
    {
      "cell_type": "code",
      "source": [
        "%%capture\n",
        "control_epochs_array = [read_data(i) for i in healthy_file_path]\n",
        "patient_epochs_array = [read_data(i) for i in patient_file_path]"
      ],
      "metadata": {
        "id": "ETpdug2TU_j_"
      },
      "execution_count": null,
      "outputs": []
    },
    {
      "cell_type": "code",
      "source": [
        "control_epochs_array[0].shape, control_epochs_array[1].shape, control_epochs_array[2].shape, control_epochs_array[3].shape, control_epochs_array[4].shape#, control_epochs_array[5].shape, control_epochs_array[6].shape, control_epochs_array[7].shape, control_epochs_array[8].shape, control_epochs_array[9].shape, control_epochs_array[10].shape, control_epochs_array[11].shape, control_epochs_array[12].shape, control_epochs_array[38].shape, control_epochs_array[14].shape"
      ],
      "metadata": {
        "colab": {
          "base_uri": "https://localhost:8080/"
        },
        "id": "YoSdotYhVDy8",
        "outputId": "849de435-dbcb-4d80-f652-509b0f0a0450"
      },
      "execution_count": null,
      "outputs": [
        {
          "output_type": "execute_result",
          "data": {
            "text/plain": [
              "((201, 20, 1280),\n",
              " (201, 20, 1280),\n",
              " (201, 20, 1280),\n",
              " (201, 20, 1280),\n",
              " (202, 20, 1280))"
            ]
          },
          "metadata": {},
          "execution_count": 12
        }
      ]
    },
    {
      "cell_type": "code",
      "source": [
        "control_epochs_array[0].shape"
      ],
      "metadata": {
        "colab": {
          "base_uri": "https://localhost:8080/"
        },
        "id": "Xr-zDsKnXD4E",
        "outputId": "9f908bf4-5031-48f5-81fc-eda32bf0bc0d"
      },
      "execution_count": null,
      "outputs": [
        {
          "output_type": "execute_result",
          "data": {
            "text/plain": [
              "(201, 20, 1280)"
            ]
          },
          "metadata": {},
          "execution_count": 13
        }
      ]
    },
    {
      "cell_type": "code",
      "source": [
        "patient_epochs_array[0].shape, patient_epochs_array[1].shape, patient_epochs_array[2].shape, patient_epochs_array[3].shape#, control_epochs_array[4].shape#, control_epochs_array[5].shape#, control_epochs_array[6].shape#, control_epochs_array[7].shape,  "
      ],
      "metadata": {
        "colab": {
          "base_uri": "https://localhost:8080/"
        },
        "id": "y5FBOwgtVOxE",
        "outputId": "bc5f9828-6043-4021-df54-65201336fe5f"
      },
      "execution_count": null,
      "outputs": [
        {
          "output_type": "execute_result",
          "data": {
            "text/plain": [
              "((210, 20, 1280), (228, 20, 1280), (211, 20, 1280), (215, 20, 1280))"
            ]
          },
          "metadata": {},
          "execution_count": 14
        }
      ]
    },
    {
      "cell_type": "markdown",
      "source": [
        "# **Creating the Labels**"
      ],
      "metadata": {
        "id": "CAq1krR58h4p"
      }
    },
    {
      "cell_type": "code",
      "source": [
        "control_epochs_labels = [len(i)*[0] for i in control_epochs_array]\n",
        "patient_epochs_labels = [len(i)*[1] for i in patient_epochs_array]\n",
        "len(control_epochs_labels), len(patient_epochs_labels)"
      ],
      "metadata": {
        "colab": {
          "base_uri": "https://localhost:8080/"
        },
        "id": "DQOinvScVV4-",
        "outputId": "92e05161-72f3-4022-94b2-32b5bf84a952"
      },
      "execution_count": null,
      "outputs": [
        {
          "output_type": "execute_result",
          "data": {
            "text/plain": [
              "(28, 33)"
            ]
          },
          "metadata": {},
          "execution_count": 15
        }
      ]
    },
    {
      "cell_type": "markdown",
      "source": [
        "# **Combining Both the Healthy and MDD Files**"
      ],
      "metadata": {
        "id": "hMs2cOmh8k04"
      }
    },
    {
      "cell_type": "code",
      "source": [
        "data_list = control_epochs_array + patient_epochs_array\n",
        "label_list = control_epochs_labels + patient_epochs_labels"
      ],
      "metadata": {
        "id": "cj3_OnaCVaEz"
      },
      "execution_count": null,
      "outputs": []
    },
    {
      "cell_type": "markdown",
      "source": [
        "# **Spletting the Dataset in the Basis of Epochs**"
      ],
      "metadata": {
        "id": "wPoWgU2U8sJ8"
      }
    },
    {
      "cell_type": "code",
      "source": [
        "epochs_array=control_epochs_array+patient_epochs_array\n",
        "epochs_labels=control_epochs_labels+patient_epochs_labels\n",
        "print(len(epochs_array),len(epochs_labels))"
      ],
      "metadata": {
        "colab": {
          "base_uri": "https://localhost:8080/"
        },
        "id": "RNWrq7idVde1",
        "outputId": "78fb15f9-d92f-41eb-f7e8-52536ab98f5e"
      },
      "execution_count": null,
      "outputs": [
        {
          "output_type": "stream",
          "name": "stdout",
          "text": [
            "61 61\n"
          ]
        }
      ]
    },
    {
      "cell_type": "markdown",
      "source": [
        "# **Creating the Groups**"
      ],
      "metadata": {
        "id": "jWsCICtT8yy9"
      }
    },
    {
      "cell_type": "code",
      "source": [
        "groups = [[i]*len(j) for i,j in enumerate(data_list)]\n",
        "len(groups)"
      ],
      "metadata": {
        "colab": {
          "base_uri": "https://localhost:8080/"
        },
        "id": "BeyYu8rxVgbV",
        "outputId": "10820171-6da6-4200-b2cd-acb553c7197c"
      },
      "execution_count": null,
      "outputs": [
        {
          "output_type": "execute_result",
          "data": {
            "text/plain": [
              "61"
            ]
          },
          "metadata": {},
          "execution_count": 18
        }
      ]
    },
    {
      "cell_type": "markdown",
      "source": [
        "# **Converting the Data from List to array**"
      ],
      "metadata": {
        "id": "mrAyaFsi83vn"
      }
    },
    {
      "cell_type": "code",
      "source": [
        "data_array = np.vstack(data_list)\n",
        "label_array = np.hstack(label_list)\n",
        "groups_array = np.hstack(groups)\n",
        "print(data_array.shape, label_array.shape, groups_array.shape)"
      ],
      "metadata": {
        "colab": {
          "base_uri": "https://localhost:8080/"
        },
        "id": "AI1kM-3HVj-u",
        "outputId": "4afe74c7-f017-425c-bbe5-fada39926c10"
      },
      "execution_count": null,
      "outputs": [
        {
          "output_type": "stream",
          "name": "stdout",
          "text": [
            "(12644, 20, 1280) (12644,) (12644,)\n"
          ]
        }
      ]
    },
    {
      "cell_type": "markdown",
      "source": [
        "# **Feature Extraction**"
      ],
      "metadata": {
        "id": "CfRvf8_t89VI"
      }
    },
    {
      "cell_type": "code",
      "source": [
        "from scipy import stats\n",
        "\n",
        "def mean(x):\n",
        "    return np.mean(x,axis=-1)\n",
        "def std(x):  \n",
        "    return np.std(x,axis=-1)\n",
        "def ptp(x):\n",
        "    return np.ptp(x,axis=-1)\n",
        "def var(x):\n",
        "    return np.var(x,axis=-1)\n",
        "def minim(x):\n",
        "    return np.min(x,axis=-1)\n",
        "def maxim(x):\n",
        "    return np.max(x,axis=-1)\n",
        "def argminim(x):\n",
        "    return np.argmin(x,axis=-1) \n",
        "def argmaxim(x):\n",
        "    return np.argmax(x,axis=-1)   \n",
        "                   \n",
        "def abs_diff_signals(x):\n",
        "    return np.sum(np.abs(np.diff(x,axis=-1)),axis=-1)\n",
        "def skewness(x):\n",
        "    return stats.skew(x,axis=-1)\n",
        "def kurtosis(x):\n",
        "    return stats.kurtosis(x,axis=-1)\n",
        "#def rms(x):\n",
        "#    return np.sqrt(np.mean(x**2,axis=-1)\n",
        "def concatenate_features(x):\n",
        "    return np.concatenate((mean(x),std(x),ptp(x),var(x),minim(x),maxim(x),argminim(x),argmaxim(x),abs_diff_signals(x),\\\n",
        "                           skewness(x),kurtosis(x)),axis=-1)  "
      ],
      "metadata": {
        "id": "1OBsRVOlVnnV"
      },
      "execution_count": null,
      "outputs": []
    },
    {
      "cell_type": "markdown",
      "source": [
        "# **Loop to Extract the Features**"
      ],
      "metadata": {
        "id": "8_PUvQOL9E8H"
      }
    },
    {
      "cell_type": "code",
      "source": [
        "features=[]\n",
        "for d in data_array:\n",
        "    features.append(concatenate_features(d))"
      ],
      "metadata": {
        "id": "-t0wimkRhZBj"
      },
      "execution_count": null,
      "outputs": []
    },
    {
      "cell_type": "markdown",
      "source": [
        "# **Converting the Features list into Features Arrays**"
      ],
      "metadata": {
        "id": "6GVM2AXJ9OpG"
      }
    },
    {
      "cell_type": "code",
      "source": [
        "features_array=np.array(features)\n",
        "features_array.shape"
      ],
      "metadata": {
        "colab": {
          "base_uri": "https://localhost:8080/"
        },
        "id": "0tulbqpwhdPu",
        "outputId": "97ad68de-909b-42be-c6fa-389691925d87"
      },
      "execution_count": null,
      "outputs": [
        {
          "output_type": "execute_result",
          "data": {
            "text/plain": [
              "(12644, 220)"
            ]
          },
          "metadata": {},
          "execution_count": 22
        }
      ]
    },
    {
      "cell_type": "markdown",
      "source": [
        "# **Logistic Regression for Classification**"
      ],
      "metadata": {
        "id": "-QfNuZsG9VdO"
      }
    },
    {
      "cell_type": "code",
      "source": [
        "from sklearn.linear_model import LogisticRegression\n",
        "from sklearn.pipeline import Pipeline\n",
        "from sklearn.preprocessing import StandardScaler\n",
        "from sklearn.model_selection import GroupKFold,GridSearchCV"
      ],
      "metadata": {
        "id": "6RmB3VEphnzm"
      },
      "execution_count": null,
      "outputs": []
    },
    {
      "cell_type": "code",
      "source": [
        "clf=LogisticRegression() # Defining Classifier\n",
        "gkf=GroupKFold(5) # 5 Groups\n",
        "pipe=Pipeline([('scalar',StandardScaler()),('clf',clf)])\n",
        "param_grid={'clf__C':[0.1,0.3,0.5,0.7,1,3,5,7]} # Random Parameters\n",
        "gscv=GridSearchCV(pipe,param_grid,cv=gkf,n_jobs=12)\n",
        "gscv.fit(features_array,label_array,groups=groups_array)"
      ],
      "metadata": {
        "colab": {
          "base_uri": "https://localhost:8080/"
        },
        "id": "m2PoKoiQhsv1",
        "outputId": "307d2fbd-f76c-4240-ff4c-fe499fb67132"
      },
      "execution_count": null,
      "outputs": [
        {
          "output_type": "stream",
          "name": "stderr",
          "text": [
            "/usr/local/lib/python3.7/dist-packages/sklearn/linear_model/_logistic.py:818: ConvergenceWarning: lbfgs failed to converge (status=1):\n",
            "STOP: TOTAL NO. of ITERATIONS REACHED LIMIT.\n",
            "\n",
            "Increase the number of iterations (max_iter) or scale the data as shown in:\n",
            "    https://scikit-learn.org/stable/modules/preprocessing.html\n",
            "Please also refer to the documentation for alternative solver options:\n",
            "    https://scikit-learn.org/stable/modules/linear_model.html#logistic-regression\n",
            "  extra_warning_msg=_LOGISTIC_SOLVER_CONVERGENCE_MSG,\n"
          ]
        },
        {
          "output_type": "execute_result",
          "data": {
            "text/plain": [
              "GridSearchCV(cv=GroupKFold(n_splits=5),\n",
              "             estimator=Pipeline(steps=[('scalar', StandardScaler()),\n",
              "                                       ('clf', LogisticRegression())]),\n",
              "             n_jobs=12,\n",
              "             param_grid={'clf__C': [0.1, 0.3, 0.5, 0.7, 1, 3, 5, 7]})"
            ]
          },
          "metadata": {},
          "execution_count": 24
        }
      ]
    },
    {
      "cell_type": "markdown",
      "source": [
        "# **Accuracy**"
      ],
      "metadata": {
        "id": "fHUbjIs29s-X"
      }
    },
    {
      "cell_type": "code",
      "source": [
        "gscv.best_score_"
      ],
      "metadata": {
        "colab": {
          "base_uri": "https://localhost:8080/"
        },
        "id": "_9FPOsxbhwEx",
        "outputId": "cfb3d2d6-c9d5-436f-96a2-ee7368b84d95"
      },
      "execution_count": null,
      "outputs": [
        {
          "output_type": "execute_result",
          "data": {
            "text/plain": [
              "0.8848233849260501"
            ]
          },
          "metadata": {},
          "execution_count": 25
        }
      ]
    },
    {
      "cell_type": "markdown",
      "source": [
        "# **End of the Time**"
      ],
      "metadata": {
        "id": "xE_CIzkm9xe5"
      }
    },
    {
      "cell_type": "code",
      "source": [
        "end = time.time()\n",
        "print(\"Total time in sec:\",end - start)"
      ],
      "metadata": {
        "colab": {
          "base_uri": "https://localhost:8080/"
        },
        "id": "BJkkBA8Lh9KL",
        "outputId": "b8c20dc7-81f5-4461-bb22-07962515ab21"
      },
      "execution_count": null,
      "outputs": [
        {
          "output_type": "stream",
          "name": "stdout",
          "text": [
            "Total time in sec: 102.67875504493713\n"
          ]
        }
      ]
    },
    {
      "cell_type": "code",
      "source": [
        ""
      ],
      "metadata": {
        "id": "jkjHWQh5e9ib"
      },
      "execution_count": null,
      "outputs": []
    }
  ],
  "metadata": {
    "kernelspec": {
      "display_name": "Python 3 (ipykernel)",
      "language": "python",
      "name": "python3"
    },
    "language_info": {
      "codemirror_mode": {
        "name": "ipython",
        "version": 3
      },
      "file_extension": ".py",
      "mimetype": "text/x-python",
      "name": "python",
      "nbconvert_exporter": "python",
      "pygments_lexer": "ipython3",
      "version": "3.9.7"
    },
    "colab": {
      "name": "2022-May-28 TASK EEG Classification(Logistic Regression).ipynb",
      "provenance": []
    },
    "accelerator": "GPU"
  },
  "nbformat": 4,
  "nbformat_minor": 0
}