{
 "cells": [
  {
   "cell_type": "code",
   "execution_count": 4,
   "metadata": {
    "id": "JCisukOAA0fv"
   },
   "outputs": [],
   "source": [
    "import time\n",
    "start = time.time()"
   ]
  },
  {
   "cell_type": "code",
   "execution_count": 5,
   "metadata": {
    "colab": {
     "base_uri": "https://localhost:8080/"
    },
    "id": "NSU7_7u3AvN6",
    "outputId": "9793b834-06a9-467f-e30e-2eaea5f506ff"
   },
   "outputs": [
    {
     "name": "stdout",
     "output_type": "stream",
     "text": [
      "Requirement already satisfied: mne in c:\\users\\home\\anaconda3\\lib\\site-packages (1.0.3)\n",
      "Requirement already satisfied: tqdm in c:\\users\\home\\anaconda3\\lib\\site-packages (from mne) (4.62.3)\n",
      "Requirement already satisfied: pooch>=1.5 in c:\\users\\home\\anaconda3\\lib\\site-packages (from mne) (1.6.0)\n",
      "Requirement already satisfied: packaging in c:\\users\\home\\anaconda3\\lib\\site-packages (from mne) (21.0)\n",
      "Requirement already satisfied: decorator in c:\\users\\home\\anaconda3\\lib\\site-packages (from mne) (5.1.0)\n",
      "Requirement already satisfied: jinja2 in c:\\users\\home\\anaconda3\\lib\\site-packages (from mne) (2.11.3)\n",
      "Requirement already satisfied: numpy>=1.15.4 in c:\\users\\home\\anaconda3\\lib\\site-packages (from mne) (1.20.3)\n",
      "Requirement already satisfied: scipy>=1.1.0 in c:\\users\\home\\anaconda3\\lib\\site-packages (from mne) (1.7.1)\n",
      "Requirement already satisfied: matplotlib in c:\\users\\home\\anaconda3\\lib\\site-packages (from mne) (3.4.3)\n",
      "Requirement already satisfied: appdirs>=1.3.0 in c:\\users\\home\\anaconda3\\lib\\site-packages (from pooch>=1.5->mne) (1.4.4)\n",
      "Requirement already satisfied: requests>=2.19.0 in c:\\users\\home\\anaconda3\\lib\\site-packages (from pooch>=1.5->mne) (2.26.0)\n",
      "Requirement already satisfied: pyparsing>=2.0.2 in c:\\users\\home\\anaconda3\\lib\\site-packages (from packaging->mne) (3.0.4)\n",
      "Requirement already satisfied: charset-normalizer~=2.0.0 in c:\\users\\home\\anaconda3\\lib\\site-packages (from requests>=2.19.0->pooch>=1.5->mne) (2.0.4)\n",
      "Requirement already satisfied: idna<4,>=2.5 in c:\\users\\home\\anaconda3\\lib\\site-packages (from requests>=2.19.0->pooch>=1.5->mne) (3.2)\n",
      "Requirement already satisfied: certifi>=2017.4.17 in c:\\users\\home\\anaconda3\\lib\\site-packages (from requests>=2.19.0->pooch>=1.5->mne) (2021.10.8)\n",
      "Requirement already satisfied: urllib3<1.27,>=1.21.1 in c:\\users\\home\\anaconda3\\lib\\site-packages (from requests>=2.19.0->pooch>=1.5->mne) (1.26.7)\n",
      "Requirement already satisfied: MarkupSafe>=0.23 in c:\\users\\home\\anaconda3\\lib\\site-packages (from jinja2->mne) (1.1.1)\n",
      "Requirement already satisfied: cycler>=0.10 in c:\\users\\home\\anaconda3\\lib\\site-packages (from matplotlib->mne) (0.10.0)\n",
      "Requirement already satisfied: pillow>=6.2.0 in c:\\users\\home\\anaconda3\\lib\\site-packages (from matplotlib->mne) (8.4.0)\n",
      "Requirement already satisfied: kiwisolver>=1.0.1 in c:\\users\\home\\anaconda3\\lib\\site-packages (from matplotlib->mne) (1.3.1)\n",
      "Requirement already satisfied: python-dateutil>=2.7 in c:\\users\\home\\anaconda3\\lib\\site-packages (from matplotlib->mne) (2.8.2)\n",
      "Requirement already satisfied: six in c:\\users\\home\\anaconda3\\lib\\site-packages (from cycler>=0.10->matplotlib->mne) (1.16.0)\n",
      "Requirement already satisfied: colorama in c:\\users\\home\\anaconda3\\lib\\site-packages (from tqdm->mne) (0.4.4)\n"
     ]
    }
   ],
   "source": [
    "! pip install mne"
   ]
  },
  {
   "cell_type": "code",
   "execution_count": 6,
   "metadata": {
    "id": "EkBnF15HA-s-"
   },
   "outputs": [],
   "source": [
    "from glob import glob # it Is help us to read all files in the Folder \n",
    "import os\n",
    "import mne # It is a Package which is Used to Analysis the EEG Dataset\n",
    "from numpy import array\n",
    "import numpy as np\n",
    "import pandas as pd\n",
    "import matplotlib.pyplot as plt"
   ]
  },
  {
   "cell_type": "code",
   "execution_count": 7,
   "metadata": {
    "colab": {
     "base_uri": "https://localhost:8080/"
    },
    "id": "FlBi-SBsBJyO",
    "outputId": "9576d134-546a-48ac-b385-5d130dfd163b"
   },
   "outputs": [
    {
     "name": "stdout",
     "output_type": "stream",
     "text": [
      "61\n"
     ]
    }
   ],
   "source": [
    "all_file_path = glob('C:/Users/home/TASK_Healthy_and_MDD_fif/*.fif')\n",
    "print(len(all_file_path))"
   ]
  },
  {
   "cell_type": "code",
   "execution_count": 8,
   "metadata": {},
   "outputs": [
    {
     "data": {
      "text/plain": [
       "['C:/Users/home/TASK_Healthy_and_MDD_fif\\\\h10_task_cropped_raw.fif',\n",
       " 'C:/Users/home/TASK_Healthy_and_MDD_fif\\\\h11_task_cropped_raw.fif',\n",
       " 'C:/Users/home/TASK_Healthy_and_MDD_fif\\\\h12_task_cropped_raw.fif',\n",
       " 'C:/Users/home/TASK_Healthy_and_MDD_fif\\\\h13_task_cropped_raw.fif',\n",
       " 'C:/Users/home/TASK_Healthy_and_MDD_fif\\\\h14_task_cropped_raw.fif',\n",
       " 'C:/Users/home/TASK_Healthy_and_MDD_fif\\\\h15_task_cropped_raw.fif',\n",
       " 'C:/Users/home/TASK_Healthy_and_MDD_fif\\\\h16_task_cropped_raw.fif',\n",
       " 'C:/Users/home/TASK_Healthy_and_MDD_fif\\\\h17_task_cropped_raw.fif',\n",
       " 'C:/Users/home/TASK_Healthy_and_MDD_fif\\\\h18_task_cropped_raw.fif',\n",
       " 'C:/Users/home/TASK_Healthy_and_MDD_fif\\\\h19_task_cropped_raw.fif',\n",
       " 'C:/Users/home/TASK_Healthy_and_MDD_fif\\\\h1_task_cropped_raw.fif',\n",
       " 'C:/Users/home/TASK_Healthy_and_MDD_fif\\\\h22_task_cropped_raw.fif',\n",
       " 'C:/Users/home/TASK_Healthy_and_MDD_fif\\\\h23_task_cropped_raw.fif',\n",
       " 'C:/Users/home/TASK_Healthy_and_MDD_fif\\\\h24_task_cropped_raw.fif',\n",
       " 'C:/Users/home/TASK_Healthy_and_MDD_fif\\\\h25_task_cropped_raw.fif',\n",
       " 'C:/Users/home/TASK_Healthy_and_MDD_fif\\\\h26_task_cropped_raw.fif',\n",
       " 'C:/Users/home/TASK_Healthy_and_MDD_fif\\\\h27_task_cropped_raw.fif',\n",
       " 'C:/Users/home/TASK_Healthy_and_MDD_fif\\\\h28_task_cropped_raw.fif',\n",
       " 'C:/Users/home/TASK_Healthy_and_MDD_fif\\\\h29_task_cropped_raw.fif',\n",
       " 'C:/Users/home/TASK_Healthy_and_MDD_fif\\\\h2_task_cropped_raw.fif',\n",
       " 'C:/Users/home/TASK_Healthy_and_MDD_fif\\\\h30_task_cropped_raw.fif',\n",
       " 'C:/Users/home/TASK_Healthy_and_MDD_fif\\\\h3_task_cropped_raw.fif',\n",
       " 'C:/Users/home/TASK_Healthy_and_MDD_fif\\\\h4_task_cropped_raw.fif',\n",
       " 'C:/Users/home/TASK_Healthy_and_MDD_fif\\\\h5_task_cropped_raw.fif',\n",
       " 'C:/Users/home/TASK_Healthy_and_MDD_fif\\\\h6_task_cropped_raw.fif',\n",
       " 'C:/Users/home/TASK_Healthy_and_MDD_fif\\\\h7_task_cropped_raw.fif',\n",
       " 'C:/Users/home/TASK_Healthy_and_MDD_fif\\\\h8_task_cropped_raw.fif',\n",
       " 'C:/Users/home/TASK_Healthy_and_MDD_fif\\\\h9_task_cropped_raw.fif',\n",
       " 'C:/Users/home/TASK_Healthy_and_MDD_fif\\\\mdd10_task_cropped_raw.fif',\n",
       " 'C:/Users/home/TASK_Healthy_and_MDD_fif\\\\mdd11_task_cropped_raw.fif',\n",
       " 'C:/Users/home/TASK_Healthy_and_MDD_fif\\\\mdd12_task_cropped_raw.fif',\n",
       " 'C:/Users/home/TASK_Healthy_and_MDD_fif\\\\mdd13_task_cropped_raw.fif',\n",
       " 'C:/Users/home/TASK_Healthy_and_MDD_fif\\\\mdd14_task_cropped_raw.fif',\n",
       " 'C:/Users/home/TASK_Healthy_and_MDD_fif\\\\mdd15_task_cropped_raw.fif',\n",
       " 'C:/Users/home/TASK_Healthy_and_MDD_fif\\\\mdd16_task_cropped_raw.fif',\n",
       " 'C:/Users/home/TASK_Healthy_and_MDD_fif\\\\mdd17_task_cropped_raw.fif',\n",
       " 'C:/Users/home/TASK_Healthy_and_MDD_fif\\\\mdd18_task_cropped_raw.fif',\n",
       " 'C:/Users/home/TASK_Healthy_and_MDD_fif\\\\mdd19_task_cropped_raw.fif',\n",
       " 'C:/Users/home/TASK_Healthy_and_MDD_fif\\\\mdd1_task_cropped_raw.fif',\n",
       " 'C:/Users/home/TASK_Healthy_and_MDD_fif\\\\mdd20_task_cropped_raw.fif',\n",
       " 'C:/Users/home/TASK_Healthy_and_MDD_fif\\\\mdd21_task_cropped_raw.fif',\n",
       " 'C:/Users/home/TASK_Healthy_and_MDD_fif\\\\mdd22_task_cropped_raw.fif',\n",
       " 'C:/Users/home/TASK_Healthy_and_MDD_fif\\\\mdd23_task_cropped_raw.fif',\n",
       " 'C:/Users/home/TASK_Healthy_and_MDD_fif\\\\mdd24_task_cropped_raw.fif',\n",
       " 'C:/Users/home/TASK_Healthy_and_MDD_fif\\\\mdd25_task_cropped_raw.fif',\n",
       " 'C:/Users/home/TASK_Healthy_and_MDD_fif\\\\mdd26_task_cropped_raw.fif',\n",
       " 'C:/Users/home/TASK_Healthy_and_MDD_fif\\\\mdd27_task_cropped_raw.fif',\n",
       " 'C:/Users/home/TASK_Healthy_and_MDD_fif\\\\mdd28_task_cropped_raw.fif',\n",
       " 'C:/Users/home/TASK_Healthy_and_MDD_fif\\\\mdd29_task_cropped_raw.fif',\n",
       " 'C:/Users/home/TASK_Healthy_and_MDD_fif\\\\mdd2_task_cropped_raw.fif',\n",
       " 'C:/Users/home/TASK_Healthy_and_MDD_fif\\\\mdd30_task_cropped_raw.fif',\n",
       " 'C:/Users/home/TASK_Healthy_and_MDD_fif\\\\mdd31_task_cropped_raw.fif',\n",
       " 'C:/Users/home/TASK_Healthy_and_MDD_fif\\\\mdd32_task_cropped_raw.fif',\n",
       " 'C:/Users/home/TASK_Healthy_and_MDD_fif\\\\mdd33_task_cropped_raw.fif',\n",
       " 'C:/Users/home/TASK_Healthy_and_MDD_fif\\\\mdd34_task_cropped_raw.fif',\n",
       " 'C:/Users/home/TASK_Healthy_and_MDD_fif\\\\mdd3_task_cropped_raw.fif',\n",
       " 'C:/Users/home/TASK_Healthy_and_MDD_fif\\\\mdd4_task_cropped_raw.fif',\n",
       " 'C:/Users/home/TASK_Healthy_and_MDD_fif\\\\mdd5_task_cropped_raw.fif',\n",
       " 'C:/Users/home/TASK_Healthy_and_MDD_fif\\\\mdd6_task_cropped_raw.fif',\n",
       " 'C:/Users/home/TASK_Healthy_and_MDD_fif\\\\mdd7_task_cropped_raw.fif',\n",
       " 'C:/Users/home/TASK_Healthy_and_MDD_fif\\\\mdd8_task_cropped_raw.fif']"
      ]
     },
     "execution_count": 8,
     "metadata": {},
     "output_type": "execute_result"
    }
   ],
   "source": [
    "all_file_path"
   ]
  },
  {
   "cell_type": "code",
   "execution_count": 9,
   "metadata": {
    "colab": {
     "base_uri": "https://localhost:8080/"
    },
    "id": "Dl130dCDBNw7",
    "outputId": "fcd7afab-aae0-4eeb-b930-cf0e308f423e"
   },
   "outputs": [
    {
     "name": "stdout",
     "output_type": "stream",
     "text": [
      "28 33\n"
     ]
    }
   ],
   "source": [
    "healthy_file_path = [i for i in all_file_path if 'h' in i.split('\\\\')[1]]\n",
    "patient_file_path = [i for i in all_file_path if 'm' in i.split('\\\\')[1]]\n",
    "print(len(healthy_file_path), len(patient_file_path))"
   ]
  },
  {
   "cell_type": "code",
   "execution_count": 10,
   "metadata": {
    "id": "JbArpVUEBSVY"
   },
   "outputs": [],
   "source": [
    "def read_data(file_path):\n",
    "    data = mne.io.read_raw_fif(file_path, preload = True)\n",
    "    data.set_eeg_reference()\n",
    "    data.filter(l_freq = 0.5, h_freq = 60)\n",
    "    epochs = mne.make_fixed_length_epochs(data, duration = 5, overlap = 2)\n",
    "    array = epochs.get_data()\n",
    "    return array"
   ]
  },
  {
   "cell_type": "code",
   "execution_count": 11,
   "metadata": {
    "colab": {
     "base_uri": "https://localhost:8080/"
    },
    "id": "HM_AXrB4BVzn",
    "outputId": "30ac2ca0-aa36-47c3-bf9a-2aa8d7f72e19"
   },
   "outputs": [
    {
     "name": "stdout",
     "output_type": "stream",
     "text": [
      "Opening raw data file C:/Users/home/TASK_Healthy_and_MDD_fif\\h10_task_cropped_raw.fif...\n",
      "Isotrak not found\n",
      "    Range : 0 ... 154879 =      0.000 ...   604.996 secs\n",
      "Ready.\n",
      "Reading 0 ... 154879  =      0.000 ...   604.996 secs...\n",
      "EEG channel type selected for re-referencing\n",
      "Applying average reference.\n",
      "Applying a custom ('EEG',) reference.\n",
      "Filtering raw data in 1 contiguous segment\n",
      "Setting up band-pass filter from 0.5 - 60 Hz\n",
      "\n",
      "FIR filter parameters\n",
      "---------------------\n",
      "Designing a one-pass, zero-phase, non-causal bandpass filter:\n",
      "- Windowed time-domain design (firwin) method\n",
      "- Hamming window with 0.0194 passband ripple and 53 dB stopband attenuation\n",
      "- Lower passband edge: 0.50\n",
      "- Lower transition bandwidth: 0.50 Hz (-6 dB cutoff frequency: 0.25 Hz)\n",
      "- Upper passband edge: 60.00 Hz\n",
      "- Upper transition bandwidth: 15.00 Hz (-6 dB cutoff frequency: 67.50 Hz)\n",
      "- Filter length: 1691 samples (6.605 sec)\n",
      "\n",
      "Not setting metadata\n",
      "201 matching events found\n",
      "No baseline correction applied\n",
      "0 projection items activated\n",
      "Using data from preloaded Raw for 201 events and 1280 original time points ...\n",
      "0 bad epochs dropped\n"
     ]
    }
   ],
   "source": [
    "sample_data = read_data(healthy_file_path[0])"
   ]
  },
  {
   "cell_type": "code",
   "execution_count": 12,
   "metadata": {
    "colab": {
     "base_uri": "https://localhost:8080/"
    },
    "id": "6XCOrUV3BYoy",
    "outputId": "a9014403-c2e4-4ca1-d00f-49e99af47c62"
   },
   "outputs": [
    {
     "data": {
      "text/plain": [
       "(201, 20, 1280)"
      ]
     },
     "execution_count": 12,
     "metadata": {},
     "output_type": "execute_result"
    }
   ],
   "source": [
    "sample_data.shape # no. of epochs, channels, length of signals "
   ]
  },
  {
   "cell_type": "code",
   "execution_count": 13,
   "metadata": {
    "id": "YmLY4M7zBc75"
   },
   "outputs": [],
   "source": [
    "%%capture\n",
    "control_epochs_array = [read_data(i) for i in healthy_file_path]\n",
    "patient_epochs_array = [read_data(i) for i in patient_file_path]"
   ]
  },
  {
   "cell_type": "code",
   "execution_count": 14,
   "metadata": {
    "colab": {
     "base_uri": "https://localhost:8080/"
    },
    "id": "6thEH9SaBgRU",
    "outputId": "600c3a0e-96b6-4a55-d45d-7e155743049e"
   },
   "outputs": [
    {
     "data": {
      "text/plain": [
       "((201, 20, 1280),\n",
       " (201, 20, 1280),\n",
       " (201, 20, 1280),\n",
       " (202, 20, 1280),\n",
       " (201, 20, 1280))"
      ]
     },
     "execution_count": 14,
     "metadata": {},
     "output_type": "execute_result"
    }
   ],
   "source": [
    "control_epochs_array[0].shape, control_epochs_array[1].shape, control_epochs_array[2].shape, control_epochs_array[3].shape, control_epochs_array[4].shape"
   ]
  },
  {
   "cell_type": "code",
   "execution_count": 15,
   "metadata": {
    "colab": {
     "base_uri": "https://localhost:8080/"
    },
    "id": "AXIURVrWB3ff",
    "outputId": "68763d40-9135-4a54-c576-54e9f3dff163"
   },
   "outputs": [
    {
     "data": {
      "text/plain": [
       "((228, 20, 1280), (211, 20, 1280), (215, 20, 1280), (209, 20, 1280))"
      ]
     },
     "execution_count": 15,
     "metadata": {},
     "output_type": "execute_result"
    }
   ],
   "source": [
    "patient_epochs_array[0].shape, patient_epochs_array[1].shape, patient_epochs_array[2].shape, patient_epochs_array[3].shape"
   ]
  },
  {
   "cell_type": "code",
   "execution_count": 16,
   "metadata": {
    "colab": {
     "base_uri": "https://localhost:8080/"
    },
    "id": "L45_0WYpB9eC",
    "outputId": "68a4efb0-d048-4ef7-9c46-116dd78ab2cb"
   },
   "outputs": [
    {
     "data": {
      "text/plain": [
       "(28, 33)"
      ]
     },
     "execution_count": 16,
     "metadata": {},
     "output_type": "execute_result"
    }
   ],
   "source": [
    "control_epochs_labels = [len(i)*[0] for i in control_epochs_array]\n",
    "patient_epochs_labels = [len(i)*[1] for i in patient_epochs_array]\n",
    "len(control_epochs_labels), len(patient_epochs_labels)"
   ]
  },
  {
   "cell_type": "code",
   "execution_count": 17,
   "metadata": {
    "id": "B4sEP8ybCBO9"
   },
   "outputs": [],
   "source": [
    "data_list = control_epochs_array + patient_epochs_array\n",
    "label_list = control_epochs_labels + patient_epochs_labels"
   ]
  },
  {
   "cell_type": "code",
   "execution_count": 18,
   "metadata": {
    "colab": {
     "base_uri": "https://localhost:8080/"
    },
    "id": "hj0bwybOCEQq",
    "outputId": "52619e3e-f618-40e1-da90-80a72c76c79a"
   },
   "outputs": [
    {
     "name": "stdout",
     "output_type": "stream",
     "text": [
      "61 61\n"
     ]
    }
   ],
   "source": [
    "epochs_array=control_epochs_array+patient_epochs_array\n",
    "epochs_labels=control_epochs_labels+patient_epochs_labels\n",
    "print(len(epochs_array),len(epochs_labels))"
   ]
  },
  {
   "cell_type": "code",
   "execution_count": 19,
   "metadata": {
    "colab": {
     "base_uri": "https://localhost:8080/"
    },
    "id": "IXArjsl0CHC_",
    "outputId": "d85b81b1-7c53-440a-f8d4-30a6b986b766"
   },
   "outputs": [
    {
     "data": {
      "text/plain": [
       "61"
      ]
     },
     "execution_count": 19,
     "metadata": {},
     "output_type": "execute_result"
    }
   ],
   "source": [
    "groups = [[i]*len(j) for i,j in enumerate(data_list)]\n",
    "len(groups)"
   ]
  },
  {
   "cell_type": "code",
   "execution_count": 20,
   "metadata": {
    "colab": {
     "base_uri": "https://localhost:8080/"
    },
    "id": "Zsqz0ktPCKI5",
    "outputId": "30047de0-e141-4fa5-cbaa-6284d5ba2a40"
   },
   "outputs": [
    {
     "name": "stdout",
     "output_type": "stream",
     "text": [
      "(12644, 20, 1280) (12644,) (12644,)\n"
     ]
    }
   ],
   "source": [
    "data_array = np.vstack(data_list)\n",
    "label_array = np.hstack(label_list)\n",
    "groups_array = np.hstack(groups)\n",
    "print(data_array.shape, label_array.shape, groups_array.shape)"
   ]
  },
  {
   "cell_type": "code",
   "execution_count": 21,
   "metadata": {
    "id": "w6f272O5CNEb"
   },
   "outputs": [],
   "source": [
    "from scipy import stats\n",
    "\n",
    "def mean(x):\n",
    "    return np.mean(x,axis=-1)\n",
    "def std(x):  \n",
    "    return np.std(x,axis=-1)\n",
    "def ptp(x):\n",
    "    return np.ptp(x,axis=-1)\n",
    "def var(x):\n",
    "    return np.var(x,axis=-1)\n",
    "def minim(x):\n",
    "    return np.min(x,axis=-1)\n",
    "def maxim(x):\n",
    "    return np.max(x,axis=-1)\n",
    "def argminim(x):\n",
    "    return np.argmin(x,axis=-1) \n",
    "def argmaxim(x):\n",
    "    return np.argmax(x,axis=-1)   \n",
    "                   \n",
    "def abs_diff_signals(x):\n",
    "    return np.sum(np.abs(np.diff(x,axis=-1)),axis=-1)\n",
    "def skewness(x):\n",
    "    return stats.skew(x,axis=-1)\n",
    "def kurtosis(x):\n",
    "    return stats.kurtosis(x,axis=-1)\n",
    "#def rms(x):\n",
    "#    return np.sqrt(np.mean(x**2,axis=-1)\n",
    "def concatenate_features(x):\n",
    "    return np.concatenate((mean(x),std(x),ptp(x),var(x),minim(x),maxim(x),argminim(x),argmaxim(x),abs_diff_signals(x),\\\n",
    "                           skewness(x),kurtosis(x)),axis=-1) "
   ]
  },
  {
   "cell_type": "code",
   "execution_count": 22,
   "metadata": {
    "id": "NrXVWIJzCSim"
   },
   "outputs": [],
   "source": [
    "features=[]\n",
    "for d in data_array:\n",
    "    features.append(concatenate_features(d))"
   ]
  },
  {
   "cell_type": "code",
   "execution_count": 23,
   "metadata": {
    "colab": {
     "base_uri": "https://localhost:8080/"
    },
    "id": "hc2w4OhaCWPN",
    "outputId": "91abc76a-59d5-4bf0-893b-31e4bba402be"
   },
   "outputs": [
    {
     "data": {
      "text/plain": [
       "(12644, 220)"
      ]
     },
     "execution_count": 23,
     "metadata": {},
     "output_type": "execute_result"
    }
   ],
   "source": [
    "features_array=np.array(features)\n",
    "features_array.shape"
   ]
  },
  {
   "cell_type": "code",
   "execution_count": 24,
   "metadata": {
    "id": "9roJzmM0CZsH"
   },
   "outputs": [],
   "source": [
    "from sklearn.svm import SVC\n",
    "from sklearn.pipeline import Pipeline\n",
    "from sklearn.preprocessing import StandardScaler\n",
    "from sklearn.model_selection import GroupKFold,GridSearchCV"
   ]
  },
  {
   "cell_type": "code",
   "execution_count": 25,
   "metadata": {
    "colab": {
     "base_uri": "https://localhost:8080/"
    },
    "id": "HUMB3SvMCgrX",
    "outputId": "82d728f6-18fd-423a-809d-703d62261987"
   },
   "outputs": [
    {
     "data": {
      "text/plain": [
       "GridSearchCV(cv=GroupKFold(n_splits=5),\n",
       "             estimator=Pipeline(steps=[('scalar', StandardScaler()),\n",
       "                                       ('clf', SVC())]),\n",
       "             n_jobs=12,\n",
       "             param_grid={'clf__C': [0.1, 0.3, 0.5, 0.7, 1, 3, 5, 7]})"
      ]
     },
     "execution_count": 25,
     "metadata": {},
     "output_type": "execute_result"
    }
   ],
   "source": [
    "clf=SVC()\n",
    "gkf=GroupKFold(5)\n",
    "pipe=Pipeline([('scalar',StandardScaler()),('clf',clf)])\n",
    "param_grid={'clf__C':[0.1,0.3,0.5,0.7,1,3,5,7]}\n",
    "gscv=GridSearchCV(pipe,param_grid,cv=gkf,n_jobs=12)\n",
    "gscv.fit(features_array,label_array,groups=groups_array)"
   ]
  },
  {
   "cell_type": "code",
   "execution_count": 26,
   "metadata": {
    "colab": {
     "base_uri": "https://localhost:8080/"
    },
    "id": "FE_eZTqICj5K",
    "outputId": "bb50bde5-b2f2-4dcc-a77c-0c1fdfad7f27"
   },
   "outputs": [
    {
     "data": {
      "text/plain": [
       "0.8766658076905827"
      ]
     },
     "execution_count": 26,
     "metadata": {},
     "output_type": "execute_result"
    }
   ],
   "source": [
    "gscv.best_score_"
   ]
  },
  {
   "cell_type": "code",
   "execution_count": 27,
   "metadata": {
    "colab": {
     "base_uri": "https://localhost:8080/"
    },
    "id": "PNgInHPnC1k9",
    "outputId": "9e976afc-9657-4308-ee4b-60c568d88cb1"
   },
   "outputs": [
    {
     "name": "stdout",
     "output_type": "stream",
     "text": [
      "Total time in sec: 1388.1756649017334\n"
     ]
    }
   ],
   "source": [
    "end = time.time()\n",
    "print(\"Total time in sec:\",end - start)"
   ]
  },
  {
   "cell_type": "code",
   "execution_count": null,
   "metadata": {
    "id": "hpTtNQQZDAMJ"
   },
   "outputs": [],
   "source": []
  }
 ],
 "metadata": {
  "colab": {
   "collapsed_sections": [],
   "name": "2022-6-2 EC EEG Classification(SVM).ipynb",
   "provenance": []
  },
  "kernelspec": {
   "display_name": "Python 3 (ipykernel)",
   "language": "python",
   "name": "python3"
  },
  "language_info": {
   "codemirror_mode": {
    "name": "ipython",
    "version": 3
   },
   "file_extension": ".py",
   "mimetype": "text/x-python",
   "name": "python",
   "nbconvert_exporter": "python",
   "pygments_lexer": "ipython3",
   "version": "3.9.7"
  }
 },
 "nbformat": 4,
 "nbformat_minor": 1
}
