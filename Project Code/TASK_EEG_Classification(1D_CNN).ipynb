{
 "cells": [
  {
   "cell_type": "code",
   "execution_count": 3,
   "metadata": {},
   "outputs": [
    {
     "ename": "IndexError",
     "evalue": "list index out of range",
     "output_type": "error",
     "traceback": [
      "\u001b[1;31m---------------------------------------------------------------------------\u001b[0m",
      "\u001b[1;31mIndexError\u001b[0m                                Traceback (most recent call last)",
      "\u001b[1;32m~\\AppData\\Local\\Temp/ipykernel_10684/2232288276.py\u001b[0m in \u001b[0;36m<module>\u001b[1;34m\u001b[0m\n\u001b[0;32m      1\u001b[0m \u001b[1;32mimport\u001b[0m \u001b[0mtensorflow\u001b[0m \u001b[1;32mas\u001b[0m \u001b[0mtf\u001b[0m\u001b[1;33m\u001b[0m\u001b[1;33m\u001b[0m\u001b[0m\n\u001b[0;32m      2\u001b[0m \u001b[0mphysical_devices\u001b[0m \u001b[1;33m=\u001b[0m \u001b[0mtf\u001b[0m\u001b[1;33m.\u001b[0m\u001b[0mconfig\u001b[0m\u001b[1;33m.\u001b[0m\u001b[0mlist_physical_devices\u001b[0m\u001b[1;33m(\u001b[0m\u001b[1;34m'GPU'\u001b[0m\u001b[1;33m)\u001b[0m\u001b[1;33m\u001b[0m\u001b[1;33m\u001b[0m\u001b[0m\n\u001b[1;32m----> 3\u001b[1;33m \u001b[0mtf\u001b[0m\u001b[1;33m.\u001b[0m\u001b[0mconfig\u001b[0m\u001b[1;33m.\u001b[0m\u001b[0mexperimental\u001b[0m\u001b[1;33m.\u001b[0m\u001b[0mset_memory_growth\u001b[0m\u001b[1;33m(\u001b[0m\u001b[0mphysical_devices\u001b[0m\u001b[1;33m[\u001b[0m\u001b[1;36m0\u001b[0m\u001b[1;33m]\u001b[0m\u001b[1;33m,\u001b[0m \u001b[1;32mTrue\u001b[0m\u001b[1;33m)\u001b[0m\u001b[1;33m\u001b[0m\u001b[1;33m\u001b[0m\u001b[0m\n\u001b[0m",
      "\u001b[1;31mIndexError\u001b[0m: list index out of range"
     ]
    }
   ],
   "source": [
    "import tensorflow as tf\n",
    "physical_devices = tf.config.list_physical_devices('GPU')\n",
    "tf.config.experimental.set_memory_growth(physical_devices[0], True)"
   ]
  },
  {
   "cell_type": "code",
   "execution_count": null,
   "metadata": {
    "colab": {
     "base_uri": "https://localhost:8080/"
    },
    "id": "RAKsGu2o36V4",
    "outputId": "39808953-9609-4975-e836-be83e0e388d5"
   },
   "outputs": [],
   "source": [
    "# ! pip install mne"
   ]
  },
  {
   "cell_type": "code",
   "execution_count": 4,
   "metadata": {
    "id": "E2A4jTRSvw2t"
   },
   "outputs": [],
   "source": [
    "import time\n",
    "start = time.time()"
   ]
  },
  {
   "cell_type": "code",
   "execution_count": 5,
   "metadata": {
    "colab": {
     "base_uri": "https://localhost:8080/"
    },
    "id": "lGmf9vmyTRWi",
    "outputId": "83f561c1-e973-4f9f-d435-fe3cfd1c0414"
   },
   "outputs": [],
   "source": [
    "# from google.colab import drive\n",
    "# drive.mount('/content/drive')"
   ]
  },
  {
   "cell_type": "code",
   "execution_count": 6,
   "metadata": {
    "id": "vnci5qXPTr8O"
   },
   "outputs": [],
   "source": [
    "from glob import glob # it Is help us to read all files in the Folder \n",
    "import os\n",
    "import mne # It is a Package which is Used to Analysis the EEG Dataset\n",
    "from numpy import array\n",
    "import numpy as np\n",
    "import pandas as pd\n",
    "import matplotlib.pyplot as plt"
   ]
  },
  {
   "cell_type": "code",
   "execution_count": 7,
   "metadata": {
    "colab": {
     "base_uri": "https://localhost:8080/"
    },
    "id": "PzaA5JqdT1Ux",
    "outputId": "d946892f-f441-4516-e9ed-504707c162ae"
   },
   "outputs": [
    {
     "name": "stdout",
     "output_type": "stream",
     "text": [
      "61\n"
     ]
    }
   ],
   "source": [
    "all_file_path = glob('C:/Users/home/TASK_Healthy_and_MDD_fif/*.fif')\n",
    "print(len(all_file_path))"
   ]
  },
  {
   "cell_type": "code",
   "execution_count": 8,
   "metadata": {
    "id": "5jplMMDOUEX1"
   },
   "outputs": [
    {
     "data": {
      "text/plain": [
       "['C:/Users/home/TASK_Healthy_and_MDD_fif\\\\h10_task_cropped_raw.fif',\n",
       " 'C:/Users/home/TASK_Healthy_and_MDD_fif\\\\h11_task_cropped_raw.fif',\n",
       " 'C:/Users/home/TASK_Healthy_and_MDD_fif\\\\h12_task_cropped_raw.fif',\n",
       " 'C:/Users/home/TASK_Healthy_and_MDD_fif\\\\h13_task_cropped_raw.fif',\n",
       " 'C:/Users/home/TASK_Healthy_and_MDD_fif\\\\h14_task_cropped_raw.fif',\n",
       " 'C:/Users/home/TASK_Healthy_and_MDD_fif\\\\h15_task_cropped_raw.fif',\n",
       " 'C:/Users/home/TASK_Healthy_and_MDD_fif\\\\h16_task_cropped_raw.fif',\n",
       " 'C:/Users/home/TASK_Healthy_and_MDD_fif\\\\h17_task_cropped_raw.fif',\n",
       " 'C:/Users/home/TASK_Healthy_and_MDD_fif\\\\h18_task_cropped_raw.fif',\n",
       " 'C:/Users/home/TASK_Healthy_and_MDD_fif\\\\h19_task_cropped_raw.fif',\n",
       " 'C:/Users/home/TASK_Healthy_and_MDD_fif\\\\h1_task_cropped_raw.fif',\n",
       " 'C:/Users/home/TASK_Healthy_and_MDD_fif\\\\h22_task_cropped_raw.fif',\n",
       " 'C:/Users/home/TASK_Healthy_and_MDD_fif\\\\h23_task_cropped_raw.fif',\n",
       " 'C:/Users/home/TASK_Healthy_and_MDD_fif\\\\h24_task_cropped_raw.fif',\n",
       " 'C:/Users/home/TASK_Healthy_and_MDD_fif\\\\h25_task_cropped_raw.fif',\n",
       " 'C:/Users/home/TASK_Healthy_and_MDD_fif\\\\h26_task_cropped_raw.fif',\n",
       " 'C:/Users/home/TASK_Healthy_and_MDD_fif\\\\h27_task_cropped_raw.fif',\n",
       " 'C:/Users/home/TASK_Healthy_and_MDD_fif\\\\h28_task_cropped_raw.fif',\n",
       " 'C:/Users/home/TASK_Healthy_and_MDD_fif\\\\h29_task_cropped_raw.fif',\n",
       " 'C:/Users/home/TASK_Healthy_and_MDD_fif\\\\h2_task_cropped_raw.fif',\n",
       " 'C:/Users/home/TASK_Healthy_and_MDD_fif\\\\h30_task_cropped_raw.fif',\n",
       " 'C:/Users/home/TASK_Healthy_and_MDD_fif\\\\h3_task_cropped_raw.fif',\n",
       " 'C:/Users/home/TASK_Healthy_and_MDD_fif\\\\h4_task_cropped_raw.fif',\n",
       " 'C:/Users/home/TASK_Healthy_and_MDD_fif\\\\h5_task_cropped_raw.fif',\n",
       " 'C:/Users/home/TASK_Healthy_and_MDD_fif\\\\h6_task_cropped_raw.fif',\n",
       " 'C:/Users/home/TASK_Healthy_and_MDD_fif\\\\h7_task_cropped_raw.fif',\n",
       " 'C:/Users/home/TASK_Healthy_and_MDD_fif\\\\h8_task_cropped_raw.fif',\n",
       " 'C:/Users/home/TASK_Healthy_and_MDD_fif\\\\h9_task_cropped_raw.fif',\n",
       " 'C:/Users/home/TASK_Healthy_and_MDD_fif\\\\mdd10_task_cropped_raw.fif',\n",
       " 'C:/Users/home/TASK_Healthy_and_MDD_fif\\\\mdd11_task_cropped_raw.fif',\n",
       " 'C:/Users/home/TASK_Healthy_and_MDD_fif\\\\mdd12_task_cropped_raw.fif',\n",
       " 'C:/Users/home/TASK_Healthy_and_MDD_fif\\\\mdd13_task_cropped_raw.fif',\n",
       " 'C:/Users/home/TASK_Healthy_and_MDD_fif\\\\mdd14_task_cropped_raw.fif',\n",
       " 'C:/Users/home/TASK_Healthy_and_MDD_fif\\\\mdd15_task_cropped_raw.fif',\n",
       " 'C:/Users/home/TASK_Healthy_and_MDD_fif\\\\mdd16_task_cropped_raw.fif',\n",
       " 'C:/Users/home/TASK_Healthy_and_MDD_fif\\\\mdd17_task_cropped_raw.fif',\n",
       " 'C:/Users/home/TASK_Healthy_and_MDD_fif\\\\mdd18_task_cropped_raw.fif',\n",
       " 'C:/Users/home/TASK_Healthy_and_MDD_fif\\\\mdd19_task_cropped_raw.fif',\n",
       " 'C:/Users/home/TASK_Healthy_and_MDD_fif\\\\mdd1_task_cropped_raw.fif',\n",
       " 'C:/Users/home/TASK_Healthy_and_MDD_fif\\\\mdd20_task_cropped_raw.fif',\n",
       " 'C:/Users/home/TASK_Healthy_and_MDD_fif\\\\mdd21_task_cropped_raw.fif',\n",
       " 'C:/Users/home/TASK_Healthy_and_MDD_fif\\\\mdd22_task_cropped_raw.fif',\n",
       " 'C:/Users/home/TASK_Healthy_and_MDD_fif\\\\mdd23_task_cropped_raw.fif',\n",
       " 'C:/Users/home/TASK_Healthy_and_MDD_fif\\\\mdd24_task_cropped_raw.fif',\n",
       " 'C:/Users/home/TASK_Healthy_and_MDD_fif\\\\mdd25_task_cropped_raw.fif',\n",
       " 'C:/Users/home/TASK_Healthy_and_MDD_fif\\\\mdd26_task_cropped_raw.fif',\n",
       " 'C:/Users/home/TASK_Healthy_and_MDD_fif\\\\mdd27_task_cropped_raw.fif',\n",
       " 'C:/Users/home/TASK_Healthy_and_MDD_fif\\\\mdd28_task_cropped_raw.fif',\n",
       " 'C:/Users/home/TASK_Healthy_and_MDD_fif\\\\mdd29_task_cropped_raw.fif',\n",
       " 'C:/Users/home/TASK_Healthy_and_MDD_fif\\\\mdd2_task_cropped_raw.fif',\n",
       " 'C:/Users/home/TASK_Healthy_and_MDD_fif\\\\mdd30_task_cropped_raw.fif',\n",
       " 'C:/Users/home/TASK_Healthy_and_MDD_fif\\\\mdd31_task_cropped_raw.fif',\n",
       " 'C:/Users/home/TASK_Healthy_and_MDD_fif\\\\mdd32_task_cropped_raw.fif',\n",
       " 'C:/Users/home/TASK_Healthy_and_MDD_fif\\\\mdd33_task_cropped_raw.fif',\n",
       " 'C:/Users/home/TASK_Healthy_and_MDD_fif\\\\mdd34_task_cropped_raw.fif',\n",
       " 'C:/Users/home/TASK_Healthy_and_MDD_fif\\\\mdd3_task_cropped_raw.fif',\n",
       " 'C:/Users/home/TASK_Healthy_and_MDD_fif\\\\mdd4_task_cropped_raw.fif',\n",
       " 'C:/Users/home/TASK_Healthy_and_MDD_fif\\\\mdd5_task_cropped_raw.fif',\n",
       " 'C:/Users/home/TASK_Healthy_and_MDD_fif\\\\mdd6_task_cropped_raw.fif',\n",
       " 'C:/Users/home/TASK_Healthy_and_MDD_fif\\\\mdd7_task_cropped_raw.fif',\n",
       " 'C:/Users/home/TASK_Healthy_and_MDD_fif\\\\mdd8_task_cropped_raw.fif']"
      ]
     },
     "execution_count": 8,
     "metadata": {},
     "output_type": "execute_result"
    }
   ],
   "source": [
    "all_file_path"
   ]
  },
  {
   "cell_type": "code",
   "execution_count": 10,
   "metadata": {
    "colab": {
     "base_uri": "https://localhost:8080/"
    },
    "id": "jQqcgEwaUJf9",
    "outputId": "4939d9cd-d8eb-494c-f934-5c128f7ff592"
   },
   "outputs": [
    {
     "name": "stdout",
     "output_type": "stream",
     "text": [
      "28 33\n"
     ]
    }
   ],
   "source": [
    "healthy_file_path = [i for i in all_file_path if 'h' in i.split('\\\\')[1]]\n",
    "patient_file_path = [i for i in all_file_path if 'm' in i.split('\\\\')[1]]\n",
    "print(len(healthy_file_path), len(patient_file_path))"
   ]
  },
  {
   "cell_type": "code",
   "execution_count": 11,
   "metadata": {
    "id": "z5FuUzgjURYn"
   },
   "outputs": [],
   "source": [
    "def read_data(file_path):\n",
    "    data = mne.io.read_raw_fif(file_path, preload = True)\n",
    "    data.set_eeg_reference()\n",
    "    data.filter(l_freq = 0.5, h_freq = 60)\n",
    "    epochs = mne.make_fixed_length_epochs(data, duration = 5, overlap = 2)\n",
    "    array = epochs.get_data()\n",
    "    return array"
   ]
  },
  {
   "cell_type": "code",
   "execution_count": 13,
   "metadata": {
    "colab": {
     "base_uri": "https://localhost:8080/"
    },
    "id": "oAygQl-6UyVA",
    "outputId": "20891380-93ae-4ee7-bea2-5e2587c82104"
   },
   "outputs": [
    {
     "name": "stdout",
     "output_type": "stream",
     "text": [
      "Opening raw data file C:/Users/home/TASK_Healthy_and_MDD_fif\\h10_task_cropped_raw.fif...\n",
      "Isotrak not found\n",
      "    Range : 0 ... 154879 =      0.000 ...   604.996 secs\n",
      "Ready.\n",
      "Reading 0 ... 154879  =      0.000 ...   604.996 secs...\n",
      "EEG channel type selected for re-referencing\n",
      "Applying average reference.\n",
      "Applying a custom ('EEG',) reference.\n",
      "Filtering raw data in 1 contiguous segment\n",
      "Setting up band-pass filter from 0.5 - 60 Hz\n",
      "\n",
      "FIR filter parameters\n",
      "---------------------\n",
      "Designing a one-pass, zero-phase, non-causal bandpass filter:\n",
      "- Windowed time-domain design (firwin) method\n",
      "- Hamming window with 0.0194 passband ripple and 53 dB stopband attenuation\n",
      "- Lower passband edge: 0.50\n",
      "- Lower transition bandwidth: 0.50 Hz (-6 dB cutoff frequency: 0.25 Hz)\n",
      "- Upper passband edge: 60.00 Hz\n",
      "- Upper transition bandwidth: 15.00 Hz (-6 dB cutoff frequency: 67.50 Hz)\n",
      "- Filter length: 1691 samples (6.605 sec)\n",
      "\n",
      "Not setting metadata\n",
      "201 matching events found\n",
      "No baseline correction applied\n",
      "0 projection items activated\n",
      "Using data from preloaded Raw for 201 events and 1280 original time points ...\n",
      "0 bad epochs dropped\n"
     ]
    }
   ],
   "source": [
    "sample_data = read_data(healthy_file_path[0])"
   ]
  },
  {
   "cell_type": "code",
   "execution_count": 14,
   "metadata": {
    "colab": {
     "base_uri": "https://localhost:8080/"
    },
    "id": "LETNmhOzU6oZ",
    "outputId": "15b25a25-6706-4365-b2c5-295d97be8efd"
   },
   "outputs": [
    {
     "data": {
      "text/plain": [
       "(201, 20, 1280)"
      ]
     },
     "execution_count": 14,
     "metadata": {},
     "output_type": "execute_result"
    }
   ],
   "source": [
    "sample_data.shape # no. of epochs, channels, length of signals "
   ]
  },
  {
   "cell_type": "code",
   "execution_count": null,
   "metadata": {
    "id": "ETpdug2TU_j_"
   },
   "outputs": [],
   "source": [
    "%%capture\n",
    "control_epochs_array = [read_data(i) for i in healthy_file_path]\n",
    "patient_epochs_array = [read_data(i) for i in patient_file_path]"
   ]
  },
  {
   "cell_type": "code",
   "execution_count": 15,
   "metadata": {
    "colab": {
     "base_uri": "https://localhost:8080/"
    },
    "id": "YoSdotYhVDy8",
    "outputId": "c772e911-9537-405a-b916-229e3c4c188b"
   },
   "outputs": [
    {
     "ename": "NameError",
     "evalue": "name 'control_epochs_array' is not defined",
     "output_type": "error",
     "traceback": [
      "\u001b[1;31m---------------------------------------------------------------------------\u001b[0m",
      "\u001b[1;31mNameError\u001b[0m                                 Traceback (most recent call last)",
      "\u001b[1;32m~\\AppData\\Local\\Temp/ipykernel_10684/1532858997.py\u001b[0m in \u001b[0;36m<module>\u001b[1;34m\u001b[0m\n\u001b[1;32m----> 1\u001b[1;33m \u001b[0mcontrol_epochs_array\u001b[0m\u001b[1;33m[\u001b[0m\u001b[1;36m0\u001b[0m\u001b[1;33m]\u001b[0m\u001b[1;33m.\u001b[0m\u001b[0mshape\u001b[0m\u001b[1;33m,\u001b[0m \u001b[0mcontrol_epochs_array\u001b[0m\u001b[1;33m[\u001b[0m\u001b[1;36m1\u001b[0m\u001b[1;33m]\u001b[0m\u001b[1;33m.\u001b[0m\u001b[0mshape\u001b[0m\u001b[1;33m,\u001b[0m \u001b[0mcontrol_epochs_array\u001b[0m\u001b[1;33m[\u001b[0m\u001b[1;36m2\u001b[0m\u001b[1;33m]\u001b[0m\u001b[1;33m.\u001b[0m\u001b[0mshape\u001b[0m\u001b[1;33m,\u001b[0m \u001b[0mcontrol_epochs_array\u001b[0m\u001b[1;33m[\u001b[0m\u001b[1;36m3\u001b[0m\u001b[1;33m]\u001b[0m\u001b[1;33m.\u001b[0m\u001b[0mshape\u001b[0m\u001b[1;33m,\u001b[0m \u001b[0mcontrol_epochs_array\u001b[0m\u001b[1;33m[\u001b[0m\u001b[1;36m4\u001b[0m\u001b[1;33m]\u001b[0m\u001b[1;33m.\u001b[0m\u001b[0mshape\u001b[0m\u001b[1;31m#, control_epochs_array[5].shape, control_epochs_array[6].shape, control_epochs_array[7].shape, control_epochs_array[8].shape, control_epochs_array[9].shape, control_epochs_array[10].shape, control_epochs_array[11].shape, control_epochs_array[12].shape, control_epochs_array[38].shape, control_epochs_array[14].shape\u001b[0m\u001b[1;33m\u001b[0m\u001b[1;33m\u001b[0m\u001b[0m\n\u001b[0m",
      "\u001b[1;31mNameError\u001b[0m: name 'control_epochs_array' is not defined"
     ]
    }
   ],
   "source": [
    "control_epochs_array[0].shape, control_epochs_array[1].shape, control_epochs_array[2].shape, control_epochs_array[3].shape, control_epochs_array[4].shape#, control_epochs_array[5].shape, control_epochs_array[6].shape, control_epochs_array[7].shape, control_epochs_array[8].shape, control_epochs_array[9].shape, control_epochs_array[10].shape, control_epochs_array[11].shape, control_epochs_array[12].shape, control_epochs_array[38].shape, control_epochs_array[14].shape"
   ]
  },
  {
   "cell_type": "code",
   "execution_count": null,
   "metadata": {
    "colab": {
     "base_uri": "https://localhost:8080/"
    },
    "id": "Xr-zDsKnXD4E",
    "outputId": "a6dab8e4-ae7b-4d09-9d94-b4f118345f94"
   },
   "outputs": [],
   "source": [
    "control_epochs_array[0].shape"
   ]
  },
  {
   "cell_type": "code",
   "execution_count": null,
   "metadata": {
    "colab": {
     "base_uri": "https://localhost:8080/"
    },
    "id": "y5FBOwgtVOxE",
    "outputId": "c07002f6-c479-4ca5-a072-9faa05249b2b"
   },
   "outputs": [],
   "source": [
    "patient_epochs_array[0].shape, patient_epochs_array[1].shape, patient_epochs_array[2].shape, patient_epochs_array[3].shape#, control_epochs_array[4].shape#, control_epochs_array[5].shape#, control_epochs_array[6].shape#, control_epochs_array[7].shape,  "
   ]
  },
  {
   "cell_type": "code",
   "execution_count": null,
   "metadata": {
    "colab": {
     "base_uri": "https://localhost:8080/"
    },
    "id": "DQOinvScVV4-",
    "outputId": "b15ec511-2a65-4cbe-da89-de85b4ee2a70"
   },
   "outputs": [],
   "source": [
    "control_epochs_labels = [len(i)*[0] for i in control_epochs_array]\n",
    "patient_epochs_labels = [len(i)*[1] for i in patient_epochs_array]\n",
    "len(control_epochs_labels), len(patient_epochs_labels)"
   ]
  },
  {
   "cell_type": "code",
   "execution_count": null,
   "metadata": {
    "id": "cj3_OnaCVaEz"
   },
   "outputs": [],
   "source": [
    "data_list = control_epochs_array + patient_epochs_array\n",
    "label_list = control_epochs_labels + patient_epochs_labels"
   ]
  },
  {
   "cell_type": "code",
   "execution_count": null,
   "metadata": {
    "colab": {
     "base_uri": "https://localhost:8080/"
    },
    "id": "RNWrq7idVde1",
    "outputId": "7e9e9dd6-6dc7-4482-8f22-3ed1f3e85a03"
   },
   "outputs": [],
   "source": [
    "epochs_array=control_epochs_array+patient_epochs_array\n",
    "epochs_labels=control_epochs_labels+patient_epochs_labels\n",
    "print(len(epochs_array),len(epochs_labels))"
   ]
  },
  {
   "cell_type": "code",
   "execution_count": null,
   "metadata": {
    "colab": {
     "base_uri": "https://localhost:8080/"
    },
    "id": "BeyYu8rxVgbV",
    "outputId": "fb0f304e-b05a-4bc5-ceec-0aa038817705"
   },
   "outputs": [],
   "source": [
    "groups = [[i]*len(j) for i,j in enumerate(data_list)]\n",
    "len(groups)"
   ]
  },
  {
   "cell_type": "code",
   "execution_count": null,
   "metadata": {
    "colab": {
     "base_uri": "https://localhost:8080/"
    },
    "id": "AI1kM-3HVj-u",
    "outputId": "a6847f5c-79b0-41cb-ab92-8b81c4da7706"
   },
   "outputs": [],
   "source": [
    "data_array = np.vstack(data_list)\n",
    "label_array = np.hstack(label_list)\n",
    "groups_array = np.hstack(groups)\n",
    "print(data_array.shape, label_array.shape, groups_array.shape)"
   ]
  },
  {
   "cell_type": "code",
   "execution_count": null,
   "metadata": {
    "id": "jkjHWQh5e9ib"
   },
   "outputs": [],
   "source": [
    "epochs_array=np.vstack(epochs_array)\n",
    "epochs_labels=np.hstack(epochs_labels)\n",
    "groups_array=np.hstack(groups)"
   ]
  },
  {
   "cell_type": "markdown",
   "metadata": {
    "id": "lY-P80Ucjlbd"
   },
   "source": [
    "Deep Learning CNN"
   ]
  },
  {
   "cell_type": "code",
   "execution_count": null,
   "metadata": {
    "colab": {
     "base_uri": "https://localhost:8080/"
    },
    "id": "yykC0reajuqc",
    "outputId": "a33b013d-2615-459e-b4b5-a07da3148520"
   },
   "outputs": [],
   "source": [
    "epochs_array.shape,epochs_labels.shape,groups_array.shape"
   ]
  },
  {
   "cell_type": "code",
   "execution_count": null,
   "metadata": {
    "colab": {
     "base_uri": "https://localhost:8080/"
    },
    "id": "9tfetxojj1Ko",
    "outputId": "d8b406b9-1b8f-44bd-b389-3a9a2c709f82"
   },
   "outputs": [],
   "source": [
    "epochs_array=np.moveaxis(epochs_array,1,2)\n",
    "epochs_array.shape"
   ]
  },
  {
   "cell_type": "code",
   "execution_count": null,
   "metadata": {
    "colab": {
     "base_uri": "https://localhost:8080/"
    },
    "id": "teDifyCnj4XU",
    "outputId": "e4a4b2b6-0b0d-421a-cfe3-9c43bc9a7732"
   },
   "outputs": [],
   "source": [
    "from tensorflow.keras.layers import Conv1D,BatchNormalization,LeakyReLU,MaxPool1D,\\\n",
    "GlobalAveragePooling1D,Dense,Dropout,AveragePooling1D\n",
    "from tensorflow.keras.models import Sequential\n",
    "from tensorflow.keras.backend import clear_session\n",
    "def cnnmodel():\n",
    "    clear_session()\n",
    "    model=Sequential()\n",
    "    model.add(Conv1D(filters=5,kernel_size=3,strides=1,input_shape=(1280,20)))#1\n",
    "    model.add(BatchNormalization())\n",
    "    model.add(LeakyReLU())\n",
    "    model.add(MaxPool1D(pool_size=2,strides=2))#2\n",
    "    model.add(Conv1D(filters=5,kernel_size=3,strides=1))#3\n",
    "    model.add(LeakyReLU())\n",
    "    model.add(MaxPool1D(pool_size=2,strides=2))#4\n",
    "    model.add(Dropout(0.5))\n",
    "    model.add(Conv1D(filters=5,kernel_size=3,strides=1))#5\n",
    "    model.add(LeakyReLU())\n",
    "    model.add(AveragePooling1D(pool_size=2,strides=2))#6\n",
    "    model.add(Dropout(0.5))\n",
    "    model.add(Conv1D(filters=5,kernel_size=3,strides=1))#7\n",
    "    model.add(LeakyReLU())\n",
    "    model.add(AveragePooling1D(pool_size=2,strides=2))#8\n",
    "    model.add(Conv1D(filters=5,kernel_size=3,strides=1))#9\n",
    "    model.add(LeakyReLU())\n",
    "    model.add(GlobalAveragePooling1D())#10\n",
    "    model.add(Dense(1,activation='sigmoid'))#11\n",
    "    \n",
    "    model.compile('adam',loss='binary_crossentropy',metrics=['accuracy'])\n",
    "    return model\n",
    "\n",
    "model=cnnmodel()\n",
    "model.summary()"
   ]
  },
  {
   "cell_type": "code",
   "execution_count": null,
   "metadata": {
    "id": "zEAUXkndj5LS"
   },
   "outputs": [],
   "source": [
    "from sklearn.model_selection import GroupKFold, LeaveOneGroupOut\n",
    "from sklearn.preprocessing import StandardScaler\n",
    "gkf=GroupKFold()"
   ]
  },
  {
   "cell_type": "code",
   "execution_count": null,
   "metadata": {
    "id": "idD3tW9cj5Wz"
   },
   "outputs": [],
   "source": [
    "accuracy=[]\n",
    "for train_index,val_index in gkf.split(epochs_array,epochs_labels,groups=groups_array):\n",
    "    train_features,train_labels=epochs_array[train_index],epochs_labels[train_index]\n",
    "    val_features,val_labels=epochs_array[val_index],epochs_labels[val_index]\n",
    "    scalar=StandardScaler()\n",
    "    train_features=scalar.fit_transform(train_features.reshape(-1,train_features.shape[-1])).reshape(train_features.shape)\n",
    "    val_features=scalar.transform(val_features.reshape(-1,val_features.shape[-1])).reshape(val_features.shape)\n",
    "    model=cnnmodel()\n",
    "    model.fit(train_features,train_labels,epochs=2,batch_size=10,validation_data=(val_features,val_labels))\n",
    "    accuracy.append(model.evaluate(val_features,val_labels)[1])"
   ]
  },
  {
   "cell_type": "code",
   "execution_count": null,
   "metadata": {
    "id": "WOHoJt5qj5fm"
   },
   "outputs": [],
   "source": [
    "np.mean(accuracy)"
   ]
  },
  {
   "cell_type": "code",
   "execution_count": null,
   "metadata": {
    "id": "BJkkBA8Lh9KL"
   },
   "outputs": [],
   "source": [
    "end = time.time()\n",
    "print(\"Total time in sec:\",end - start)"
   ]
  },
  {
   "cell_type": "code",
   "execution_count": null,
   "metadata": {
    "id": "2UkDQNcAj5ni"
   },
   "outputs": [],
   "source": []
  }
 ],
 "metadata": {
  "accelerator": "GPU",
  "colab": {
   "name": "2022-May-28 TASK EEG Classification(1D CNN).ipynb",
   "provenance": []
  },
  "kernelspec": {
   "display_name": "Python 3 (ipykernel)",
   "language": "python",
   "name": "python3"
  },
  "language_info": {
   "codemirror_mode": {
    "name": "ipython",
    "version": 3
   },
   "file_extension": ".py",
   "mimetype": "text/x-python",
   "name": "python",
   "nbconvert_exporter": "python",
   "pygments_lexer": "ipython3",
   "version": "3.9.7"
  }
 },
 "nbformat": 4,
 "nbformat_minor": 1
}
