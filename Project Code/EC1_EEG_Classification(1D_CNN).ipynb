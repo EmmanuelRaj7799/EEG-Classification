{
 "cells": [
  {
   "cell_type": "markdown",
   "metadata": {
    "id": "CLVgNK06gTTf"
   },
   "source": [
    "# **Installing MNE**"
   ]
  },
  {
   "cell_type": "code",
   "execution_count": 1,
   "metadata": {
    "colab": {
     "base_uri": "https://localhost:8080/"
    },
    "id": "RAKsGu2o36V4",
    "outputId": "49f9f0fa-7356-4335-a699-7a78b67c1116"
   },
   "outputs": [
    {
     "name": "stdout",
     "output_type": "stream",
     "text": [
      "Requirement already satisfied: mne in c:\\users\\home\\anaconda3\\lib\\site-packages (1.0.3)\n",
      "Requirement already satisfied: jinja2 in c:\\users\\home\\anaconda3\\lib\\site-packages (from mne) (2.11.3)\n",
      "Requirement already satisfied: packaging in c:\\users\\home\\anaconda3\\lib\\site-packages (from mne) (21.0)\n",
      "Requirement already satisfied: matplotlib in c:\\users\\home\\anaconda3\\lib\\site-packages (from mne) (3.4.3)\n",
      "Requirement already satisfied: numpy>=1.15.4 in c:\\users\\home\\anaconda3\\lib\\site-packages (from mne) (1.20.3)\n",
      "Requirement already satisfied: pooch>=1.5 in c:\\users\\home\\anaconda3\\lib\\site-packages (from mne) (1.6.0)\n",
      "Requirement already satisfied: scipy>=1.1.0 in c:\\users\\home\\anaconda3\\lib\\site-packages (from mne) (1.7.1)\n",
      "Requirement already satisfied: tqdm in c:\\users\\home\\anaconda3\\lib\\site-packages (from mne) (4.62.3)\n",
      "Requirement already satisfied: decorator in c:\\users\\home\\anaconda3\\lib\\site-packages (from mne) (5.1.0)\n",
      "Requirement already satisfied: requests>=2.19.0 in c:\\users\\home\\anaconda3\\lib\\site-packages (from pooch>=1.5->mne) (2.26.0)\n",
      "Requirement already satisfied: appdirs>=1.3.0 in c:\\users\\home\\anaconda3\\lib\\site-packages (from pooch>=1.5->mne) (1.4.4)\n",
      "Requirement already satisfied: pyparsing>=2.0.2 in c:\\users\\home\\anaconda3\\lib\\site-packages (from packaging->mne) (3.0.4)\n",
      "Requirement already satisfied: idna<4,>=2.5 in c:\\users\\home\\anaconda3\\lib\\site-packages (from requests>=2.19.0->pooch>=1.5->mne) (3.2)\n",
      "Requirement already satisfied: certifi>=2017.4.17 in c:\\users\\home\\anaconda3\\lib\\site-packages (from requests>=2.19.0->pooch>=1.5->mne) (2021.10.8)\n",
      "Requirement already satisfied: charset-normalizer~=2.0.0 in c:\\users\\home\\anaconda3\\lib\\site-packages (from requests>=2.19.0->pooch>=1.5->mne) (2.0.4)\n",
      "Requirement already satisfied: urllib3<1.27,>=1.21.1 in c:\\users\\home\\anaconda3\\lib\\site-packages (from requests>=2.19.0->pooch>=1.5->mne) (1.26.7)\n",
      "Requirement already satisfied: MarkupSafe>=0.23 in c:\\users\\home\\anaconda3\\lib\\site-packages (from jinja2->mne) (1.1.1)\n",
      "Requirement already satisfied: pillow>=6.2.0 in c:\\users\\home\\anaconda3\\lib\\site-packages (from matplotlib->mne) (8.4.0)\n",
      "Requirement already satisfied: python-dateutil>=2.7 in c:\\users\\home\\anaconda3\\lib\\site-packages (from matplotlib->mne) (2.8.2)\n",
      "Requirement already satisfied: cycler>=0.10 in c:\\users\\home\\anaconda3\\lib\\site-packages (from matplotlib->mne) (0.10.0)\n",
      "Requirement already satisfied: kiwisolver>=1.0.1 in c:\\users\\home\\anaconda3\\lib\\site-packages (from matplotlib->mne) (1.3.1)\n",
      "Requirement already satisfied: six in c:\\users\\home\\anaconda3\\lib\\site-packages (from cycler>=0.10->matplotlib->mne) (1.16.0)\n",
      "Requirement already satisfied: colorama in c:\\users\\home\\anaconda3\\lib\\site-packages (from tqdm->mne) (0.4.4)\n"
     ]
    }
   ],
   "source": [
    "! pip install mne"
   ]
  },
  {
   "cell_type": "markdown",
   "metadata": {
    "id": "GerAeyKSgM2V"
   },
   "source": [
    "# **Starting of the Time**"
   ]
  },
  {
   "cell_type": "code",
   "execution_count": 15,
   "metadata": {
    "id": "E2A4jTRSvw2t"
   },
   "outputs": [],
   "source": [
    "import time\n",
    "start = time.time()"
   ]
  },
  {
   "cell_type": "markdown",
   "metadata": {
    "id": "JKD3wvRigGra"
   },
   "source": [
    "# **Connecting Colab to Drive**"
   ]
  },
  {
   "cell_type": "code",
   "execution_count": 16,
   "metadata": {
    "colab": {
     "base_uri": "https://localhost:8080/"
    },
    "id": "lGmf9vmyTRWi",
    "outputId": "3c04016f-6050-474f-e7ba-2a8e664a3823"
   },
   "outputs": [],
   "source": [
    "# from google.colab import drive\n",
    "# drive.mount('/content/drive')"
   ]
  },
  {
   "cell_type": "markdown",
   "metadata": {
    "id": "FFOSTjWkf_L6"
   },
   "source": [
    "# **Importint the Necessary Libraries**"
   ]
  },
  {
   "cell_type": "code",
   "execution_count": 17,
   "metadata": {
    "id": "vnci5qXPTr8O"
   },
   "outputs": [],
   "source": [
    "from glob import glob # it Is help us to read all files in the Folder \n",
    "import os\n",
    "import mne # It is a Package which is Used to Analysis the EEG Dataset\n",
    "from numpy import array\n",
    "import numpy as np\n",
    "import pandas as pd\n",
    "import matplotlib.pyplot as plt"
   ]
  },
  {
   "cell_type": "markdown",
   "metadata": {
    "id": "igHCjfqSf53z"
   },
   "source": [
    "# **Importing the Dataset**"
   ]
  },
  {
   "cell_type": "code",
   "execution_count": 18,
   "metadata": {
    "colab": {
     "base_uri": "https://localhost:8080/"
    },
    "id": "PzaA5JqdT1Ux",
    "outputId": "d20469fe-9fde-4ce4-c0fc-dc2c479e9b03"
   },
   "outputs": [
    {
     "name": "stdout",
     "output_type": "stream",
     "text": [
      "58\n"
     ]
    }
   ],
   "source": [
    "all_file_path = glob('C:/Users/home/EC_Healthy_and_MDD_fif/*.fif')\n",
    "print(len(all_file_path))"
   ]
  },
  {
   "cell_type": "code",
   "execution_count": 19,
   "metadata": {
    "colab": {
     "base_uri": "https://localhost:8080/"
    },
    "id": "5jplMMDOUEX1",
    "outputId": "f7c30caa-1352-48b1-d4d6-40c07fbe45cc"
   },
   "outputs": [
    {
     "data": {
      "text/plain": [
       "['C:/Users/home/EC_Healthy_and_MDD_fif\\\\h10_ec_cropped_raw.fif',\n",
       " 'C:/Users/home/EC_Healthy_and_MDD_fif\\\\h11_ec_cropped_raw.fif',\n",
       " 'C:/Users/home/EC_Healthy_and_MDD_fif\\\\h13_ec_cropped_raw.fif',\n",
       " 'C:/Users/home/EC_Healthy_and_MDD_fif\\\\h14_ec_cropped_raw.fif',\n",
       " 'C:/Users/home/EC_Healthy_and_MDD_fif\\\\h15_ec_cropped_raw.fif',\n",
       " 'C:/Users/home/EC_Healthy_and_MDD_fif\\\\h16_ec_cropped_raw.fif',\n",
       " 'C:/Users/home/EC_Healthy_and_MDD_fif\\\\h17_ec_cropped_raw.fif',\n",
       " 'C:/Users/home/EC_Healthy_and_MDD_fif\\\\h19_ec_cropped_raw.fif',\n",
       " 'C:/Users/home/EC_Healthy_and_MDD_fif\\\\h1_ec_cropped_raw.fif',\n",
       " 'C:/Users/home/EC_Healthy_and_MDD_fif\\\\h20_ec_cropped_raw.fif',\n",
       " 'C:/Users/home/EC_Healthy_and_MDD_fif\\\\h21_ec_cropped_raw.fif',\n",
       " 'C:/Users/home/EC_Healthy_and_MDD_fif\\\\h22_ec_cropped_raw.fif',\n",
       " 'C:/Users/home/EC_Healthy_and_MDD_fif\\\\h23_ec_cropped_raw.fif',\n",
       " 'C:/Users/home/EC_Healthy_and_MDD_fif\\\\h24_ec_cropped_raw.fif',\n",
       " 'C:/Users/home/EC_Healthy_and_MDD_fif\\\\h25_ec_cropped_raw.fif',\n",
       " 'C:/Users/home/EC_Healthy_and_MDD_fif\\\\h26_ec_cropped_raw.fif',\n",
       " 'C:/Users/home/EC_Healthy_and_MDD_fif\\\\h27_ec_cropped_raw.fif',\n",
       " 'C:/Users/home/EC_Healthy_and_MDD_fif\\\\h28_ec_cropped_raw.fif',\n",
       " 'C:/Users/home/EC_Healthy_and_MDD_fif\\\\h29_ec_cropped_raw.fif',\n",
       " 'C:/Users/home/EC_Healthy_and_MDD_fif\\\\h2_ec_cropped_raw.fif',\n",
       " 'C:/Users/home/EC_Healthy_and_MDD_fif\\\\h30_ec_cropped_raw.fif',\n",
       " 'C:/Users/home/EC_Healthy_and_MDD_fif\\\\h3_ec_cropped_raw.fif',\n",
       " 'C:/Users/home/EC_Healthy_and_MDD_fif\\\\h4_ec_cropped_raw.fif',\n",
       " 'C:/Users/home/EC_Healthy_and_MDD_fif\\\\h5_ec_cropped_raw.fif',\n",
       " 'C:/Users/home/EC_Healthy_and_MDD_fif\\\\h6_ec_cropped_raw.fif',\n",
       " 'C:/Users/home/EC_Healthy_and_MDD_fif\\\\h7_ec_cropped_raw.fif',\n",
       " 'C:/Users/home/EC_Healthy_and_MDD_fif\\\\h8_ec_cropped_raw.fif',\n",
       " 'C:/Users/home/EC_Healthy_and_MDD_fif\\\\h9_ec_cropped_raw.fif',\n",
       " 'C:/Users/home/EC_Healthy_and_MDD_fif\\\\mdd10_ec_cropped_raw.fif',\n",
       " 'C:/Users/home/EC_Healthy_and_MDD_fif\\\\mdd11_ec_cropped_raw.fif',\n",
       " 'C:/Users/home/EC_Healthy_and_MDD_fif\\\\mdd13_ec_cropped_raw.fif',\n",
       " 'C:/Users/home/EC_Healthy_and_MDD_fif\\\\mdd14_ec_cropped_raw.fif',\n",
       " 'C:/Users/home/EC_Healthy_and_MDD_fif\\\\mdd15_ec_cropped_raw.fif',\n",
       " 'C:/Users/home/EC_Healthy_and_MDD_fif\\\\mdd17_ec_cropped_raw.fif',\n",
       " 'C:/Users/home/EC_Healthy_and_MDD_fif\\\\mdd18_ec_cropped_raw.fif',\n",
       " 'C:/Users/home/EC_Healthy_and_MDD_fif\\\\mdd19_ec_cropped_raw.fif',\n",
       " 'C:/Users/home/EC_Healthy_and_MDD_fif\\\\mdd1_ec_cropped_raw.fif',\n",
       " 'C:/Users/home/EC_Healthy_and_MDD_fif\\\\mdd20_ec_cropped_raw.fif',\n",
       " 'C:/Users/home/EC_Healthy_and_MDD_fif\\\\mdd21_ec_cropped_raw.fif',\n",
       " 'C:/Users/home/EC_Healthy_and_MDD_fif\\\\mdd22_ec_cropped_raw.fif',\n",
       " 'C:/Users/home/EC_Healthy_and_MDD_fif\\\\mdd23_ec_cropped_raw.fif',\n",
       " 'C:/Users/home/EC_Healthy_and_MDD_fif\\\\mdd24_ec_cropped_raw.fif',\n",
       " 'C:/Users/home/EC_Healthy_and_MDD_fif\\\\mdd25_ec_cropped_raw.fif',\n",
       " 'C:/Users/home/EC_Healthy_and_MDD_fif\\\\mdd26_ec_cropped_raw.fif',\n",
       " 'C:/Users/home/EC_Healthy_and_MDD_fif\\\\mdd27_ec_cropped_raw.fif',\n",
       " 'C:/Users/home/EC_Healthy_and_MDD_fif\\\\mdd28_ec_cropped_raw.fif',\n",
       " 'C:/Users/home/EC_Healthy_and_MDD_fif\\\\mdd29_ec_cropped_raw.fif',\n",
       " 'C:/Users/home/EC_Healthy_and_MDD_fif\\\\mdd2_ec_cropped_raw.fif',\n",
       " 'C:/Users/home/EC_Healthy_and_MDD_fif\\\\mdd30_ec_cropped_raw.fif',\n",
       " 'C:/Users/home/EC_Healthy_and_MDD_fif\\\\mdd31_ec_cropped_raw.fif',\n",
       " 'C:/Users/home/EC_Healthy_and_MDD_fif\\\\mdd32_ec_cropped_raw.fif',\n",
       " 'C:/Users/home/EC_Healthy_and_MDD_fif\\\\mdd33_ec_cropped_raw.fif',\n",
       " 'C:/Users/home/EC_Healthy_and_MDD_fif\\\\mdd34_ec_cropped_raw.fif',\n",
       " 'C:/Users/home/EC_Healthy_and_MDD_fif\\\\mdd3_ec_cropped_raw.fif',\n",
       " 'C:/Users/home/EC_Healthy_and_MDD_fif\\\\mdd5_ec_cropped_raw.fif',\n",
       " 'C:/Users/home/EC_Healthy_and_MDD_fif\\\\mdd6_ec_cropped_raw.fif',\n",
       " 'C:/Users/home/EC_Healthy_and_MDD_fif\\\\mdd7_ec_cropped_raw.fif',\n",
       " 'C:/Users/home/EC_Healthy_and_MDD_fif\\\\mdd9_ec_cropped_raw.fif']"
      ]
     },
     "execution_count": 19,
     "metadata": {},
     "output_type": "execute_result"
    }
   ],
   "source": [
    "all_file_path"
   ]
  },
  {
   "cell_type": "markdown",
   "metadata": {
    "id": "dnmFl35SfxR0"
   },
   "source": [
    "# Separating the Healthy Subjects and MDD Patients"
   ]
  },
  {
   "cell_type": "code",
   "execution_count": 20,
   "metadata": {
    "colab": {
     "base_uri": "https://localhost:8080/"
    },
    "id": "jQqcgEwaUJf9",
    "outputId": "35a044ba-e46a-4c8e-83b3-f54394971a0a"
   },
   "outputs": [
    {
     "name": "stdout",
     "output_type": "stream",
     "text": [
      "28 30\n"
     ]
    }
   ],
   "source": [
    "healthy_file_path = [i for i in all_file_path if 'h' in i.split('\\\\')[1]]\n",
    "patient_file_path = [i for i in all_file_path if 'm' in i.split('\\\\')[1]]\n",
    "print(len(healthy_file_path), len(patient_file_path))"
   ]
  },
  {
   "cell_type": "markdown",
   "metadata": {
    "id": "0g7iMhNnfqIf"
   },
   "source": [
    "# **Reading the File Path and Getting the Data from One File**"
   ]
  },
  {
   "cell_type": "code",
   "execution_count": 21,
   "metadata": {
    "id": "z5FuUzgjURYn"
   },
   "outputs": [],
   "source": [
    "def read_data(file_path):\n",
    "    data = mne.io.read_raw_fif(file_path, preload = True)\n",
    "    data.set_eeg_reference()\n",
    "    data.filter(l_freq = 0.5, h_freq = 45)\n",
    "    epochs = mne.make_fixed_length_epochs(data, duration = 5, overlap = 1)\n",
    "    array = epochs.get_data()\n",
    "    return array"
   ]
  },
  {
   "cell_type": "code",
   "execution_count": 22,
   "metadata": {
    "colab": {
     "base_uri": "https://localhost:8080/"
    },
    "id": "oAygQl-6UyVA",
    "outputId": "e9aae05c-dd11-49f9-964b-6f1d789e2f60"
   },
   "outputs": [
    {
     "name": "stdout",
     "output_type": "stream",
     "text": [
      "Opening raw data file C:/Users/home/EC_Healthy_and_MDD_fif\\h10_ec_cropped_raw.fif...\n",
      "Isotrak not found\n",
      "    Range : 0 ... 96255 =      0.000 ...   375.996 secs\n",
      "Ready.\n",
      "Reading 0 ... 96255  =      0.000 ...   375.996 secs...\n",
      "EEG channel type selected for re-referencing\n",
      "Applying average reference.\n",
      "Applying a custom ('EEG',) reference.\n",
      "Filtering raw data in 1 contiguous segment\n",
      "Setting up band-pass filter from 0.5 - 45 Hz\n",
      "\n",
      "FIR filter parameters\n",
      "---------------------\n",
      "Designing a one-pass, zero-phase, non-causal bandpass filter:\n",
      "- Windowed time-domain design (firwin) method\n",
      "- Hamming window with 0.0194 passband ripple and 53 dB stopband attenuation\n",
      "- Lower passband edge: 0.50\n",
      "- Lower transition bandwidth: 0.50 Hz (-6 dB cutoff frequency: 0.25 Hz)\n",
      "- Upper passband edge: 45.00 Hz\n",
      "- Upper transition bandwidth: 11.25 Hz (-6 dB cutoff frequency: 50.62 Hz)\n",
      "- Filter length: 1691 samples (6.605 sec)\n",
      "\n",
      "Not setting metadata\n",
      "93 matching events found\n",
      "No baseline correction applied\n",
      "0 projection items activated\n",
      "Using data from preloaded Raw for 93 events and 1280 original time points ...\n",
      "0 bad epochs dropped\n"
     ]
    }
   ],
   "source": [
    "sample_data = read_data(healthy_file_path[0])"
   ]
  },
  {
   "cell_type": "code",
   "execution_count": 23,
   "metadata": {
    "colab": {
     "base_uri": "https://localhost:8080/"
    },
    "id": "LETNmhOzU6oZ",
    "outputId": "952e157c-620b-4a9e-ff01-6db458dfd140"
   },
   "outputs": [
    {
     "data": {
      "text/plain": [
       "(93, 20, 1280)"
      ]
     },
     "execution_count": 23,
     "metadata": {},
     "output_type": "execute_result"
    }
   ],
   "source": [
    "sample_data.shape # no. of epochs, channels, length of signals "
   ]
  },
  {
   "cell_type": "markdown",
   "metadata": {
    "id": "CBmmYrpEfi6k"
   },
   "source": [
    "# **Reading the File Path and Getting the Data from All File**"
   ]
  },
  {
   "cell_type": "code",
   "execution_count": 24,
   "metadata": {
    "id": "ETpdug2TU_j_"
   },
   "outputs": [],
   "source": [
    "%%capture\n",
    "control_epochs_array = [read_data(i) for i in healthy_file_path]\n",
    "patient_epochs_array = [read_data(i) for i in patient_file_path]"
   ]
  },
  {
   "cell_type": "code",
   "execution_count": 25,
   "metadata": {
    "colab": {
     "base_uri": "https://localhost:8080/"
    },
    "id": "YoSdotYhVDy8",
    "outputId": "2cd30b72-7336-4436-e358-dee84654c722"
   },
   "outputs": [
    {
     "data": {
      "text/plain": [
       "((93, 20, 1280),\n",
       " (74, 20, 1280),\n",
       " (74, 20, 1280),\n",
       " (75, 20, 1280),\n",
       " (74, 20, 1280))"
      ]
     },
     "execution_count": 25,
     "metadata": {},
     "output_type": "execute_result"
    }
   ],
   "source": [
    "control_epochs_array[0].shape, control_epochs_array[1].shape, control_epochs_array[2].shape, control_epochs_array[3].shape, control_epochs_array[4].shape#, control_epochs_array[5].shape, control_epochs_array[6].shape, control_epochs_array[7].shape, control_epochs_array[8].shape, control_epochs_array[9].shape, control_epochs_array[10].shape, control_epochs_array[11].shape, control_epochs_array[12].shape, control_epochs_array[38].shape, control_epochs_array[14].shape"
   ]
  },
  {
   "cell_type": "code",
   "execution_count": 26,
   "metadata": {
    "colab": {
     "base_uri": "https://localhost:8080/"
    },
    "id": "Xr-zDsKnXD4E",
    "outputId": "8433cf74-b52a-4bdb-a4f6-7b5583636e7c"
   },
   "outputs": [
    {
     "data": {
      "text/plain": [
       "(93, 20, 1280)"
      ]
     },
     "execution_count": 26,
     "metadata": {},
     "output_type": "execute_result"
    }
   ],
   "source": [
    "control_epochs_array[0].shape"
   ]
  },
  {
   "cell_type": "code",
   "execution_count": 27,
   "metadata": {
    "colab": {
     "base_uri": "https://localhost:8080/"
    },
    "id": "y5FBOwgtVOxE",
    "outputId": "dd08305e-5035-43ce-f366-0c8bd3aa2eed"
   },
   "outputs": [
    {
     "data": {
      "text/plain": [
       "((75, 20, 1280), (74, 20, 1280), (74, 20, 1280), (74, 20, 1280))"
      ]
     },
     "execution_count": 27,
     "metadata": {},
     "output_type": "execute_result"
    }
   ],
   "source": [
    "patient_epochs_array[0].shape, patient_epochs_array[1].shape, patient_epochs_array[2].shape, patient_epochs_array[3].shape#, control_epochs_array[4].shape#, control_epochs_array[5].shape#, control_epochs_array[6].shape#, control_epochs_array[7].shape,  "
   ]
  },
  {
   "cell_type": "markdown",
   "metadata": {
    "id": "Qd34s4n5faMg"
   },
   "source": [
    "# **Creating the Labels**"
   ]
  },
  {
   "cell_type": "code",
   "execution_count": 28,
   "metadata": {
    "colab": {
     "base_uri": "https://localhost:8080/"
    },
    "id": "DQOinvScVV4-",
    "outputId": "0acd65e9-ead7-442a-ff76-52aea19896ed"
   },
   "outputs": [
    {
     "data": {
      "text/plain": [
       "(28, 30)"
      ]
     },
     "execution_count": 28,
     "metadata": {},
     "output_type": "execute_result"
    }
   ],
   "source": [
    "control_epochs_labels = [len(i)*[0] for i in control_epochs_array]\n",
    "patient_epochs_labels = [len(i)*[1] for i in patient_epochs_array]\n",
    "len(control_epochs_labels), len(patient_epochs_labels)"
   ]
  },
  {
   "cell_type": "markdown",
   "metadata": {
    "id": "y2hDs1fvfUJ9"
   },
   "source": [
    "# **Combining Both the Healthy and MDD Files**"
   ]
  },
  {
   "cell_type": "code",
   "execution_count": 29,
   "metadata": {
    "id": "cj3_OnaCVaEz"
   },
   "outputs": [],
   "source": [
    "data_list = control_epochs_array + patient_epochs_array\n",
    "label_list = control_epochs_labels + patient_epochs_labels"
   ]
  },
  {
   "cell_type": "markdown",
   "metadata": {
    "id": "sG4XUzohfRDw"
   },
   "source": [
    "# **Spletting the Dataset in the Basis of Epochs**"
   ]
  },
  {
   "cell_type": "code",
   "execution_count": 30,
   "metadata": {
    "colab": {
     "base_uri": "https://localhost:8080/"
    },
    "id": "RNWrq7idVde1",
    "outputId": "2305c88d-ee3e-4298-8650-c5146923b5a4"
   },
   "outputs": [
    {
     "name": "stdout",
     "output_type": "stream",
     "text": [
      "58 58\n"
     ]
    }
   ],
   "source": [
    "epochs_array=control_epochs_array+patient_epochs_array\n",
    "epochs_labels=control_epochs_labels+patient_epochs_labels\n",
    "print(len(epochs_array),len(epochs_labels))"
   ]
  },
  {
   "cell_type": "markdown",
   "metadata": {
    "id": "jz2YIU4ofJho"
   },
   "source": [
    "# **Creating Groups**"
   ]
  },
  {
   "cell_type": "code",
   "execution_count": 31,
   "metadata": {
    "colab": {
     "base_uri": "https://localhost:8080/"
    },
    "id": "BeyYu8rxVgbV",
    "outputId": "25c8427b-aff2-4aba-83ef-89dbed0a8013"
   },
   "outputs": [
    {
     "data": {
      "text/plain": [
       "58"
      ]
     },
     "execution_count": 31,
     "metadata": {},
     "output_type": "execute_result"
    }
   ],
   "source": [
    "groups = [[i]*len(j) for i,j in enumerate(data_list)]\n",
    "len(groups)"
   ]
  },
  {
   "cell_type": "markdown",
   "metadata": {
    "id": "cwgnYMHafGJb"
   },
   "source": [
    "# **Converting the Data from List to array**"
   ]
  },
  {
   "cell_type": "code",
   "execution_count": 32,
   "metadata": {
    "colab": {
     "base_uri": "https://localhost:8080/"
    },
    "id": "AI1kM-3HVj-u",
    "outputId": "c62cf2a5-c4a4-4f5e-8650-c6e8f7d8cd54"
   },
   "outputs": [
    {
     "name": "stdout",
     "output_type": "stream",
     "text": [
      "(4308, 20, 1280) (4308,) (4308,)\n"
     ]
    }
   ],
   "source": [
    "data_array = np.vstack(data_list)\n",
    "label_array = np.hstack(label_list)\n",
    "groups_array = np.hstack(groups)\n",
    "print(data_array.shape, label_array.shape, groups_array.shape)"
   ]
  },
  {
   "cell_type": "code",
   "execution_count": 33,
   "metadata": {
    "id": "jkjHWQh5e9ib"
   },
   "outputs": [],
   "source": [
    "epochs_array=np.vstack(epochs_array)\n",
    "epochs_labels=np.hstack(epochs_labels)\n",
    "groups_array=np.hstack(groups)"
   ]
  },
  {
   "cell_type": "code",
   "execution_count": 34,
   "metadata": {
    "colab": {
     "base_uri": "https://localhost:8080/"
    },
    "id": "yykC0reajuqc",
    "outputId": "969748c9-acb8-4f03-845d-c70ea441f62a"
   },
   "outputs": [
    {
     "data": {
      "text/plain": [
       "((4308, 20, 1280), (4308,), (4308,))"
      ]
     },
     "execution_count": 34,
     "metadata": {},
     "output_type": "execute_result"
    }
   ],
   "source": [
    "epochs_array.shape,epochs_labels.shape,groups_array.shape"
   ]
  },
  {
   "cell_type": "markdown",
   "metadata": {
    "id": "8XawZ5ELexuz"
   },
   "source": [
    "# **Moving the Channel to the End**"
   ]
  },
  {
   "cell_type": "code",
   "execution_count": 35,
   "metadata": {
    "colab": {
     "base_uri": "https://localhost:8080/"
    },
    "id": "9tfetxojj1Ko",
    "outputId": "ea7b58c0-ddb0-44cc-d028-98d0285fb71a"
   },
   "outputs": [
    {
     "data": {
      "text/plain": [
       "(4308, 1280, 20)"
      ]
     },
     "execution_count": 35,
     "metadata": {},
     "output_type": "execute_result"
    }
   ],
   "source": [
    "epochs_array=np.moveaxis(epochs_array,1,2)\n",
    "epochs_array.shape"
   ]
  },
  {
   "cell_type": "code",
   "execution_count": 36,
   "metadata": {},
   "outputs": [],
   "source": [
    "from scipy import stats\n",
    "\n",
    "def mean(x):\n",
    "    return np.mean(x,axis=-1)\n",
    "def std(x):  \n",
    "    return np.std(x,axis=-1)\n",
    "def ptp(x):\n",
    "    return np.ptp(x,axis=-1)\n",
    "def var(x):\n",
    "    return np.var(x,axis=-1)\n",
    "def minim(x):\n",
    "    return np.min(x,axis=-1)\n",
    "def maxim(x):\n",
    "    return np.max(x,axis=-1)\n",
    "def argminim(x):\n",
    "    return np.argmin(x,axis=-1) \n",
    "def argmaxim(x):\n",
    "    return np.argmax(x,axis=-1)   \n",
    "                   \n",
    "def abs_diff_signals(x):\n",
    "    return np.sum(np.abs(np.diff(x,axis=-1)),axis=-1)\n",
    "def skewness(x):\n",
    "    return stats.skew(x,axis=-1)\n",
    "def kurtosis(x):\n",
    "    return stats.kurtosis(x,axis=-1)\n",
    "#def rms(x):\n",
    "#    return np.sqrt(np.mean(x**2,axis=-1)\n",
    "def concatenate_features(x):\n",
    "    return np.concatenate((mean(x),std(x),ptp(x),var(x),minim(x),maxim(x),argminim(x),argmaxim(x),abs_diff_signals(x),\\\n",
    "                           skewness(x),kurtosis(x)),axis=-1) "
   ]
  },
  {
   "cell_type": "code",
   "execution_count": 37,
   "metadata": {},
   "outputs": [],
   "source": [
    "features=[]\n",
    "for d in data_array:\n",
    "    features.append(concatenate_features(d))"
   ]
  },
  {
   "cell_type": "code",
   "execution_count": 38,
   "metadata": {},
   "outputs": [
    {
     "data": {
      "text/plain": [
       "(4308, 220)"
      ]
     },
     "execution_count": 38,
     "metadata": {},
     "output_type": "execute_result"
    }
   ],
   "source": [
    "features_array=np.array(features)\n",
    "features_array.shape"
   ]
  },
  {
   "cell_type": "markdown",
   "metadata": {
    "id": "YZ2XI-LwesZh"
   },
   "source": [
    "# **Creating CNN Model**"
   ]
  },
  {
   "cell_type": "code",
   "execution_count": 39,
   "metadata": {
    "colab": {
     "base_uri": "https://localhost:8080/"
    },
    "id": "teDifyCnj4XU",
    "outputId": "35d123c5-e3ce-4d54-c747-e400ccd0268f"
   },
   "outputs": [
    {
     "name": "stdout",
     "output_type": "stream",
     "text": [
      "Model: \"sequential\"\n",
      "_________________________________________________________________\n",
      " Layer (type)                Output Shape              Param #   \n",
      "=================================================================\n",
      " conv1d (Conv1D)             (None, 1278, 5)           305       \n",
      "                                                                 \n",
      " batch_normalization (BatchN  (None, 1278, 5)          20        \n",
      " ormalization)                                                   \n",
      "                                                                 \n",
      " leaky_re_lu (LeakyReLU)     (None, 1278, 5)           0         \n",
      "                                                                 \n",
      " max_pooling1d (MaxPooling1D  (None, 639, 5)           0         \n",
      " )                                                               \n",
      "                                                                 \n",
      " conv1d_1 (Conv1D)           (None, 637, 5)            80        \n",
      "                                                                 \n",
      " leaky_re_lu_1 (LeakyReLU)   (None, 637, 5)            0         \n",
      "                                                                 \n",
      " max_pooling1d_1 (MaxPooling  (None, 318, 5)           0         \n",
      " 1D)                                                             \n",
      "                                                                 \n",
      " dropout (Dropout)           (None, 318, 5)            0         \n",
      "                                                                 \n",
      " conv1d_2 (Conv1D)           (None, 316, 5)            80        \n",
      "                                                                 \n",
      " leaky_re_lu_2 (LeakyReLU)   (None, 316, 5)            0         \n",
      "                                                                 \n",
      " average_pooling1d (AverageP  (None, 158, 5)           0         \n",
      " ooling1D)                                                       \n",
      "                                                                 \n",
      " dropout_1 (Dropout)         (None, 158, 5)            0         \n",
      "                                                                 \n",
      " conv1d_3 (Conv1D)           (None, 156, 5)            80        \n",
      "                                                                 \n",
      " leaky_re_lu_3 (LeakyReLU)   (None, 156, 5)            0         \n",
      "                                                                 \n",
      " average_pooling1d_1 (Averag  (None, 78, 5)            0         \n",
      " ePooling1D)                                                     \n",
      "                                                                 \n",
      " conv1d_4 (Conv1D)           (None, 76, 5)             80        \n",
      "                                                                 \n",
      " leaky_re_lu_4 (LeakyReLU)   (None, 76, 5)             0         \n",
      "                                                                 \n",
      " global_average_pooling1d (G  (None, 5)                0         \n",
      " lobalAveragePooling1D)                                          \n",
      "                                                                 \n",
      " dense (Dense)               (None, 1)                 6         \n",
      "                                                                 \n",
      "=================================================================\n",
      "Total params: 651\n",
      "Trainable params: 641\n",
      "Non-trainable params: 10\n",
      "_________________________________________________________________\n"
     ]
    }
   ],
   "source": [
    "from tensorflow.keras.layers import Conv1D,BatchNormalization,LeakyReLU,MaxPool1D,\\\n",
    "GlobalAveragePooling1D,Dense,Dropout,AveragePooling1D\n",
    "from tensorflow.keras.models import Sequential\n",
    "from tensorflow.keras.backend import clear_session\n",
    "def cnnmodel():\n",
    "    clear_session()\n",
    "    model=Sequential()\n",
    "    model.add(Conv1D(filters=5,kernel_size=3,strides=1,input_shape=(1280,20)))#1\n",
    "    model.add(BatchNormalization())\n",
    "    model.add(LeakyReLU())\n",
    "    model.add(MaxPool1D(pool_size=2,strides=2))#2\n",
    "    model.add(Conv1D(filters=5,kernel_size=3,strides=1))#3\n",
    "    model.add(LeakyReLU())\n",
    "    model.add(MaxPool1D(pool_size=2,strides=2))#4\n",
    "    model.add(Dropout(0.5))\n",
    "    model.add(Conv1D(filters=5,kernel_size=3,strides=1))#5\n",
    "    model.add(LeakyReLU())\n",
    "    model.add(AveragePooling1D(pool_size=2,strides=2))#6\n",
    "    model.add(Dropout(0.5))\n",
    "    model.add(Conv1D(filters=5,kernel_size=3,strides=1))#7\n",
    "    model.add(LeakyReLU())\n",
    "    model.add(AveragePooling1D(pool_size=2,strides=2))#8\n",
    "    model.add(Conv1D(filters=5,kernel_size=3,strides=1))#9\n",
    "    model.add(LeakyReLU())\n",
    "    model.add(GlobalAveragePooling1D())#10\n",
    "    model.add(Dense(1,activation='sigmoid'))#11\n",
    "    \n",
    "    model.compile('adam',loss='binary_crossentropy',metrics=['accuracy'])\n",
    "    return model\n",
    "\n",
    "model=cnnmodel()\n",
    "model.summary()"
   ]
  },
  {
   "cell_type": "code",
   "execution_count": 40,
   "metadata": {},
   "outputs": [],
   "source": [
    "from tensorflow.keras.layers import Conv1D\n",
    "from sklearn.pipeline import Pipeline\n",
    "from sklearn.model_selection import train_test_split\n",
    "from sklearn.metrics import accuracy_score\n",
    "from sklearn.metrics import confusion_matrix\n",
    "from sklearn import metrics\n",
    "from sklearn.preprocessing import StandardScaler"
   ]
  },
  {
   "cell_type": "code",
   "execution_count": 41,
   "metadata": {},
   "outputs": [],
   "source": [
    "Xtrain, Xtest, ytrain, ytest = train_test_split(epochs_array,label_array,test_size=0.20, shuffle=True)"
   ]
  },
  {
   "cell_type": "code",
   "execution_count": 42,
   "metadata": {},
   "outputs": [
    {
     "ename": "ValueError",
     "evalue": "Found array with dim 3. StandardScaler expected <= 2.",
     "output_type": "error",
     "traceback": [
      "\u001b[1;31m---------------------------------------------------------------------------\u001b[0m",
      "\u001b[1;31mValueError\u001b[0m                                Traceback (most recent call last)",
      "\u001b[1;32m~\\AppData\\Local\\Temp/ipykernel_8340/2678627902.py\u001b[0m in \u001b[0;36m<module>\u001b[1;34m\u001b[0m\n\u001b[0;32m      2\u001b[0m \u001b[0msc_x\u001b[0m \u001b[1;33m=\u001b[0m \u001b[0mStandardScaler\u001b[0m\u001b[1;33m(\u001b[0m\u001b[1;33m)\u001b[0m\u001b[1;33m\u001b[0m\u001b[1;33m\u001b[0m\u001b[0m\n\u001b[0;32m      3\u001b[0m \u001b[1;31m#fiting the train data for the transformation for model\u001b[0m\u001b[1;33m\u001b[0m\u001b[1;33m\u001b[0m\u001b[0m\n\u001b[1;32m----> 4\u001b[1;33m \u001b[0mxtrain\u001b[0m \u001b[1;33m=\u001b[0m \u001b[0msc_x\u001b[0m\u001b[1;33m.\u001b[0m\u001b[0mfit_transform\u001b[0m\u001b[1;33m(\u001b[0m\u001b[0mXtrain\u001b[0m\u001b[1;33m)\u001b[0m\u001b[1;33m\u001b[0m\u001b[1;33m\u001b[0m\u001b[0m\n\u001b[0m\u001b[0;32m      5\u001b[0m \u001b[1;31m#fiting the test data for the transformation for model\u001b[0m\u001b[1;33m\u001b[0m\u001b[1;33m\u001b[0m\u001b[0m\n\u001b[0;32m      6\u001b[0m \u001b[0mxtest\u001b[0m \u001b[1;33m=\u001b[0m \u001b[0msc_x\u001b[0m\u001b[1;33m.\u001b[0m\u001b[0mtransform\u001b[0m\u001b[1;33m(\u001b[0m\u001b[0mXtest\u001b[0m\u001b[1;33m)\u001b[0m\u001b[1;33m\u001b[0m\u001b[1;33m\u001b[0m\u001b[0m\n",
      "\u001b[1;32m~\\anaconda3\\lib\\site-packages\\sklearn\\base.py\u001b[0m in \u001b[0;36mfit_transform\u001b[1;34m(self, X, y, **fit_params)\u001b[0m\n\u001b[0;32m    697\u001b[0m         \u001b[1;32mif\u001b[0m \u001b[0my\u001b[0m \u001b[1;32mis\u001b[0m \u001b[1;32mNone\u001b[0m\u001b[1;33m:\u001b[0m\u001b[1;33m\u001b[0m\u001b[1;33m\u001b[0m\u001b[0m\n\u001b[0;32m    698\u001b[0m             \u001b[1;31m# fit method of arity 1 (unsupervised transformation)\u001b[0m\u001b[1;33m\u001b[0m\u001b[1;33m\u001b[0m\u001b[0m\n\u001b[1;32m--> 699\u001b[1;33m             \u001b[1;32mreturn\u001b[0m \u001b[0mself\u001b[0m\u001b[1;33m.\u001b[0m\u001b[0mfit\u001b[0m\u001b[1;33m(\u001b[0m\u001b[0mX\u001b[0m\u001b[1;33m,\u001b[0m \u001b[1;33m**\u001b[0m\u001b[0mfit_params\u001b[0m\u001b[1;33m)\u001b[0m\u001b[1;33m.\u001b[0m\u001b[0mtransform\u001b[0m\u001b[1;33m(\u001b[0m\u001b[0mX\u001b[0m\u001b[1;33m)\u001b[0m\u001b[1;33m\u001b[0m\u001b[1;33m\u001b[0m\u001b[0m\n\u001b[0m\u001b[0;32m    700\u001b[0m         \u001b[1;32melse\u001b[0m\u001b[1;33m:\u001b[0m\u001b[1;33m\u001b[0m\u001b[1;33m\u001b[0m\u001b[0m\n\u001b[0;32m    701\u001b[0m             \u001b[1;31m# fit method of arity 2 (supervised transformation)\u001b[0m\u001b[1;33m\u001b[0m\u001b[1;33m\u001b[0m\u001b[0m\n",
      "\u001b[1;32m~\\anaconda3\\lib\\site-packages\\sklearn\\preprocessing\\_data.py\u001b[0m in \u001b[0;36mfit\u001b[1;34m(self, X, y, sample_weight)\u001b[0m\n\u001b[0;32m    728\u001b[0m         \u001b[1;31m# Reset internal state before fitting\u001b[0m\u001b[1;33m\u001b[0m\u001b[1;33m\u001b[0m\u001b[0m\n\u001b[0;32m    729\u001b[0m         \u001b[0mself\u001b[0m\u001b[1;33m.\u001b[0m\u001b[0m_reset\u001b[0m\u001b[1;33m(\u001b[0m\u001b[1;33m)\u001b[0m\u001b[1;33m\u001b[0m\u001b[1;33m\u001b[0m\u001b[0m\n\u001b[1;32m--> 730\u001b[1;33m         \u001b[1;32mreturn\u001b[0m \u001b[0mself\u001b[0m\u001b[1;33m.\u001b[0m\u001b[0mpartial_fit\u001b[0m\u001b[1;33m(\u001b[0m\u001b[0mX\u001b[0m\u001b[1;33m,\u001b[0m \u001b[0my\u001b[0m\u001b[1;33m,\u001b[0m \u001b[0msample_weight\u001b[0m\u001b[1;33m)\u001b[0m\u001b[1;33m\u001b[0m\u001b[1;33m\u001b[0m\u001b[0m\n\u001b[0m\u001b[0;32m    731\u001b[0m \u001b[1;33m\u001b[0m\u001b[0m\n\u001b[0;32m    732\u001b[0m     \u001b[1;32mdef\u001b[0m \u001b[0mpartial_fit\u001b[0m\u001b[1;33m(\u001b[0m\u001b[0mself\u001b[0m\u001b[1;33m,\u001b[0m \u001b[0mX\u001b[0m\u001b[1;33m,\u001b[0m \u001b[0my\u001b[0m\u001b[1;33m=\u001b[0m\u001b[1;32mNone\u001b[0m\u001b[1;33m,\u001b[0m \u001b[0msample_weight\u001b[0m\u001b[1;33m=\u001b[0m\u001b[1;32mNone\u001b[0m\u001b[1;33m)\u001b[0m\u001b[1;33m:\u001b[0m\u001b[1;33m\u001b[0m\u001b[1;33m\u001b[0m\u001b[0m\n",
      "\u001b[1;32m~\\anaconda3\\lib\\site-packages\\sklearn\\preprocessing\\_data.py\u001b[0m in \u001b[0;36mpartial_fit\u001b[1;34m(self, X, y, sample_weight)\u001b[0m\n\u001b[0;32m    764\u001b[0m         \"\"\"\n\u001b[0;32m    765\u001b[0m         \u001b[0mfirst_call\u001b[0m \u001b[1;33m=\u001b[0m \u001b[1;32mnot\u001b[0m \u001b[0mhasattr\u001b[0m\u001b[1;33m(\u001b[0m\u001b[0mself\u001b[0m\u001b[1;33m,\u001b[0m \u001b[1;34m\"n_samples_seen_\"\u001b[0m\u001b[1;33m)\u001b[0m\u001b[1;33m\u001b[0m\u001b[1;33m\u001b[0m\u001b[0m\n\u001b[1;32m--> 766\u001b[1;33m         X = self._validate_data(X, accept_sparse=('csr', 'csc'),\n\u001b[0m\u001b[0;32m    767\u001b[0m                                 \u001b[0mestimator\u001b[0m\u001b[1;33m=\u001b[0m\u001b[0mself\u001b[0m\u001b[1;33m,\u001b[0m \u001b[0mdtype\u001b[0m\u001b[1;33m=\u001b[0m\u001b[0mFLOAT_DTYPES\u001b[0m\u001b[1;33m,\u001b[0m\u001b[1;33m\u001b[0m\u001b[1;33m\u001b[0m\u001b[0m\n\u001b[0;32m    768\u001b[0m                                 force_all_finite='allow-nan', reset=first_call)\n",
      "\u001b[1;32m~\\anaconda3\\lib\\site-packages\\sklearn\\base.py\u001b[0m in \u001b[0;36m_validate_data\u001b[1;34m(self, X, y, reset, validate_separately, **check_params)\u001b[0m\n\u001b[0;32m    419\u001b[0m             \u001b[0mout\u001b[0m \u001b[1;33m=\u001b[0m \u001b[0mX\u001b[0m\u001b[1;33m\u001b[0m\u001b[1;33m\u001b[0m\u001b[0m\n\u001b[0;32m    420\u001b[0m         \u001b[1;32melif\u001b[0m \u001b[0misinstance\u001b[0m\u001b[1;33m(\u001b[0m\u001b[0my\u001b[0m\u001b[1;33m,\u001b[0m \u001b[0mstr\u001b[0m\u001b[1;33m)\u001b[0m \u001b[1;32mand\u001b[0m \u001b[0my\u001b[0m \u001b[1;33m==\u001b[0m \u001b[1;34m'no_validation'\u001b[0m\u001b[1;33m:\u001b[0m\u001b[1;33m\u001b[0m\u001b[1;33m\u001b[0m\u001b[0m\n\u001b[1;32m--> 421\u001b[1;33m             \u001b[0mX\u001b[0m \u001b[1;33m=\u001b[0m \u001b[0mcheck_array\u001b[0m\u001b[1;33m(\u001b[0m\u001b[0mX\u001b[0m\u001b[1;33m,\u001b[0m \u001b[1;33m**\u001b[0m\u001b[0mcheck_params\u001b[0m\u001b[1;33m)\u001b[0m\u001b[1;33m\u001b[0m\u001b[1;33m\u001b[0m\u001b[0m\n\u001b[0m\u001b[0;32m    422\u001b[0m             \u001b[0mout\u001b[0m \u001b[1;33m=\u001b[0m \u001b[0mX\u001b[0m\u001b[1;33m\u001b[0m\u001b[1;33m\u001b[0m\u001b[0m\n\u001b[0;32m    423\u001b[0m         \u001b[1;32melse\u001b[0m\u001b[1;33m:\u001b[0m\u001b[1;33m\u001b[0m\u001b[1;33m\u001b[0m\u001b[0m\n",
      "\u001b[1;32m~\\anaconda3\\lib\\site-packages\\sklearn\\utils\\validation.py\u001b[0m in \u001b[0;36minner_f\u001b[1;34m(*args, **kwargs)\u001b[0m\n\u001b[0;32m     61\u001b[0m             \u001b[0mextra_args\u001b[0m \u001b[1;33m=\u001b[0m \u001b[0mlen\u001b[0m\u001b[1;33m(\u001b[0m\u001b[0margs\u001b[0m\u001b[1;33m)\u001b[0m \u001b[1;33m-\u001b[0m \u001b[0mlen\u001b[0m\u001b[1;33m(\u001b[0m\u001b[0mall_args\u001b[0m\u001b[1;33m)\u001b[0m\u001b[1;33m\u001b[0m\u001b[1;33m\u001b[0m\u001b[0m\n\u001b[0;32m     62\u001b[0m             \u001b[1;32mif\u001b[0m \u001b[0mextra_args\u001b[0m \u001b[1;33m<=\u001b[0m \u001b[1;36m0\u001b[0m\u001b[1;33m:\u001b[0m\u001b[1;33m\u001b[0m\u001b[1;33m\u001b[0m\u001b[0m\n\u001b[1;32m---> 63\u001b[1;33m                 \u001b[1;32mreturn\u001b[0m \u001b[0mf\u001b[0m\u001b[1;33m(\u001b[0m\u001b[1;33m*\u001b[0m\u001b[0margs\u001b[0m\u001b[1;33m,\u001b[0m \u001b[1;33m**\u001b[0m\u001b[0mkwargs\u001b[0m\u001b[1;33m)\u001b[0m\u001b[1;33m\u001b[0m\u001b[1;33m\u001b[0m\u001b[0m\n\u001b[0m\u001b[0;32m     64\u001b[0m \u001b[1;33m\u001b[0m\u001b[0m\n\u001b[0;32m     65\u001b[0m             \u001b[1;31m# extra_args > 0\u001b[0m\u001b[1;33m\u001b[0m\u001b[1;33m\u001b[0m\u001b[0m\n",
      "\u001b[1;32m~\\anaconda3\\lib\\site-packages\\sklearn\\utils\\validation.py\u001b[0m in \u001b[0;36mcheck_array\u001b[1;34m(array, accept_sparse, accept_large_sparse, dtype, order, copy, force_all_finite, ensure_2d, allow_nd, ensure_min_samples, ensure_min_features, estimator)\u001b[0m\n\u001b[0;32m    714\u001b[0m                     \"into decimal numbers with dtype='numeric'\") from e\n\u001b[0;32m    715\u001b[0m         \u001b[1;32mif\u001b[0m \u001b[1;32mnot\u001b[0m \u001b[0mallow_nd\u001b[0m \u001b[1;32mand\u001b[0m \u001b[0marray\u001b[0m\u001b[1;33m.\u001b[0m\u001b[0mndim\u001b[0m \u001b[1;33m>=\u001b[0m \u001b[1;36m3\u001b[0m\u001b[1;33m:\u001b[0m\u001b[1;33m\u001b[0m\u001b[1;33m\u001b[0m\u001b[0m\n\u001b[1;32m--> 716\u001b[1;33m             raise ValueError(\"Found array with dim %d. %s expected <= 2.\"\n\u001b[0m\u001b[0;32m    717\u001b[0m                              % (array.ndim, estimator_name))\n\u001b[0;32m    718\u001b[0m \u001b[1;33m\u001b[0m\u001b[0m\n",
      "\u001b[1;31mValueError\u001b[0m: Found array with dim 3. StandardScaler expected <= 2."
     ]
    }
   ],
   "source": [
    "# applying the scaler\n",
    "sc_x = StandardScaler()\n",
    "#fiting the train data for the transformation for model \n",
    "xtrain = sc_x.fit_transform(Xtrain) \n",
    "#fiting the test data for the transformation for model \n",
    "xtest = sc_x.transform(Xtest)"
   ]
  },
  {
   "cell_type": "code",
   "execution_count": null,
   "metadata": {},
   "outputs": [],
   "source": [
    " \n",
    "# applying the classifier\n",
    "classifier = tensorflow.keras.layers.Conv1D()\n",
    "# allpying the model\n",
    "classifier.fit(xtrain, ytrain)\n",
    "# applying the data for the prediction\n",
    "y_pred = classifier.predict(xtest)\n",
    "# cheking the confusion Matrix\n"
   ]
  },
  {
   "cell_type": "code",
   "execution_count": null,
   "metadata": {},
   "outputs": [],
   "source": [
    "cm = confusion_matrix(ytest, y_pred)"
   ]
  },
  {
   "cell_type": "code",
   "execution_count": null,
   "metadata": {},
   "outputs": [],
   "source": [
    "print (\"Confusion Matrix : \\n\", cm)\n",
    "cm[1][1]\n",
    "# cheking the accuracy of model\n",
    "print (\"Accuracy : \", accuracy_score(ytest, y_pred))"
   ]
  },
  {
   "cell_type": "code",
   "execution_count": null,
   "metadata": {},
   "outputs": [],
   "source": [
    "TP = cm[1,1] # true positive \n",
    "TN = cm[0,0] # true negatives\n",
    "FP = cm[0,1] # false positives\n",
    "FN = cm[1,0] # false negatives\n"
   ]
  },
  {
   "cell_type": "code",
   "execution_count": null,
   "metadata": {},
   "outputs": [],
   "source": [
    "# sensitivity \n",
    "sense = TP / (TP+FN)\n",
    "print(\"The sensitivity of model is:\",sense)\n",
    "\n",
    "\n",
    "# specificity  \n",
    "speci = TN / (TN+FP)\n",
    "print(\"The specificity of model is:\",speci)\n"
   ]
  },
  {
   "cell_type": "code",
   "execution_count": null,
   "metadata": {},
   "outputs": [],
   "source": [
    "\n",
    "#ROC\n",
    "\n",
    "# Defining the function to plot the ROC curve\n",
    "def draw_roc( actual, probs ):\n",
    "    fpr, tpr, thresholds = metrics.roc_curve( actual, probs,\n",
    "                                              drop_intermediate = False )\n",
    "    auc_score = metrics.roc_auc_score( actual, probs )\n",
    "    plt.figure(figsize=(5, 5))\n",
    "    plt.plot( fpr, tpr, label='ROC curve (area = %0.2f)' % auc_score )\n",
    "    plt.plot([0, 1], [0, 1], 'k--')\n",
    "    plt.xlim([0.0, 1.0])\n",
    "    plt.ylim([0.0, 1.05])\n",
    "    plt.xlabel('False Positive Rate or [1 - True Negative Rate]')\n",
    "    plt.ylabel('True Positive Rate')\n",
    "    plt.title('Receiver operating characteristic example')\n",
    "    plt.legend(loc=\"lower right\")\n",
    "    plt.show()\n",
    "    return None"
   ]
  },
  {
   "cell_type": "code",
   "execution_count": null,
   "metadata": {},
   "outputs": [],
   "source": [
    "\n",
    "# Calling the function\n",
    "draw_roc(ytest, y_pred)\n",
    "\n",
    "from sklearn.metrics import cohen_kappa_score\n",
    "k = cohen_kappa_score(ytest, y_pred)\n"
   ]
  },
  {
   "cell_type": "code",
   "execution_count": null,
   "metadata": {},
   "outputs": [],
   "source": [
    "\n",
    "print(\"The kappa score is:\",k)\n",
    "end = time.time()\n",
    "print(\"Total time in sec:\",end - start)\n",
    "\n"
   ]
  },
  {
   "cell_type": "code",
   "execution_count": null,
   "metadata": {
    "id": "zEAUXkndj5LS"
   },
   "outputs": [],
   "source": [
    "from sklearn.model_selection import GroupKFold, LeaveOneGroupOut\n",
    "from sklearn.preprocessing import StandardScaler\n",
    "gkf=GroupKFold()"
   ]
  },
  {
   "cell_type": "code",
   "execution_count": null,
   "metadata": {
    "colab": {
     "base_uri": "https://localhost:8080/"
    },
    "id": "idD3tW9cj5Wz",
    "outputId": "0e6a1951-faf2-4df2-f6ad-37ed2178767a"
   },
   "outputs": [],
   "source": [
    "accuracy=[]\n",
    "for train_index,val_index in gkf.split(epochs_array,epochs_labels,groups=groups_array):\n",
    "    train_features,train_labels=epochs_array[train_index],epochs_labels[train_index]\n",
    "    val_features,val_labels=epochs_array[val_index],epochs_labels[val_index]\n",
    "    scalar=StandardScaler()\n",
    "    train_features=scalar.fit_transform(train_features.reshape(-1,train_features.shape[-1])).reshape(train_features.shape)\n",
    "    val_features=scalar.transform(val_features.reshape(-1,val_features.shape[-1])).reshape(val_features.shape)\n",
    "    model=cnnmodel()\n",
    "    model.fit(train_features,train_labels,epochs=10,batch_size=100,validation_data=(val_features,val_labels))\n",
    "    accuracy.append(model.evaluate(val_features,val_labels)[1])"
   ]
  },
  {
   "cell_type": "markdown",
   "metadata": {
    "id": "WksWTfDGemJl"
   },
   "source": [
    "# **Accuracy**"
   ]
  },
  {
   "cell_type": "code",
   "execution_count": null,
   "metadata": {
    "colab": {
     "base_uri": "https://localhost:8080/"
    },
    "id": "WOHoJt5qj5fm",
    "outputId": "1fc9cb8e-739b-4f52-a2e4-4fbbefca83d4"
   },
   "outputs": [],
   "source": [
    "np.mean(accuracy)"
   ]
  },
  {
   "cell_type": "markdown",
   "metadata": {
    "id": "Zcgb9UAxeh6o"
   },
   "source": [
    "# **End of the Time**"
   ]
  },
  {
   "cell_type": "code",
   "execution_count": null,
   "metadata": {
    "colab": {
     "base_uri": "https://localhost:8080/"
    },
    "id": "BJkkBA8Lh9KL",
    "outputId": "e39aa0b6-1df6-440f-9a6b-069ba4968efe"
   },
   "outputs": [],
   "source": [
    "end = time.time()\n",
    "print(\"Total time in sec:\",end - start)"
   ]
  }
 ],
 "metadata": {
  "accelerator": "GPU",
  "colab": {
   "name": "2022-May-28 EC1 EEG Classification(1D CNN).ipynb",
   "provenance": []
  },
  "kernelspec": {
   "display_name": "Python 3 (ipykernel)",
   "language": "python",
   "name": "python3"
  },
  "language_info": {
   "codemirror_mode": {
    "name": "ipython",
    "version": 3
   },
   "file_extension": ".py",
   "mimetype": "text/x-python",
   "name": "python",
   "nbconvert_exporter": "python",
   "pygments_lexer": "ipython3",
   "version": "3.9.7"
  }
 },
 "nbformat": 4,
 "nbformat_minor": 1
}
