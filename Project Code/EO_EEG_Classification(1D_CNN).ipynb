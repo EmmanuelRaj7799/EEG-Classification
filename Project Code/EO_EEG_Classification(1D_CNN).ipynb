{
  "cells": [
    {
      "cell_type": "markdown",
      "source": [
        "# **Installing MNE**"
      ],
      "metadata": {
        "id": "CLVgNK06gTTf"
      }
    },
    {
      "cell_type": "code",
      "source": [
        "! pip install mne"
      ],
      "metadata": {
        "colab": {
          "base_uri": "https://localhost:8080/"
        },
        "id": "RAKsGu2o36V4",
        "outputId": "98d17e2e-000b-455b-a425-fe650fb0c747"
      },
      "execution_count": null,
      "outputs": [
        {
          "output_type": "stream",
          "name": "stdout",
          "text": [
            "Looking in indexes: https://pypi.org/simple, https://us-python.pkg.dev/colab-wheels/public/simple/\n",
            "Requirement already satisfied: mne in /usr/local/lib/python3.7/dist-packages (1.0.3)\n",
            "Requirement already satisfied: jinja2 in /usr/local/lib/python3.7/dist-packages (from mne) (2.11.3)\n",
            "Requirement already satisfied: decorator in /usr/local/lib/python3.7/dist-packages (from mne) (4.4.2)\n",
            "Requirement already satisfied: scipy>=1.1.0 in /usr/local/lib/python3.7/dist-packages (from mne) (1.4.1)\n",
            "Requirement already satisfied: pooch>=1.5 in /usr/local/lib/python3.7/dist-packages (from mne) (1.6.0)\n",
            "Requirement already satisfied: matplotlib in /usr/local/lib/python3.7/dist-packages (from mne) (3.2.2)\n",
            "Requirement already satisfied: packaging in /usr/local/lib/python3.7/dist-packages (from mne) (21.3)\n",
            "Requirement already satisfied: numpy>=1.15.4 in /usr/local/lib/python3.7/dist-packages (from mne) (1.21.6)\n",
            "Requirement already satisfied: tqdm in /usr/local/lib/python3.7/dist-packages (from mne) (4.64.0)\n",
            "Requirement already satisfied: appdirs>=1.3.0 in /usr/local/lib/python3.7/dist-packages (from pooch>=1.5->mne) (1.4.4)\n",
            "Requirement already satisfied: requests>=2.19.0 in /usr/local/lib/python3.7/dist-packages (from pooch>=1.5->mne) (2.23.0)\n",
            "Requirement already satisfied: pyparsing!=3.0.5,>=2.0.2 in /usr/local/lib/python3.7/dist-packages (from packaging->mne) (3.0.9)\n",
            "Requirement already satisfied: chardet<4,>=3.0.2 in /usr/local/lib/python3.7/dist-packages (from requests>=2.19.0->pooch>=1.5->mne) (3.0.4)\n",
            "Requirement already satisfied: urllib3!=1.25.0,!=1.25.1,<1.26,>=1.21.1 in /usr/local/lib/python3.7/dist-packages (from requests>=2.19.0->pooch>=1.5->mne) (1.24.3)\n",
            "Requirement already satisfied: certifi>=2017.4.17 in /usr/local/lib/python3.7/dist-packages (from requests>=2.19.0->pooch>=1.5->mne) (2022.6.15)\n",
            "Requirement already satisfied: idna<3,>=2.5 in /usr/local/lib/python3.7/dist-packages (from requests>=2.19.0->pooch>=1.5->mne) (2.10)\n",
            "Requirement already satisfied: MarkupSafe>=0.23 in /usr/local/lib/python3.7/dist-packages (from jinja2->mne) (2.0.1)\n",
            "Requirement already satisfied: cycler>=0.10 in /usr/local/lib/python3.7/dist-packages (from matplotlib->mne) (0.11.0)\n",
            "Requirement already satisfied: kiwisolver>=1.0.1 in /usr/local/lib/python3.7/dist-packages (from matplotlib->mne) (1.4.3)\n",
            "Requirement already satisfied: python-dateutil>=2.1 in /usr/local/lib/python3.7/dist-packages (from matplotlib->mne) (2.8.2)\n",
            "Requirement already satisfied: typing-extensions in /usr/local/lib/python3.7/dist-packages (from kiwisolver>=1.0.1->matplotlib->mne) (4.1.1)\n",
            "Requirement already satisfied: six>=1.5 in /usr/local/lib/python3.7/dist-packages (from python-dateutil>=2.1->matplotlib->mne) (1.15.0)\n"
          ]
        }
      ]
    },
    {
      "cell_type": "markdown",
      "source": [
        "# **Starting of the Time**"
      ],
      "metadata": {
        "id": "GerAeyKSgM2V"
      }
    },
    {
      "cell_type": "code",
      "source": [
        "import time\n",
        "start = time.time()"
      ],
      "metadata": {
        "id": "E2A4jTRSvw2t"
      },
      "execution_count": null,
      "outputs": []
    },
    {
      "cell_type": "markdown",
      "source": [
        "# **Connecting Colab to Drive**"
      ],
      "metadata": {
        "id": "JKD3wvRigGra"
      }
    },
    {
      "cell_type": "code",
      "source": [
        "from google.colab import drive\n",
        "drive.mount('/content/drive')"
      ],
      "metadata": {
        "colab": {
          "base_uri": "https://localhost:8080/"
        },
        "id": "lGmf9vmyTRWi",
        "outputId": "4a56cdb4-ce7e-4486-82fd-d58f346db96e"
      },
      "execution_count": null,
      "outputs": [
        {
          "output_type": "stream",
          "name": "stdout",
          "text": [
            "Drive already mounted at /content/drive; to attempt to forcibly remount, call drive.mount(\"/content/drive\", force_remount=True).\n"
          ]
        }
      ]
    },
    {
      "cell_type": "markdown",
      "source": [
        "# **Importint the Necessary Libraries**"
      ],
      "metadata": {
        "id": "FFOSTjWkf_L6"
      }
    },
    {
      "cell_type": "code",
      "source": [
        "from glob import glob # it Is help us to read all files in the Folder \n",
        "import os\n",
        "import mne # It is a Package which is Used to Analysis the EEG Dataset\n",
        "from numpy import array\n",
        "import numpy as np\n",
        "import pandas as pd\n",
        "import matplotlib.pyplot as plt"
      ],
      "metadata": {
        "id": "vnci5qXPTr8O"
      },
      "execution_count": null,
      "outputs": []
    },
    {
      "cell_type": "markdown",
      "source": [
        "# **Importing the Dataset**"
      ],
      "metadata": {
        "id": "igHCjfqSf53z"
      }
    },
    {
      "cell_type": "code",
      "source": [
        "all_file_path = glob('/content/drive/MyDrive/2022-04-26_project_emmanuel/EO_Healthy_and_MDD_fif/*.fif')\n",
        "print(len(all_file_path))"
      ],
      "metadata": {
        "colab": {
          "base_uri": "https://localhost:8080/"
        },
        "id": "PzaA5JqdT1Ux",
        "outputId": "fc7ccf5c-0bd6-4b1e-fb01-ef2c580d930b"
      },
      "execution_count": null,
      "outputs": [
        {
          "output_type": "stream",
          "name": "stdout",
          "text": [
            "61\n"
          ]
        }
      ]
    },
    {
      "cell_type": "code",
      "source": [
        "all_file_path"
      ],
      "metadata": {
        "colab": {
          "base_uri": "https://localhost:8080/"
        },
        "id": "5jplMMDOUEX1",
        "outputId": "5011346c-07ed-406c-d9c2-754c711e0362"
      },
      "execution_count": null,
      "outputs": [
        {
          "output_type": "execute_result",
          "data": {
            "text/plain": [
              "['/content/drive/MyDrive/2022-04-26_project_emmanuel/EO_Healthy_and_MDD_fif/h15a_eo_cropped_raw.fif',\n",
              " '/content/drive/MyDrive/2022-04-26_project_emmanuel/EO_Healthy_and_MDD_fif/h15b_eo_cropped_raw.fif',\n",
              " '/content/drive/MyDrive/2022-04-26_project_emmanuel/EO_Healthy_and_MDD_fif/h1_eo_cropped_raw.fif',\n",
              " '/content/drive/MyDrive/2022-04-26_project_emmanuel/EO_Healthy_and_MDD_fif/h10_eo_cropped_raw.fif',\n",
              " '/content/drive/MyDrive/2022-04-26_project_emmanuel/EO_Healthy_and_MDD_fif/h11_eo_cropped_raw.fif',\n",
              " '/content/drive/MyDrive/2022-04-26_project_emmanuel/EO_Healthy_and_MDD_fif/h12_eo_cropped_raw.fif',\n",
              " '/content/drive/MyDrive/2022-04-26_project_emmanuel/EO_Healthy_and_MDD_fif/h13_eo_cropped_raw.fif',\n",
              " '/content/drive/MyDrive/2022-04-26_project_emmanuel/EO_Healthy_and_MDD_fif/h14_eo_cropped_raw.fif',\n",
              " '/content/drive/MyDrive/2022-04-26_project_emmanuel/EO_Healthy_and_MDD_fif/h16_eo_cropped_raw.fif',\n",
              " '/content/drive/MyDrive/2022-04-26_project_emmanuel/EO_Healthy_and_MDD_fif/h17_eo_cropped_raw.fif',\n",
              " '/content/drive/MyDrive/2022-04-26_project_emmanuel/EO_Healthy_and_MDD_fif/h18_eo_cropped_raw.fif',\n",
              " '/content/drive/MyDrive/2022-04-26_project_emmanuel/EO_Healthy_and_MDD_fif/h19_eo_cropped_raw.fif',\n",
              " '/content/drive/MyDrive/2022-04-26_project_emmanuel/EO_Healthy_and_MDD_fif/h2_eo_cropped_raw.fif',\n",
              " '/content/drive/MyDrive/2022-04-26_project_emmanuel/EO_Healthy_and_MDD_fif/h20_eo_cropped_raw.fif',\n",
              " '/content/drive/MyDrive/2022-04-26_project_emmanuel/EO_Healthy_and_MDD_fif/h21_eo_cropped_raw.fif',\n",
              " '/content/drive/MyDrive/2022-04-26_project_emmanuel/EO_Healthy_and_MDD_fif/h22_eo_cropped_raw.fif',\n",
              " '/content/drive/MyDrive/2022-04-26_project_emmanuel/EO_Healthy_and_MDD_fif/h26_eo_cropped_raw.fif',\n",
              " '/content/drive/MyDrive/2022-04-26_project_emmanuel/EO_Healthy_and_MDD_fif/h27_eo_cropped_raw.fif',\n",
              " '/content/drive/MyDrive/2022-04-26_project_emmanuel/EO_Healthy_and_MDD_fif/h28_eo_cropped_raw.fif',\n",
              " '/content/drive/MyDrive/2022-04-26_project_emmanuel/EO_Healthy_and_MDD_fif/h29_eo_cropped_raw.fif',\n",
              " '/content/drive/MyDrive/2022-04-26_project_emmanuel/EO_Healthy_and_MDD_fif/h230_eo_cropped_raw.fif',\n",
              " '/content/drive/MyDrive/2022-04-26_project_emmanuel/EO_Healthy_and_MDD_fif/h24_eo_cropped_raw.fif',\n",
              " '/content/drive/MyDrive/2022-04-26_project_emmanuel/EO_Healthy_and_MDD_fif/h4_eo_cropped_raw.fif',\n",
              " '/content/drive/MyDrive/2022-04-26_project_emmanuel/EO_Healthy_and_MDD_fif/h5_eo_cropped_raw.fif',\n",
              " '/content/drive/MyDrive/2022-04-26_project_emmanuel/EO_Healthy_and_MDD_fif/h6_eo_cropped_raw.fif',\n",
              " '/content/drive/MyDrive/2022-04-26_project_emmanuel/EO_Healthy_and_MDD_fif/h7_eo_cropped_raw.fif',\n",
              " '/content/drive/MyDrive/2022-04-26_project_emmanuel/EO_Healthy_and_MDD_fif/h8_eo_cropped_raw.fif',\n",
              " '/content/drive/MyDrive/2022-04-26_project_emmanuel/EO_Healthy_and_MDD_fif/h9_eo_cropped_raw.fif',\n",
              " '/content/drive/MyDrive/2022-04-26_project_emmanuel/EO_Healthy_and_MDD_fif/h3_eo_cropped_raw.fif',\n",
              " '/content/drive/MyDrive/2022-04-26_project_emmanuel/EO_Healthy_and_MDD_fif/mdd1_eo_cropped_raw.fif',\n",
              " '/content/drive/MyDrive/2022-04-26_project_emmanuel/EO_Healthy_and_MDD_fif/mdd10_eo_cropped_raw.fif',\n",
              " '/content/drive/MyDrive/2022-04-26_project_emmanuel/EO_Healthy_and_MDD_fif/mdd11_eo_cropped_raw.fif',\n",
              " '/content/drive/MyDrive/2022-04-26_project_emmanuel/EO_Healthy_and_MDD_fif/mdd12_eo_cropped_raw.fif',\n",
              " '/content/drive/MyDrive/2022-04-26_project_emmanuel/EO_Healthy_and_MDD_fif/mdd13_eo_cropped_raw.fif',\n",
              " '/content/drive/MyDrive/2022-04-26_project_emmanuel/EO_Healthy_and_MDD_fif/mdd14_eo_cropped_raw.fif',\n",
              " '/content/drive/MyDrive/2022-04-26_project_emmanuel/EO_Healthy_and_MDD_fif/mdd15_eo_cropped_raw.fif',\n",
              " '/content/drive/MyDrive/2022-04-26_project_emmanuel/EO_Healthy_and_MDD_fif/mdd16_eo_cropped_raw.fif',\n",
              " '/content/drive/MyDrive/2022-04-26_project_emmanuel/EO_Healthy_and_MDD_fif/mdd17_eo_cropped_raw.fif',\n",
              " '/content/drive/MyDrive/2022-04-26_project_emmanuel/EO_Healthy_and_MDD_fif/mdd18_eo_cropped_raw.fif',\n",
              " '/content/drive/MyDrive/2022-04-26_project_emmanuel/EO_Healthy_and_MDD_fif/mdd19_eo_cropped_raw.fif',\n",
              " '/content/drive/MyDrive/2022-04-26_project_emmanuel/EO_Healthy_and_MDD_fif/mdd2_eo_cropped_raw.fif',\n",
              " '/content/drive/MyDrive/2022-04-26_project_emmanuel/EO_Healthy_and_MDD_fif/mdd20_eo_cropped_raw.fif',\n",
              " '/content/drive/MyDrive/2022-04-26_project_emmanuel/EO_Healthy_and_MDD_fif/mdd21_eo_cropped_raw.fif',\n",
              " '/content/drive/MyDrive/2022-04-26_project_emmanuel/EO_Healthy_and_MDD_fif/mdd22_eo_cropped_raw.fif',\n",
              " '/content/drive/MyDrive/2022-04-26_project_emmanuel/EO_Healthy_and_MDD_fif/mdd23_eo_cropped_raw.fif',\n",
              " '/content/drive/MyDrive/2022-04-26_project_emmanuel/EO_Healthy_and_MDD_fif/mdd24_eo_cropped_raw.fif',\n",
              " '/content/drive/MyDrive/2022-04-26_project_emmanuel/EO_Healthy_and_MDD_fif/mdd25_eo_cropped_raw.fif',\n",
              " '/content/drive/MyDrive/2022-04-26_project_emmanuel/EO_Healthy_and_MDD_fif/mdd26_eo_cropped_raw.fif',\n",
              " '/content/drive/MyDrive/2022-04-26_project_emmanuel/EO_Healthy_and_MDD_fif/mdd27_eo_cropped_raw.fif',\n",
              " '/content/drive/MyDrive/2022-04-26_project_emmanuel/EO_Healthy_and_MDD_fif/mdd28_eo_cropped_raw.fif',\n",
              " '/content/drive/MyDrive/2022-04-26_project_emmanuel/EO_Healthy_and_MDD_fif/mdd29_eo_cropped_raw.fif',\n",
              " '/content/drive/MyDrive/2022-04-26_project_emmanuel/EO_Healthy_and_MDD_fif/mdd3_eo_cropped_raw.fif',\n",
              " '/content/drive/MyDrive/2022-04-26_project_emmanuel/EO_Healthy_and_MDD_fif/mdd30_eo_cropped_raw.fif',\n",
              " '/content/drive/MyDrive/2022-04-26_project_emmanuel/EO_Healthy_and_MDD_fif/mdd31_eo_cropped_raw.fif',\n",
              " '/content/drive/MyDrive/2022-04-26_project_emmanuel/EO_Healthy_and_MDD_fif/mdd32_eo_cropped_raw.fif',\n",
              " '/content/drive/MyDrive/2022-04-26_project_emmanuel/EO_Healthy_and_MDD_fif/mdd33_eo_cropped_raw.fif',\n",
              " '/content/drive/MyDrive/2022-04-26_project_emmanuel/EO_Healthy_and_MDD_fif/mdd34_eo_cropped_raw.fif',\n",
              " '/content/drive/MyDrive/2022-04-26_project_emmanuel/EO_Healthy_and_MDD_fif/mdd4_eo_cropped_raw.fif',\n",
              " '/content/drive/MyDrive/2022-04-26_project_emmanuel/EO_Healthy_and_MDD_fif/mdd5_eo_cropped_raw.fif',\n",
              " '/content/drive/MyDrive/2022-04-26_project_emmanuel/EO_Healthy_and_MDD_fif/mdd6_eo_cropped_raw.fif',\n",
              " '/content/drive/MyDrive/2022-04-26_project_emmanuel/EO_Healthy_and_MDD_fif/mdd9_eo_cropped_raw.fif']"
            ]
          },
          "metadata": {},
          "execution_count": 6
        }
      ]
    },
    {
      "cell_type": "markdown",
      "source": [
        "# Separating the Healthy Subjects and MDD Patients"
      ],
      "metadata": {
        "id": "dnmFl35SfxR0"
      }
    },
    {
      "cell_type": "code",
      "source": [
        "healthy_file_path = [i for i in all_file_path if 'h' in i.split('/')[6]]\n",
        "patient_file_path = [i for i in all_file_path if 'm' in i.split('/')[6]]\n",
        "print(len(healthy_file_path), len(patient_file_path))"
      ],
      "metadata": {
        "colab": {
          "base_uri": "https://localhost:8080/"
        },
        "id": "jQqcgEwaUJf9",
        "outputId": "6fc12da6-4d47-4621-d903-816416278201"
      },
      "execution_count": null,
      "outputs": [
        {
          "output_type": "stream",
          "name": "stdout",
          "text": [
            "29 32\n"
          ]
        }
      ]
    },
    {
      "cell_type": "markdown",
      "source": [
        "# **Reading the File Path and Getting the Data from One File**"
      ],
      "metadata": {
        "id": "0g7iMhNnfqIf"
      }
    },
    {
      "cell_type": "code",
      "source": [
        "def read_data(file_path):\n",
        "    data = mne.io.read_raw_fif(file_path, preload = True)\n",
        "    data.set_eeg_reference()\n",
        "    data.filter(l_freq = 0.5, h_freq = 45)\n",
        "    epochs = mne.make_fixed_length_epochs(data, duration = 5, overlap = 1)\n",
        "    array = epochs.get_data()\n",
        "    return array"
      ],
      "metadata": {
        "id": "z5FuUzgjURYn"
      },
      "execution_count": null,
      "outputs": []
    },
    {
      "cell_type": "code",
      "source": [
        "sample_data = read_data(healthy_file_path[0])"
      ],
      "metadata": {
        "colab": {
          "base_uri": "https://localhost:8080/"
        },
        "id": "oAygQl-6UyVA",
        "outputId": "f5bdfa59-b0a8-4c16-c0a9-291e30547047"
      },
      "execution_count": null,
      "outputs": [
        {
          "output_type": "stream",
          "name": "stdout",
          "text": [
            "Opening raw data file /content/drive/MyDrive/2022-04-26_project_emmanuel/EO_Healthy_and_MDD_fif/h15a_eo_cropped_raw.fif...\n",
            "Isotrak not found\n",
            "    Range : 0 ... 77311 =      0.000 ...   301.996 secs\n",
            "Ready.\n",
            "Reading 0 ... 77311  =      0.000 ...   301.996 secs...\n",
            "EEG channel type selected for re-referencing\n",
            "Applying average reference.\n",
            "Applying a custom ('EEG',) reference.\n",
            "Filtering raw data in 1 contiguous segment\n",
            "Setting up band-pass filter from 0.5 - 45 Hz\n",
            "\n",
            "FIR filter parameters\n",
            "---------------------\n",
            "Designing a one-pass, zero-phase, non-causal bandpass filter:\n",
            "- Windowed time-domain design (firwin) method\n",
            "- Hamming window with 0.0194 passband ripple and 53 dB stopband attenuation\n",
            "- Lower passband edge: 0.50\n",
            "- Lower transition bandwidth: 0.50 Hz (-6 dB cutoff frequency: 0.25 Hz)\n",
            "- Upper passband edge: 45.00 Hz\n",
            "- Upper transition bandwidth: 11.25 Hz (-6 dB cutoff frequency: 50.62 Hz)\n",
            "- Filter length: 1691 samples (6.605 sec)\n",
            "\n",
            "Not setting metadata\n",
            "75 matching events found\n",
            "No baseline correction applied\n",
            "0 projection items activated\n",
            "Using data from preloaded Raw for 75 events and 1280 original time points ...\n",
            "0 bad epochs dropped\n"
          ]
        }
      ]
    },
    {
      "cell_type": "code",
      "source": [
        "sample_data.shape # no. of epochs, channels, length of signals "
      ],
      "metadata": {
        "id": "LETNmhOzU6oZ",
        "colab": {
          "base_uri": "https://localhost:8080/"
        },
        "outputId": "c486fe29-1652-47da-fefe-b63edfe0b88f"
      },
      "execution_count": null,
      "outputs": [
        {
          "output_type": "execute_result",
          "data": {
            "text/plain": [
              "(75, 20, 1280)"
            ]
          },
          "metadata": {},
          "execution_count": 10
        }
      ]
    },
    {
      "cell_type": "markdown",
      "source": [
        "# **Reading the File Path and Getting the Data from All File**"
      ],
      "metadata": {
        "id": "CBmmYrpEfi6k"
      }
    },
    {
      "cell_type": "code",
      "source": [
        "%%capture\n",
        "control_epochs_array = [read_data(i) for i in healthy_file_path]\n",
        "patient_epochs_array = [read_data(i) for i in patient_file_path]"
      ],
      "metadata": {
        "id": "ETpdug2TU_j_"
      },
      "execution_count": null,
      "outputs": []
    },
    {
      "cell_type": "code",
      "source": [
        "control_epochs_array[0].shape, control_epochs_array[1].shape, control_epochs_array[2].shape, control_epochs_array[3].shape, control_epochs_array[4].shape#, control_epochs_array[5].shape, control_epochs_array[6].shape, control_epochs_array[7].shape, control_epochs_array[8].shape, control_epochs_array[9].shape, control_epochs_array[10].shape, control_epochs_array[11].shape, control_epochs_array[12].shape, control_epochs_array[38].shape, control_epochs_array[14].shape"
      ],
      "metadata": {
        "id": "YoSdotYhVDy8",
        "colab": {
          "base_uri": "https://localhost:8080/"
        },
        "outputId": "6fdcd492-a6d9-4056-950a-010aab8bb193"
      },
      "execution_count": null,
      "outputs": [
        {
          "output_type": "execute_result",
          "data": {
            "text/plain": [
              "((75, 20, 1280),\n",
              " (75, 20, 1280),\n",
              " (87, 20, 1280),\n",
              " (74, 20, 1280),\n",
              " (75, 20, 1280))"
            ]
          },
          "metadata": {},
          "execution_count": 12
        }
      ]
    },
    {
      "cell_type": "code",
      "source": [
        "control_epochs_array[0].shape"
      ],
      "metadata": {
        "id": "Xr-zDsKnXD4E",
        "colab": {
          "base_uri": "https://localhost:8080/"
        },
        "outputId": "38a794be-26c8-4d88-fe5e-a57612a3ed88"
      },
      "execution_count": null,
      "outputs": [
        {
          "output_type": "execute_result",
          "data": {
            "text/plain": [
              "(75, 20, 1280)"
            ]
          },
          "metadata": {},
          "execution_count": 13
        }
      ]
    },
    {
      "cell_type": "code",
      "source": [
        "patient_epochs_array[0].shape, patient_epochs_array[1].shape, patient_epochs_array[2].shape, patient_epochs_array[3].shape#, control_epochs_array[4].shape#, control_epochs_array[5].shape#, control_epochs_array[6].shape#, control_epochs_array[7].shape,  "
      ],
      "metadata": {
        "id": "y5FBOwgtVOxE",
        "colab": {
          "base_uri": "https://localhost:8080/"
        },
        "outputId": "9eaeba68-2feb-4059-bbbf-019271e6a401"
      },
      "execution_count": null,
      "outputs": [
        {
          "output_type": "execute_result",
          "data": {
            "text/plain": [
              "((75, 20, 1280), (74, 20, 1280), (74, 20, 1280), (47, 20, 1280))"
            ]
          },
          "metadata": {},
          "execution_count": 14
        }
      ]
    },
    {
      "cell_type": "markdown",
      "source": [
        "# **Creating the Labels**"
      ],
      "metadata": {
        "id": "Qd34s4n5faMg"
      }
    },
    {
      "cell_type": "code",
      "source": [
        "control_epochs_labels = [len(i)*[0] for i in control_epochs_array]\n",
        "patient_epochs_labels = [len(i)*[1] for i in patient_epochs_array]\n",
        "len(control_epochs_labels), len(patient_epochs_labels)"
      ],
      "metadata": {
        "id": "DQOinvScVV4-",
        "colab": {
          "base_uri": "https://localhost:8080/"
        },
        "outputId": "2bd933ea-8126-42f4-d686-759fa042bd0c"
      },
      "execution_count": null,
      "outputs": [
        {
          "output_type": "execute_result",
          "data": {
            "text/plain": [
              "(29, 32)"
            ]
          },
          "metadata": {},
          "execution_count": 15
        }
      ]
    },
    {
      "cell_type": "markdown",
      "source": [
        "# **Combining Both the Healthy and MDD Files**"
      ],
      "metadata": {
        "id": "y2hDs1fvfUJ9"
      }
    },
    {
      "cell_type": "code",
      "source": [
        "data_list = control_epochs_array + patient_epochs_array\n",
        "label_list = control_epochs_labels + patient_epochs_labels"
      ],
      "metadata": {
        "id": "cj3_OnaCVaEz"
      },
      "execution_count": null,
      "outputs": []
    },
    {
      "cell_type": "markdown",
      "source": [
        "# **Spletting the Dataset in the Basis of Epochs**"
      ],
      "metadata": {
        "id": "sG4XUzohfRDw"
      }
    },
    {
      "cell_type": "code",
      "source": [
        "epochs_array=control_epochs_array+patient_epochs_array\n",
        "epochs_labels=control_epochs_labels+patient_epochs_labels\n",
        "print(len(epochs_array),len(epochs_labels))"
      ],
      "metadata": {
        "id": "RNWrq7idVde1",
        "colab": {
          "base_uri": "https://localhost:8080/"
        },
        "outputId": "b13bfb74-316b-4e9e-88a4-dc8a7ba82efd"
      },
      "execution_count": null,
      "outputs": [
        {
          "output_type": "stream",
          "name": "stdout",
          "text": [
            "61 61\n"
          ]
        }
      ]
    },
    {
      "cell_type": "markdown",
      "source": [
        "# **Creating Groups**"
      ],
      "metadata": {
        "id": "jz2YIU4ofJho"
      }
    },
    {
      "cell_type": "code",
      "source": [
        "groups = [[i]*len(j) for i,j in enumerate(data_list)]\n",
        "len(groups)"
      ],
      "metadata": {
        "id": "BeyYu8rxVgbV",
        "colab": {
          "base_uri": "https://localhost:8080/"
        },
        "outputId": "fb9d6930-3767-45fb-b157-3bfe1b478eb8"
      },
      "execution_count": null,
      "outputs": [
        {
          "output_type": "execute_result",
          "data": {
            "text/plain": [
              "61"
            ]
          },
          "metadata": {},
          "execution_count": 18
        }
      ]
    },
    {
      "cell_type": "markdown",
      "source": [
        "# **Converting the Data from List to array**"
      ],
      "metadata": {
        "id": "cwgnYMHafGJb"
      }
    },
    {
      "cell_type": "code",
      "source": [
        "data_array = np.vstack(data_list)\n",
        "label_array = np.hstack(label_list)\n",
        "groups_array = np.hstack(groups)\n",
        "print(data_array.shape, label_array.shape, groups_array.shape)"
      ],
      "metadata": {
        "id": "AI1kM-3HVj-u",
        "colab": {
          "base_uri": "https://localhost:8080/"
        },
        "outputId": "97dd7a10-60d6-4447-e79b-6d1c486f3e49"
      },
      "execution_count": null,
      "outputs": [
        {
          "output_type": "stream",
          "name": "stdout",
          "text": [
            "(4513, 20, 1280) (4513,) (4513,)\n"
          ]
        }
      ]
    },
    {
      "cell_type": "code",
      "source": [
        "epochs_array=np.vstack(epochs_array)\n",
        "epochs_labels=np.hstack(epochs_labels)\n",
        "groups_array=np.hstack(groups)"
      ],
      "metadata": {
        "id": "jkjHWQh5e9ib"
      },
      "execution_count": null,
      "outputs": []
    },
    {
      "cell_type": "code",
      "source": [
        "epochs_array.shape,epochs_labels.shape,groups_array.shape"
      ],
      "metadata": {
        "id": "yykC0reajuqc",
        "colab": {
          "base_uri": "https://localhost:8080/"
        },
        "outputId": "2403ee16-cb6c-4572-9bcb-0509e686409c"
      },
      "execution_count": null,
      "outputs": [
        {
          "output_type": "execute_result",
          "data": {
            "text/plain": [
              "((4513, 20, 1280), (4513,), (4513,))"
            ]
          },
          "metadata": {},
          "execution_count": 21
        }
      ]
    },
    {
      "cell_type": "markdown",
      "source": [
        "# **Moving the Channel to the End**"
      ],
      "metadata": {
        "id": "8XawZ5ELexuz"
      }
    },
    {
      "cell_type": "code",
      "source": [
        "epochs_array=np.moveaxis(epochs_array,1,2)\n",
        "epochs_array.shape"
      ],
      "metadata": {
        "id": "9tfetxojj1Ko",
        "colab": {
          "base_uri": "https://localhost:8080/"
        },
        "outputId": "8a54c7cf-dea1-4aa7-c7d8-dbfe68d898a5"
      },
      "execution_count": null,
      "outputs": [
        {
          "output_type": "execute_result",
          "data": {
            "text/plain": [
              "(4513, 1280, 20)"
            ]
          },
          "metadata": {},
          "execution_count": 22
        }
      ]
    },
    {
      "cell_type": "markdown",
      "source": [
        "# **Creating CNN Model**"
      ],
      "metadata": {
        "id": "YZ2XI-LwesZh"
      }
    },
    {
      "cell_type": "code",
      "source": [
        "from tensorflow.keras.layers import Conv1D,BatchNormalization,LeakyReLU,MaxPool1D,\\\n",
        "GlobalAveragePooling1D,Dense,Dropout,AveragePooling1D\n",
        "from tensorflow.keras.models import Sequential\n",
        "from tensorflow.keras.backend import clear_session\n",
        "def cnnmodel():\n",
        "    clear_session()\n",
        "    model=Sequential()\n",
        "    model.add(Conv1D(filters=5,kernel_size=3,strides=1,input_shape=(1280,20)))#1\n",
        "    model.add(BatchNormalization())\n",
        "    model.add(LeakyReLU())\n",
        "    model.add(MaxPool1D(pool_size=2,strides=2))#2\n",
        "    model.add(Conv1D(filters=5,kernel_size=3,strides=1))#3\n",
        "    model.add(LeakyReLU())\n",
        "    model.add(MaxPool1D(pool_size=2,strides=2))#4\n",
        "    model.add(Dropout(0.5))\n",
        "    model.add(Conv1D(filters=5,kernel_size=3,strides=1))#5\n",
        "    model.add(LeakyReLU())\n",
        "    model.add(AveragePooling1D(pool_size=2,strides=2))#6\n",
        "    model.add(Dropout(0.5))\n",
        "    model.add(Conv1D(filters=5,kernel_size=3,strides=1))#7\n",
        "    model.add(LeakyReLU())\n",
        "    model.add(AveragePooling1D(pool_size=2,strides=2))#8\n",
        "    model.add(Conv1D(filters=5,kernel_size=3,strides=1))#9\n",
        "    model.add(LeakyReLU())\n",
        "    model.add(GlobalAveragePooling1D())#10\n",
        "    model.add(Dense(1,activation='sigmoid'))#11\n",
        "    \n",
        "    model.compile('adam',loss='binary_crossentropy',metrics=['accuracy'])\n",
        "    return model\n",
        "\n",
        "model=cnnmodel()\n",
        "model.summary()"
      ],
      "metadata": {
        "id": "teDifyCnj4XU",
        "colab": {
          "base_uri": "https://localhost:8080/"
        },
        "outputId": "99f02972-d454-4d56-f918-4a4b4c0779c9"
      },
      "execution_count": null,
      "outputs": [
        {
          "output_type": "stream",
          "name": "stdout",
          "text": [
            "Model: \"sequential\"\n",
            "_________________________________________________________________\n",
            " Layer (type)                Output Shape              Param #   \n",
            "=================================================================\n",
            " conv1d (Conv1D)             (None, 1278, 5)           305       \n",
            "                                                                 \n",
            " batch_normalization (BatchN  (None, 1278, 5)          20        \n",
            " ormalization)                                                   \n",
            "                                                                 \n",
            " leaky_re_lu (LeakyReLU)     (None, 1278, 5)           0         \n",
            "                                                                 \n",
            " max_pooling1d (MaxPooling1D  (None, 639, 5)           0         \n",
            " )                                                               \n",
            "                                                                 \n",
            " conv1d_1 (Conv1D)           (None, 637, 5)            80        \n",
            "                                                                 \n",
            " leaky_re_lu_1 (LeakyReLU)   (None, 637, 5)            0         \n",
            "                                                                 \n",
            " max_pooling1d_1 (MaxPooling  (None, 318, 5)           0         \n",
            " 1D)                                                             \n",
            "                                                                 \n",
            " dropout (Dropout)           (None, 318, 5)            0         \n",
            "                                                                 \n",
            " conv1d_2 (Conv1D)           (None, 316, 5)            80        \n",
            "                                                                 \n",
            " leaky_re_lu_2 (LeakyReLU)   (None, 316, 5)            0         \n",
            "                                                                 \n",
            " average_pooling1d (AverageP  (None, 158, 5)           0         \n",
            " ooling1D)                                                       \n",
            "                                                                 \n",
            " dropout_1 (Dropout)         (None, 158, 5)            0         \n",
            "                                                                 \n",
            " conv1d_3 (Conv1D)           (None, 156, 5)            80        \n",
            "                                                                 \n",
            " leaky_re_lu_3 (LeakyReLU)   (None, 156, 5)            0         \n",
            "                                                                 \n",
            " average_pooling1d_1 (Averag  (None, 78, 5)            0         \n",
            " ePooling1D)                                                     \n",
            "                                                                 \n",
            " conv1d_4 (Conv1D)           (None, 76, 5)             80        \n",
            "                                                                 \n",
            " leaky_re_lu_4 (LeakyReLU)   (None, 76, 5)             0         \n",
            "                                                                 \n",
            " global_average_pooling1d (G  (None, 5)                0         \n",
            " lobalAveragePooling1D)                                          \n",
            "                                                                 \n",
            " dense (Dense)               (None, 1)                 6         \n",
            "                                                                 \n",
            "=================================================================\n",
            "Total params: 651\n",
            "Trainable params: 641\n",
            "Non-trainable params: 10\n",
            "_________________________________________________________________\n"
          ]
        }
      ]
    },
    {
      "cell_type": "code",
      "source": [
        "from sklearn.model_selection import GroupKFold, LeaveOneGroupOut\n",
        "from sklearn.preprocessing import StandardScaler\n",
        "gkf=GroupKFold()"
      ],
      "metadata": {
        "id": "zEAUXkndj5LS"
      },
      "execution_count": null,
      "outputs": []
    },
    {
      "cell_type": "code",
      "source": [
        "accuracy=[]\n",
        "for train_index,val_index in gkf.split(epochs_array,epochs_labels,groups=groups_array):\n",
        "    train_features,train_labels=epochs_array[train_index],epochs_labels[train_index]\n",
        "    val_features,val_labels=epochs_array[val_index],epochs_labels[val_index]\n",
        "    scalar=StandardScaler()\n",
        "    train_features=scalar.fit_transform(train_features.reshape(-1,train_features.shape[-1])).reshape(train_features.shape)\n",
        "    val_features=scalar.transform(val_features.reshape(-1,val_features.shape[-1])).reshape(val_features.shape)\n",
        "    model=cnnmodel()\n",
        "    model.fit(train_features,train_labels,epochs=10,batch_size=100,validation_data=(val_features,val_labels))\n",
        "    accuracy.append(model.evaluate(val_features,val_labels)[1])"
      ],
      "metadata": {
        "id": "idD3tW9cj5Wz",
        "colab": {
          "base_uri": "https://localhost:8080/"
        },
        "outputId": "3dd41d7e-59dc-4df8-bcf4-39ab4bfba879"
      },
      "execution_count": null,
      "outputs": [
        {
          "output_type": "stream",
          "name": "stdout",
          "text": [
            "Epoch 1/10\n",
            "36/36 [==============================] - 12s 32ms/step - loss: 0.6890 - accuracy: 0.5318 - val_loss: 0.6810 - val_accuracy: 0.3991\n",
            "Epoch 2/10\n",
            "36/36 [==============================] - 0s 14ms/step - loss: 0.6475 - accuracy: 0.5145 - val_loss: 0.6055 - val_accuracy: 0.6958\n",
            "Epoch 3/10\n",
            "36/36 [==============================] - 0s 13ms/step - loss: 0.5641 - accuracy: 0.7036 - val_loss: 0.4736 - val_accuracy: 0.8252\n",
            "Epoch 4/10\n",
            "36/36 [==============================] - 1s 14ms/step - loss: 0.4783 - accuracy: 0.7490 - val_loss: 0.4421 - val_accuracy: 0.8188\n",
            "Epoch 5/10\n",
            "36/36 [==============================] - 1s 14ms/step - loss: 0.3917 - accuracy: 0.8118 - val_loss: 0.4678 - val_accuracy: 0.8112\n",
            "Epoch 6/10\n",
            "36/36 [==============================] - 1s 14ms/step - loss: 0.3251 - accuracy: 0.8519 - val_loss: 0.4941 - val_accuracy: 0.8101\n",
            "Epoch 7/10\n",
            "36/36 [==============================] - 0s 14ms/step - loss: 0.2866 - accuracy: 0.8753 - val_loss: 0.6400 - val_accuracy: 0.7799\n",
            "Epoch 8/10\n",
            "36/36 [==============================] - 1s 14ms/step - loss: 0.2613 - accuracy: 0.8885 - val_loss: 0.6084 - val_accuracy: 0.8004\n",
            "Epoch 9/10\n",
            "36/36 [==============================] - 1s 14ms/step - loss: 0.2308 - accuracy: 0.9063 - val_loss: 0.6161 - val_accuracy: 0.7972\n",
            "Epoch 10/10\n",
            "36/36 [==============================] - 1s 14ms/step - loss: 0.2128 - accuracy: 0.9113 - val_loss: 0.6166 - val_accuracy: 0.8145\n",
            "29/29 [==============================] - 0s 6ms/step - loss: 0.6166 - accuracy: 0.8145\n",
            "Epoch 1/10\n",
            "37/37 [==============================] - 2s 31ms/step - loss: 0.6966 - accuracy: 0.5603 - val_loss: 0.6894 - val_accuracy: 0.6310\n",
            "Epoch 2/10\n",
            "37/37 [==============================] - 1s 14ms/step - loss: 0.6765 - accuracy: 0.6145 - val_loss: 0.6793 - val_accuracy: 0.5039\n",
            "Epoch 3/10\n",
            "37/37 [==============================] - 0s 13ms/step - loss: 0.6067 - accuracy: 0.6925 - val_loss: 0.6647 - val_accuracy: 0.4905\n",
            "Epoch 4/10\n",
            "37/37 [==============================] - 0s 13ms/step - loss: 0.5251 - accuracy: 0.7506 - val_loss: 0.7160 - val_accuracy: 0.5485\n",
            "Epoch 5/10\n",
            "37/37 [==============================] - 0s 13ms/step - loss: 0.4805 - accuracy: 0.7658 - val_loss: 0.6798 - val_accuracy: 0.5585\n",
            "Epoch 6/10\n",
            "37/37 [==============================] - 1s 14ms/step - loss: 0.4430 - accuracy: 0.7815 - val_loss: 0.6143 - val_accuracy: 0.6087\n",
            "Epoch 7/10\n",
            "37/37 [==============================] - 1s 14ms/step - loss: 0.4105 - accuracy: 0.7965 - val_loss: 0.5242 - val_accuracy: 0.6756\n",
            "Epoch 8/10\n",
            "37/37 [==============================] - 0s 13ms/step - loss: 0.3793 - accuracy: 0.8200 - val_loss: 0.4369 - val_accuracy: 0.7848\n",
            "Epoch 9/10\n",
            "37/37 [==============================] - 0s 13ms/step - loss: 0.3352 - accuracy: 0.8501 - val_loss: 0.3868 - val_accuracy: 0.8384\n",
            "Epoch 10/10\n",
            "37/37 [==============================] - 0s 13ms/step - loss: 0.2967 - accuracy: 0.8662 - val_loss: 0.3528 - val_accuracy: 0.8673\n",
            "29/29 [==============================] - 0s 6ms/step - loss: 0.3528 - accuracy: 0.8673\n",
            "Epoch 1/10\n",
            "37/37 [==============================] - 2s 22ms/step - loss: 0.6890 - accuracy: 0.5691 - val_loss: 0.7366 - val_accuracy: 0.3300\n",
            "Epoch 2/10\n",
            "37/37 [==============================] - 1s 14ms/step - loss: 0.6800 - accuracy: 0.5691 - val_loss: 0.7639 - val_accuracy: 0.3300\n",
            "Epoch 3/10\n",
            "37/37 [==============================] - 1s 14ms/step - loss: 0.6641 - accuracy: 0.5777 - val_loss: 0.7123 - val_accuracy: 0.3523\n",
            "Epoch 4/10\n",
            "37/37 [==============================] - 1s 14ms/step - loss: 0.5835 - accuracy: 0.7157 - val_loss: 0.4558 - val_accuracy: 0.7480\n",
            "Epoch 5/10\n",
            "37/37 [==============================] - 1s 15ms/step - loss: 0.4816 - accuracy: 0.7561 - val_loss: 0.3806 - val_accuracy: 0.8194\n",
            "Epoch 6/10\n",
            "37/37 [==============================] - 1s 15ms/step - loss: 0.4096 - accuracy: 0.8108 - val_loss: 0.3958 - val_accuracy: 0.8473\n",
            "Epoch 7/10\n",
            "37/37 [==============================] - 1s 14ms/step - loss: 0.3592 - accuracy: 0.8382 - val_loss: 0.4284 - val_accuracy: 0.8428\n",
            "Epoch 8/10\n",
            "37/37 [==============================] - 1s 14ms/step - loss: 0.3125 - accuracy: 0.8648 - val_loss: 0.5101 - val_accuracy: 0.8573\n",
            "Epoch 9/10\n",
            "37/37 [==============================] - 1s 14ms/step - loss: 0.2802 - accuracy: 0.8830 - val_loss: 0.6296 - val_accuracy: 0.8439\n",
            "Epoch 10/10\n",
            "37/37 [==============================] - 1s 16ms/step - loss: 0.2464 - accuracy: 0.9046 - val_loss: 0.7588 - val_accuracy: 0.8350\n",
            "29/29 [==============================] - 0s 5ms/step - loss: 0.7588 - accuracy: 0.8350\n",
            "Epoch 1/10\n",
            "37/37 [==============================] - 2s 30ms/step - loss: 0.6780 - accuracy: 0.4968 - val_loss: 0.6527 - val_accuracy: 0.4386\n",
            "Epoch 2/10\n",
            "37/37 [==============================] - 1s 14ms/step - loss: 0.6226 - accuracy: 0.5557 - val_loss: 0.5902 - val_accuracy: 0.7254\n",
            "Epoch 3/10\n",
            "37/37 [==============================] - 1s 14ms/step - loss: 0.5638 - accuracy: 0.6926 - val_loss: 0.5602 - val_accuracy: 0.7467\n",
            "Epoch 4/10\n",
            "37/37 [==============================] - 1s 14ms/step - loss: 0.5207 - accuracy: 0.7050 - val_loss: 0.5306 - val_accuracy: 0.7467\n",
            "Epoch 5/10\n",
            "37/37 [==============================] - 0s 13ms/step - loss: 0.4746 - accuracy: 0.7625 - val_loss: 0.5193 - val_accuracy: 0.7478\n",
            "Epoch 6/10\n",
            "37/37 [==============================] - 0s 13ms/step - loss: 0.3965 - accuracy: 0.8333 - val_loss: 0.4599 - val_accuracy: 0.7801\n",
            "Epoch 7/10\n",
            "37/37 [==============================] - 1s 14ms/step - loss: 0.3270 - accuracy: 0.8667 - val_loss: 0.5199 - val_accuracy: 0.7366\n",
            "Epoch 8/10\n",
            "37/37 [==============================] - 0s 13ms/step - loss: 0.2849 - accuracy: 0.8808 - val_loss: 0.4832 - val_accuracy: 0.7567\n",
            "Epoch 9/10\n",
            "37/37 [==============================] - 0s 13ms/step - loss: 0.2631 - accuracy: 0.8969 - val_loss: 0.5156 - val_accuracy: 0.7612\n",
            "Epoch 10/10\n",
            "37/37 [==============================] - 1s 13ms/step - loss: 0.2514 - accuracy: 0.8960 - val_loss: 0.5448 - val_accuracy: 0.7623\n",
            "28/28 [==============================] - 0s 5ms/step - loss: 0.5448 - accuracy: 0.7623\n",
            "Epoch 1/10\n",
            "37/37 [==============================] - 2s 23ms/step - loss: 0.6641 - accuracy: 0.5129 - val_loss: 0.6961 - val_accuracy: 0.3337\n",
            "Epoch 2/10\n",
            "37/37 [==============================] - 1s 15ms/step - loss: 0.5926 - accuracy: 0.5698 - val_loss: 0.6317 - val_accuracy: 0.6607\n",
            "Epoch 3/10\n",
            "37/37 [==============================] - 1s 14ms/step - loss: 0.5293 - accuracy: 0.7097 - val_loss: 0.5605 - val_accuracy: 0.7321\n",
            "Epoch 4/10\n",
            "37/37 [==============================] - 1s 14ms/step - loss: 0.4736 - accuracy: 0.7371 - val_loss: 0.5783 - val_accuracy: 0.7020\n",
            "Epoch 5/10\n",
            "37/37 [==============================] - 1s 14ms/step - loss: 0.4236 - accuracy: 0.7940 - val_loss: 0.5920 - val_accuracy: 0.6920\n",
            "Epoch 6/10\n",
            "37/37 [==============================] - 1s 14ms/step - loss: 0.3744 - accuracy: 0.8264 - val_loss: 0.4772 - val_accuracy: 0.7600\n",
            "Epoch 7/10\n",
            "37/37 [==============================] - 1s 14ms/step - loss: 0.3457 - accuracy: 0.8524 - val_loss: 0.4922 - val_accuracy: 0.7589\n",
            "Epoch 8/10\n",
            "37/37 [==============================] - 0s 13ms/step - loss: 0.3167 - accuracy: 0.8634 - val_loss: 0.4666 - val_accuracy: 0.7690\n",
            "Epoch 9/10\n",
            "37/37 [==============================] - 0s 13ms/step - loss: 0.2870 - accuracy: 0.8789 - val_loss: 0.5210 - val_accuracy: 0.7734\n",
            "Epoch 10/10\n",
            "37/37 [==============================] - 1s 14ms/step - loss: 0.2708 - accuracy: 0.8831 - val_loss: 0.4917 - val_accuracy: 0.7779\n",
            "28/28 [==============================] - 0s 5ms/step - loss: 0.4917 - accuracy: 0.7779\n"
          ]
        }
      ]
    },
    {
      "cell_type": "markdown",
      "source": [
        "# **Accuracy**"
      ],
      "metadata": {
        "id": "WksWTfDGemJl"
      }
    },
    {
      "cell_type": "code",
      "source": [
        "np.mean(accuracy)"
      ],
      "metadata": {
        "id": "WOHoJt5qj5fm",
        "colab": {
          "base_uri": "https://localhost:8080/"
        },
        "outputId": "60567bc8-40cc-4081-c29c-55aa03903c3e"
      },
      "execution_count": null,
      "outputs": [
        {
          "output_type": "execute_result",
          "data": {
            "text/plain": [
              "0.8113949775695801"
            ]
          },
          "metadata": {},
          "execution_count": 26
        }
      ]
    },
    {
      "cell_type": "markdown",
      "source": [
        "# **End of the Time**"
      ],
      "metadata": {
        "id": "Zcgb9UAxeh6o"
      }
    },
    {
      "cell_type": "code",
      "source": [
        "end = time.time()\n",
        "print(\"Total time in sec:\",end - start)"
      ],
      "metadata": {
        "id": "BJkkBA8Lh9KL",
        "colab": {
          "base_uri": "https://localhost:8080/"
        },
        "outputId": "8d7892d5-7940-4b93-9f7a-2637f0d54490"
      },
      "execution_count": null,
      "outputs": [
        {
          "output_type": "stream",
          "name": "stdout",
          "text": [
            "Total time in sec: 107.00896143913269\n"
          ]
        }
      ]
    }
  ],
  "metadata": {
    "kernelspec": {
      "display_name": "Python 3 (ipykernel)",
      "language": "python",
      "name": "python3"
    },
    "language_info": {
      "codemirror_mode": {
        "name": "ipython",
        "version": 3
      },
      "file_extension": ".py",
      "mimetype": "text/x-python",
      "name": "python",
      "nbconvert_exporter": "python",
      "pygments_lexer": "ipython3",
      "version": "3.9.7"
    },
    "colab": {
      "name": "2022-May-28 EO EEG Classification(1D CNN).ipynb",
      "provenance": []
    },
    "accelerator": "GPU"
  },
  "nbformat": 4,
  "nbformat_minor": 0
}